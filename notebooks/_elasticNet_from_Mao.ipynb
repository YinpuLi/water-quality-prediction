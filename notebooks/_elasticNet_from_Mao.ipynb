{
 "cells": [
  {
   "cell_type": "code",
   "execution_count": 6,
   "metadata": {},
   "outputs": [],
   "source": [
    "import pandas as pd\n",
    "import numpy as np\n",
    "import matplotlib.pyplot as plt\n",
    "import seaborn as sns\n",
    "import os\n",
    "import sys\n",
    "from sklearn.neural_network import MLPRegressor\n",
    "from sklearn.linear_model import LinearRegression, ElasticNet\n",
    "from sklearn.ensemble import RandomForestRegressor\n",
    "from sklearn.model_selection import train_test_split, GridSearchCV\n",
    "from sklearn.metrics import make_scorer, mean_squared_error,mean_absolute_error\n",
    "\n",
    "from sklearn.preprocessing import StandardScaler, OneHotEncoder\n",
    "from sklearn.compose import ColumnTransformer\n",
    "from sklearn.pipeline import Pipeline\n",
    "\n",
    "\n",
    "import warnings\n",
    "warnings.filterwarnings(\"ignore\", category=DeprecationWarning)\n"
   ]
  },
  {
   "cell_type": "code",
   "execution_count": 2,
   "metadata": {},
   "outputs": [],
   "source": [
    "root_dir = os.path.abspath(os.path.join(os.getcwd(), '..'))\n",
    "sys.path.append(root_dir)\n",
    "\n",
    "from utils.utils import *\n",
    "from utils.constants import *"
   ]
  },
  {
   "cell_type": "code",
   "execution_count": 3,
   "metadata": {},
   "outputs": [],
   "source": [
    "# Import data\n",
    "\n",
    "\n",
    "y_train = pd.read_csv(get_absolute_path('y_train.csv', 'data'))\n",
    "y_test  = pd.read_csv(get_absolute_path('y_test.csv', 'data'))\n",
    "\n",
    "\n",
    "stack_train = pd.read_csv(get_absolute_path('stacked_X_tr.csv', 'data'))\n",
    "stack_test  = pd.read_csv(get_absolute_path('stacked_X_te.csv', 'data'))\n",
    "\n"
   ]
  },
  {
   "cell_type": "code",
   "execution_count": 4,
   "metadata": {},
   "outputs": [],
   "source": [
    "stack_train = stack_train.astype(column_data_extended_types)\n",
    "stack_test = stack_test.astype(column_data_extended_types)"
   ]
  },
  {
   "cell_type": "code",
   "execution_count": 5,
   "metadata": {},
   "outputs": [],
   "source": [
    "# Select numeric and categorical columns\n",
    "numeric_columns = stack_train.select_dtypes(include=['float64']).columns\n",
    "categorical_columns = [#'Date', \n",
    "                       'Location_ID',\n",
    "                    #    'Year',\n",
    "                       'Month',\n",
    "                       'Week',\n",
    "                       'Weekday',\n",
    "                       'Season'\n",
    "                       ]  # Add any categorical columns here\n",
    "\n",
    "# Create preprocessing transformers\n",
    "numeric_transformer = StandardScaler()  # we can use other scalers as well\n",
    "categorical_transformer = OneHotEncoder(drop=None)  # Use one-hot encoding for categorical columns\n",
    "\n",
    "# Create a column transformer\n",
    "preprocessor = ColumnTransformer(\n",
    "    transformers=[\n",
    "        ('num', numeric_transformer, numeric_columns),\n",
    "        ('cat', categorical_transformer, categorical_columns)\n",
    "    ]\n",
    ")\n",
    "\n",
    "# Fit the preprocessor on training data and transform both train and test data\n",
    "X_train_preprocessed = preprocessor.fit_transform(stack_train)\n",
    "X_test_preprocessed  = preprocessor.transform(stack_test)\n",
    "\n",
    "\n",
    "# Get the column names after one-hot encoding\n",
    "categorical_encoded_columns = preprocessor.named_transformers_['cat']\\\n",
    "                                    .get_feature_names_out(input_features=categorical_columns)\n",
    "\n",
    "# Convert X_train_preprocessed and X_test_preprocessed to DataFrames\n",
    "\n",
    "X_train_preprocessed_df = pd.DataFrame(X_train_preprocessed.toarray(), columns=np.concatenate([numeric_columns, categorical_encoded_columns]))\n",
    "X_test_preprocessed_df = pd.DataFrame(X_test_preprocessed.toarray(), columns=np.concatenate([numeric_columns, categorical_encoded_columns]))\n"
   ]
  },
  {
   "cell_type": "code",
   "execution_count": 7,
   "metadata": {},
   "outputs": [
    {
     "name": "stderr",
     "output_type": "stream",
     "text": [
      "/Users/yinpuli/opt/anaconda3/envs/py-311/lib/python3.11/site-packages/sklearn/linear_model/_coordinate_descent.py:631: ConvergenceWarning: Objective did not converge. You might want to increase the number of iterations, check the scale of the features or consider increasing regularisation. Duality gap: 3.456e-02, tolerance: 1.345e-03\n",
      "  model = cd_fast.enet_coordinate_descent(\n"
     ]
    },
    {
     "name": "stdout",
     "output_type": "stream",
     "text": [
      "Fitting 10 folds for each of 30 candidates, totalling 300 fits\n"
     ]
    },
    {
     "name": "stderr",
     "output_type": "stream",
     "text": [
      "/Users/yinpuli/opt/anaconda3/envs/py-311/lib/python3.11/site-packages/sklearn/linear_model/_coordinate_descent.py:592: ConvergenceWarning: Objective did not converge. You might want to increase the number of iterations. Duality gap: 0.933075604166565, tolerance: 0.0011854072143311723\n",
      "  model = cd_fast.sparse_enet_coordinate_descent(\n",
      "/Users/yinpuli/opt/anaconda3/envs/py-311/lib/python3.11/site-packages/sklearn/linear_model/_coordinate_descent.py:592: ConvergenceWarning: Objective did not converge. You might want to increase the number of iterations. Duality gap: 1.00501863674268, tolerance: 0.0011913694191539813\n",
      "  model = cd_fast.sparse_enet_coordinate_descent(\n",
      "/Users/yinpuli/opt/anaconda3/envs/py-311/lib/python3.11/site-packages/sklearn/linear_model/_coordinate_descent.py:592: ConvergenceWarning: Objective did not converge. You might want to increase the number of iterations. Duality gap: 1.0293542597748755, tolerance: 0.0012415428784079048\n",
      "  model = cd_fast.sparse_enet_coordinate_descent(\n",
      "/Users/yinpuli/opt/anaconda3/envs/py-311/lib/python3.11/site-packages/sklearn/linear_model/_coordinate_descent.py:592: ConvergenceWarning: Objective did not converge. You might want to increase the number of iterations. Duality gap: 0.9529328365081896, tolerance: 0.0012048233987934584\n",
      "  model = cd_fast.sparse_enet_coordinate_descent(\n",
      "/Users/yinpuli/opt/anaconda3/envs/py-311/lib/python3.11/site-packages/sklearn/linear_model/_coordinate_descent.py:592: ConvergenceWarning: Objective did not converge. You might want to increase the number of iterations. Duality gap: 0.9604651456869115, tolerance: 0.0012147893569766529\n",
      "  model = cd_fast.sparse_enet_coordinate_descent(\n",
      "/Users/yinpuli/opt/anaconda3/envs/py-311/lib/python3.11/site-packages/sklearn/linear_model/_coordinate_descent.py:592: ConvergenceWarning: Objective did not converge. You might want to increase the number of iterations. Duality gap: 1.0327038010152867, tolerance: 0.001248677872278597\n",
      "  model = cd_fast.sparse_enet_coordinate_descent(\n",
      "/Users/yinpuli/opt/anaconda3/envs/py-311/lib/python3.11/site-packages/sklearn/linear_model/_coordinate_descent.py:592: ConvergenceWarning: Objective did not converge. You might want to increase the number of iterations. Duality gap: 1.0506188663165912, tolerance: 0.0012374848617555452\n",
      "  model = cd_fast.sparse_enet_coordinate_descent(\n",
      "/Users/yinpuli/opt/anaconda3/envs/py-311/lib/python3.11/site-packages/sklearn/linear_model/_coordinate_descent.py:592: ConvergenceWarning: Objective did not converge. You might want to increase the number of iterations. Duality gap: 1.0080052715373158, tolerance: 0.0012314147617019263\n",
      "  model = cd_fast.sparse_enet_coordinate_descent(\n",
      "/Users/yinpuli/opt/anaconda3/envs/py-311/lib/python3.11/site-packages/sklearn/linear_model/_coordinate_descent.py:592: ConvergenceWarning: Objective did not converge. You might want to increase the number of iterations. Duality gap: 1.011403952108775, tolerance: 0.0012149666020089796\n",
      "  model = cd_fast.sparse_enet_coordinate_descent(\n",
      "/Users/yinpuli/opt/anaconda3/envs/py-311/lib/python3.11/site-packages/sklearn/linear_model/_coordinate_descent.py:592: ConvergenceWarning: Objective did not converge. You might want to increase the number of iterations. Duality gap: 0.9702190281787192, tolerance: 0.0011301215769259465\n",
      "  model = cd_fast.sparse_enet_coordinate_descent(\n",
      "/Users/yinpuli/opt/anaconda3/envs/py-311/lib/python3.11/site-packages/sklearn/linear_model/_coordinate_descent.py:592: ConvergenceWarning: Objective did not converge. You might want to increase the number of iterations. Duality gap: 0.8135425097072804, tolerance: 0.0011854072143311723\n",
      "  model = cd_fast.sparse_enet_coordinate_descent(\n",
      "/Users/yinpuli/opt/anaconda3/envs/py-311/lib/python3.11/site-packages/sklearn/linear_model/_coordinate_descent.py:592: ConvergenceWarning: Objective did not converge. You might want to increase the number of iterations. Duality gap: 0.8877972075253393, tolerance: 0.0011913694191539813\n",
      "  model = cd_fast.sparse_enet_coordinate_descent(\n",
      "/Users/yinpuli/opt/anaconda3/envs/py-311/lib/python3.11/site-packages/sklearn/linear_model/_coordinate_descent.py:592: ConvergenceWarning: Objective did not converge. You might want to increase the number of iterations. Duality gap: 0.904358837413164, tolerance: 0.0012415428784079048\n",
      "  model = cd_fast.sparse_enet_coordinate_descent(\n",
      "/Users/yinpuli/opt/anaconda3/envs/py-311/lib/python3.11/site-packages/sklearn/linear_model/_coordinate_descent.py:592: ConvergenceWarning: Objective did not converge. You might want to increase the number of iterations. Duality gap: 0.8316369390219753, tolerance: 0.0012048233987934584\n",
      "  model = cd_fast.sparse_enet_coordinate_descent(\n",
      "/Users/yinpuli/opt/anaconda3/envs/py-311/lib/python3.11/site-packages/sklearn/linear_model/_coordinate_descent.py:592: ConvergenceWarning: Objective did not converge. You might want to increase the number of iterations. Duality gap: 0.8423209861977585, tolerance: 0.0012147893569766529\n",
      "  model = cd_fast.sparse_enet_coordinate_descent(\n",
      "/Users/yinpuli/opt/anaconda3/envs/py-311/lib/python3.11/site-packages/sklearn/linear_model/_coordinate_descent.py:592: ConvergenceWarning: Objective did not converge. You might want to increase the number of iterations. Duality gap: 0.9110319513682243, tolerance: 0.001248677872278597\n",
      "  model = cd_fast.sparse_enet_coordinate_descent(\n",
      "/Users/yinpuli/opt/anaconda3/envs/py-311/lib/python3.11/site-packages/sklearn/linear_model/_coordinate_descent.py:592: ConvergenceWarning: Objective did not converge. You might want to increase the number of iterations. Duality gap: 0.9259209300752801, tolerance: 0.0012374848617555452\n",
      "  model = cd_fast.sparse_enet_coordinate_descent(\n",
      "/Users/yinpuli/opt/anaconda3/envs/py-311/lib/python3.11/site-packages/sklearn/linear_model/_coordinate_descent.py:592: ConvergenceWarning: Objective did not converge. You might want to increase the number of iterations. Duality gap: 0.8808975333833386, tolerance: 0.0012314147617019263\n",
      "  model = cd_fast.sparse_enet_coordinate_descent(\n",
      "/Users/yinpuli/opt/anaconda3/envs/py-311/lib/python3.11/site-packages/sklearn/linear_model/_coordinate_descent.py:592: ConvergenceWarning: Objective did not converge. You might want to increase the number of iterations. Duality gap: 0.8928258568014997, tolerance: 0.0012149666020089796\n",
      "  model = cd_fast.sparse_enet_coordinate_descent(\n",
      "/Users/yinpuli/opt/anaconda3/envs/py-311/lib/python3.11/site-packages/sklearn/linear_model/_coordinate_descent.py:592: ConvergenceWarning: Objective did not converge. You might want to increase the number of iterations. Duality gap: 0.855372617293776, tolerance: 0.0011301215769259465\n",
      "  model = cd_fast.sparse_enet_coordinate_descent(\n",
      "/Users/yinpuli/opt/anaconda3/envs/py-311/lib/python3.11/site-packages/sklearn/linear_model/_coordinate_descent.py:592: ConvergenceWarning: Objective did not converge. You might want to increase the number of iterations. Duality gap: 0.7904053516211244, tolerance: 0.0011854072143311723\n",
      "  model = cd_fast.sparse_enet_coordinate_descent(\n",
      "/Users/yinpuli/opt/anaconda3/envs/py-311/lib/python3.11/site-packages/sklearn/linear_model/_coordinate_descent.py:592: ConvergenceWarning: Objective did not converge. You might want to increase the number of iterations. Duality gap: 0.8651891320366728, tolerance: 0.0011913694191539813\n",
      "  model = cd_fast.sparse_enet_coordinate_descent(\n",
      "/Users/yinpuli/opt/anaconda3/envs/py-311/lib/python3.11/site-packages/sklearn/linear_model/_coordinate_descent.py:592: ConvergenceWarning: Objective did not converge. You might want to increase the number of iterations. Duality gap: 0.8803549718612933, tolerance: 0.0012415428784079048\n",
      "  model = cd_fast.sparse_enet_coordinate_descent(\n",
      "/Users/yinpuli/opt/anaconda3/envs/py-311/lib/python3.11/site-packages/sklearn/linear_model/_coordinate_descent.py:592: ConvergenceWarning: Objective did not converge. You might want to increase the number of iterations. Duality gap: 0.8081743569315849, tolerance: 0.0012048233987934584\n",
      "  model = cd_fast.sparse_enet_coordinate_descent(\n",
      "/Users/yinpuli/opt/anaconda3/envs/py-311/lib/python3.11/site-packages/sklearn/linear_model/_coordinate_descent.py:592: ConvergenceWarning: Objective did not converge. You might want to increase the number of iterations. Duality gap: 0.8198620761098051, tolerance: 0.0012147893569766529\n",
      "  model = cd_fast.sparse_enet_coordinate_descent(\n",
      "/Users/yinpuli/opt/anaconda3/envs/py-311/lib/python3.11/site-packages/sklearn/linear_model/_coordinate_descent.py:592: ConvergenceWarning: Objective did not converge. You might want to increase the number of iterations. Duality gap: 0.8874150986055588, tolerance: 0.001248677872278597\n",
      "  model = cd_fast.sparse_enet_coordinate_descent(\n",
      "/Users/yinpuli/opt/anaconda3/envs/py-311/lib/python3.11/site-packages/sklearn/linear_model/_coordinate_descent.py:592: ConvergenceWarning: Objective did not converge. You might want to increase the number of iterations. Duality gap: 0.9028749393810578, tolerance: 0.0012374848617555452\n",
      "  model = cd_fast.sparse_enet_coordinate_descent(\n",
      "/Users/yinpuli/opt/anaconda3/envs/py-311/lib/python3.11/site-packages/sklearn/linear_model/_coordinate_descent.py:592: ConvergenceWarning: Objective did not converge. You might want to increase the number of iterations. Duality gap: 0.8568769644353574, tolerance: 0.0012314147617019263\n",
      "  model = cd_fast.sparse_enet_coordinate_descent(\n",
      "/Users/yinpuli/opt/anaconda3/envs/py-311/lib/python3.11/site-packages/sklearn/linear_model/_coordinate_descent.py:592: ConvergenceWarning: Objective did not converge. You might want to increase the number of iterations. Duality gap: 0.8715283551901957, tolerance: 0.0012149666020089796\n",
      "  model = cd_fast.sparse_enet_coordinate_descent(\n",
      "/Users/yinpuli/opt/anaconda3/envs/py-311/lib/python3.11/site-packages/sklearn/linear_model/_coordinate_descent.py:592: ConvergenceWarning: Objective did not converge. You might want to increase the number of iterations. Duality gap: 0.832283306091572, tolerance: 0.0011301215769259465\n",
      "  model = cd_fast.sparse_enet_coordinate_descent(\n",
      "/Users/yinpuli/opt/anaconda3/envs/py-311/lib/python3.11/site-packages/sklearn/linear_model/_coordinate_descent.py:592: ConvergenceWarning: Objective did not converge. You might want to increase the number of iterations. Duality gap: 0.030169440337181053, tolerance: 0.0011854072143311723\n",
      "  model = cd_fast.sparse_enet_coordinate_descent(\n",
      "/Users/yinpuli/opt/anaconda3/envs/py-311/lib/python3.11/site-packages/sklearn/linear_model/_coordinate_descent.py:592: ConvergenceWarning: Objective did not converge. You might want to increase the number of iterations. Duality gap: 0.03088724461896919, tolerance: 0.0011913694191539813\n",
      "  model = cd_fast.sparse_enet_coordinate_descent(\n",
      "/Users/yinpuli/opt/anaconda3/envs/py-311/lib/python3.11/site-packages/sklearn/linear_model/_coordinate_descent.py:592: ConvergenceWarning: Objective did not converge. You might want to increase the number of iterations. Duality gap: 0.025492408961593105, tolerance: 0.0012415428784079048\n",
      "  model = cd_fast.sparse_enet_coordinate_descent(\n",
      "/Users/yinpuli/opt/anaconda3/envs/py-311/lib/python3.11/site-packages/sklearn/linear_model/_coordinate_descent.py:592: ConvergenceWarning: Objective did not converge. You might want to increase the number of iterations. Duality gap: 0.02245674246849405, tolerance: 0.0012048233987934584\n",
      "  model = cd_fast.sparse_enet_coordinate_descent(\n",
      "/Users/yinpuli/opt/anaconda3/envs/py-311/lib/python3.11/site-packages/sklearn/linear_model/_coordinate_descent.py:592: ConvergenceWarning: Objective did not converge. You might want to increase the number of iterations. Duality gap: 0.01291729445215295, tolerance: 0.0012147893569766529\n",
      "  model = cd_fast.sparse_enet_coordinate_descent(\n",
      "/Users/yinpuli/opt/anaconda3/envs/py-311/lib/python3.11/site-packages/sklearn/linear_model/_coordinate_descent.py:592: ConvergenceWarning: Objective did not converge. You might want to increase the number of iterations. Duality gap: 0.020482392467431332, tolerance: 0.001248677872278597\n",
      "  model = cd_fast.sparse_enet_coordinate_descent(\n",
      "/Users/yinpuli/opt/anaconda3/envs/py-311/lib/python3.11/site-packages/sklearn/linear_model/_coordinate_descent.py:592: ConvergenceWarning: Objective did not converge. You might want to increase the number of iterations. Duality gap: 0.023022273934743875, tolerance: 0.0012374848617555452\n",
      "  model = cd_fast.sparse_enet_coordinate_descent(\n",
      "/Users/yinpuli/opt/anaconda3/envs/py-311/lib/python3.11/site-packages/sklearn/linear_model/_coordinate_descent.py:592: ConvergenceWarning: Objective did not converge. You might want to increase the number of iterations. Duality gap: 0.018875565300066954, tolerance: 0.0012314147617019263\n",
      "  model = cd_fast.sparse_enet_coordinate_descent(\n",
      "/Users/yinpuli/opt/anaconda3/envs/py-311/lib/python3.11/site-packages/sklearn/linear_model/_coordinate_descent.py:592: ConvergenceWarning: Objective did not converge. You might want to increase the number of iterations. Duality gap: 0.021130879963202398, tolerance: 0.0012149666020089796\n",
      "  model = cd_fast.sparse_enet_coordinate_descent(\n",
      "/Users/yinpuli/opt/anaconda3/envs/py-311/lib/python3.11/site-packages/sklearn/linear_model/_coordinate_descent.py:592: ConvergenceWarning: Objective did not converge. You might want to increase the number of iterations. Duality gap: 0.024253660492673523, tolerance: 0.0011301215769259465\n",
      "  model = cd_fast.sparse_enet_coordinate_descent(\n",
      "/Users/yinpuli/opt/anaconda3/envs/py-311/lib/python3.11/site-packages/sklearn/linear_model/_coordinate_descent.py:592: ConvergenceWarning: Objective did not converge. You might want to increase the number of iterations. Duality gap: 0.0012936869356556802, tolerance: 0.0011913694191539813\n",
      "  model = cd_fast.sparse_enet_coordinate_descent(\n",
      "/Users/yinpuli/opt/anaconda3/envs/py-311/lib/python3.11/site-packages/sklearn/linear_model/_coordinate_descent.py:592: ConvergenceWarning: Objective did not converge. You might want to increase the number of iterations. Duality gap: 0.002116641835702371, tolerance: 0.0012415428784079048\n",
      "  model = cd_fast.sparse_enet_coordinate_descent(\n",
      "/Users/yinpuli/opt/anaconda3/envs/py-311/lib/python3.11/site-packages/sklearn/linear_model/_coordinate_descent.py:592: ConvergenceWarning: Objective did not converge. You might want to increase the number of iterations. Duality gap: 0.0024251965340487125, tolerance: 0.0012048233987934584\n",
      "  model = cd_fast.sparse_enet_coordinate_descent(\n",
      "/Users/yinpuli/opt/anaconda3/envs/py-311/lib/python3.11/site-packages/sklearn/linear_model/_coordinate_descent.py:592: ConvergenceWarning: Objective did not converge. You might want to increase the number of iterations. Duality gap: 0.0014694551906078157, tolerance: 0.0012147893569766529\n",
      "  model = cd_fast.sparse_enet_coordinate_descent(\n",
      "/Users/yinpuli/opt/anaconda3/envs/py-311/lib/python3.11/site-packages/sklearn/linear_model/_coordinate_descent.py:592: ConvergenceWarning: Objective did not converge. You might want to increase the number of iterations. Duality gap: 0.0013159580050392528, tolerance: 0.001248677872278597\n",
      "  model = cd_fast.sparse_enet_coordinate_descent(\n",
      "/Users/yinpuli/opt/anaconda3/envs/py-311/lib/python3.11/site-packages/sklearn/linear_model/_coordinate_descent.py:592: ConvergenceWarning: Objective did not converge. You might want to increase the number of iterations. Duality gap: 0.0018329833699790576, tolerance: 0.0012374848617555452\n",
      "  model = cd_fast.sparse_enet_coordinate_descent(\n",
      "/Users/yinpuli/opt/anaconda3/envs/py-311/lib/python3.11/site-packages/sklearn/linear_model/_coordinate_descent.py:592: ConvergenceWarning: Objective did not converge. You might want to increase the number of iterations. Duality gap: 0.0013510508525775844, tolerance: 0.0012314147617019263\n",
      "  model = cd_fast.sparse_enet_coordinate_descent(\n",
      "/Users/yinpuli/opt/anaconda3/envs/py-311/lib/python3.11/site-packages/sklearn/linear_model/_coordinate_descent.py:592: ConvergenceWarning: Objective did not converge. You might want to increase the number of iterations. Duality gap: 0.0011385197306859052, tolerance: 0.0011301215769259465\n",
      "  model = cd_fast.sparse_enet_coordinate_descent(\n",
      "/Users/yinpuli/opt/anaconda3/envs/py-311/lib/python3.11/site-packages/sklearn/linear_model/_coordinate_descent.py:592: ConvergenceWarning: Objective did not converge. You might want to increase the number of iterations. Duality gap: 0.7872755798254818, tolerance: 0.0011854072143311723\n",
      "  model = cd_fast.sparse_enet_coordinate_descent(\n",
      "/Users/yinpuli/opt/anaconda3/envs/py-311/lib/python3.11/site-packages/sklearn/linear_model/_coordinate_descent.py:592: ConvergenceWarning: Objective did not converge. You might want to increase the number of iterations. Duality gap: 0.8623121561927035, tolerance: 0.0011913694191539813\n",
      "  model = cd_fast.sparse_enet_coordinate_descent(\n",
      "/Users/yinpuli/opt/anaconda3/envs/py-311/lib/python3.11/site-packages/sklearn/linear_model/_coordinate_descent.py:592: ConvergenceWarning: Objective did not converge. You might want to increase the number of iterations. Duality gap: 0.877379327640484, tolerance: 0.0012415428784079048\n",
      "  model = cd_fast.sparse_enet_coordinate_descent(\n",
      "/Users/yinpuli/opt/anaconda3/envs/py-311/lib/python3.11/site-packages/sklearn/linear_model/_coordinate_descent.py:592: ConvergenceWarning: Objective did not converge. You might want to increase the number of iterations. Duality gap: 0.8051476602162783, tolerance: 0.0012048233987934584\n",
      "  model = cd_fast.sparse_enet_coordinate_descent(\n",
      "/Users/yinpuli/opt/anaconda3/envs/py-311/lib/python3.11/site-packages/sklearn/linear_model/_coordinate_descent.py:592: ConvergenceWarning: Objective did not converge. You might want to increase the number of iterations. Duality gap: 0.8168537639115897, tolerance: 0.0012147893569766529\n",
      "  model = cd_fast.sparse_enet_coordinate_descent(\n",
      "/Users/yinpuli/opt/anaconda3/envs/py-311/lib/python3.11/site-packages/sklearn/linear_model/_coordinate_descent.py:592: ConvergenceWarning: Objective did not converge. You might want to increase the number of iterations. Duality gap: 0.8841832062474114, tolerance: 0.001248677872278597\n",
      "  model = cd_fast.sparse_enet_coordinate_descent(\n",
      "/Users/yinpuli/opt/anaconda3/envs/py-311/lib/python3.11/site-packages/sklearn/linear_model/_coordinate_descent.py:592: ConvergenceWarning: Objective did not converge. You might want to increase the number of iterations. Duality gap: 0.8997487359398186, tolerance: 0.0012374848617555452\n",
      "  model = cd_fast.sparse_enet_coordinate_descent(\n",
      "/Users/yinpuli/opt/anaconda3/envs/py-311/lib/python3.11/site-packages/sklearn/linear_model/_coordinate_descent.py:592: ConvergenceWarning: Objective did not converge. You might want to increase the number of iterations. Duality gap: 0.8536569530188488, tolerance: 0.0012314147617019263\n",
      "  model = cd_fast.sparse_enet_coordinate_descent(\n",
      "/Users/yinpuli/opt/anaconda3/envs/py-311/lib/python3.11/site-packages/sklearn/linear_model/_coordinate_descent.py:592: ConvergenceWarning: Objective did not converge. You might want to increase the number of iterations. Duality gap: 0.8686955359422562, tolerance: 0.0012149666020089796\n",
      "  model = cd_fast.sparse_enet_coordinate_descent(\n",
      "/Users/yinpuli/opt/anaconda3/envs/py-311/lib/python3.11/site-packages/sklearn/linear_model/_coordinate_descent.py:592: ConvergenceWarning: Objective did not converge. You might want to increase the number of iterations. Duality gap: 0.8290410878292079, tolerance: 0.0011301215769259465\n",
      "  model = cd_fast.sparse_enet_coordinate_descent(\n",
      "/Users/yinpuli/opt/anaconda3/envs/py-311/lib/python3.11/site-packages/sklearn/linear_model/_coordinate_descent.py:592: ConvergenceWarning: Objective did not converge. You might want to increase the number of iterations. Duality gap: 0.4776222265185369, tolerance: 0.0011854072143311723\n",
      "  model = cd_fast.sparse_enet_coordinate_descent(\n",
      "/Users/yinpuli/opt/anaconda3/envs/py-311/lib/python3.11/site-packages/sklearn/linear_model/_coordinate_descent.py:592: ConvergenceWarning: Objective did not converge. You might want to increase the number of iterations. Duality gap: 0.5108972447323585, tolerance: 0.0011913694191539813\n",
      "  model = cd_fast.sparse_enet_coordinate_descent(\n",
      "/Users/yinpuli/opt/anaconda3/envs/py-311/lib/python3.11/site-packages/sklearn/linear_model/_coordinate_descent.py:592: ConvergenceWarning: Objective did not converge. You might want to increase the number of iterations. Duality gap: 0.47246397340861435, tolerance: 0.0012415428784079048\n",
      "  model = cd_fast.sparse_enet_coordinate_descent(\n",
      "/Users/yinpuli/opt/anaconda3/envs/py-311/lib/python3.11/site-packages/sklearn/linear_model/_coordinate_descent.py:592: ConvergenceWarning: Objective did not converge. You might want to increase the number of iterations. Duality gap: 0.43235353215323247, tolerance: 0.0012048233987934584\n",
      "  model = cd_fast.sparse_enet_coordinate_descent(\n",
      "/Users/yinpuli/opt/anaconda3/envs/py-311/lib/python3.11/site-packages/sklearn/linear_model/_coordinate_descent.py:592: ConvergenceWarning: Objective did not converge. You might want to increase the number of iterations. Duality gap: 0.37188544943295654, tolerance: 0.0012147893569766529\n",
      "  model = cd_fast.sparse_enet_coordinate_descent(\n",
      "/Users/yinpuli/opt/anaconda3/envs/py-311/lib/python3.11/site-packages/sklearn/linear_model/_coordinate_descent.py:592: ConvergenceWarning: Objective did not converge. You might want to increase the number of iterations. Duality gap: 0.445026889070393, tolerance: 0.001248677872278597\n",
      "  model = cd_fast.sparse_enet_coordinate_descent(\n",
      "/Users/yinpuli/opt/anaconda3/envs/py-311/lib/python3.11/site-packages/sklearn/linear_model/_coordinate_descent.py:592: ConvergenceWarning: Objective did not converge. You might want to increase the number of iterations. Duality gap: 0.5013069538697985, tolerance: 0.0012374848617555452\n",
      "  model = cd_fast.sparse_enet_coordinate_descent(\n",
      "/Users/yinpuli/opt/anaconda3/envs/py-311/lib/python3.11/site-packages/sklearn/linear_model/_coordinate_descent.py:592: ConvergenceWarning: Objective did not converge. You might want to increase the number of iterations. Duality gap: 0.5786691483422792, tolerance: 0.0012314147617019263\n",
      "  model = cd_fast.sparse_enet_coordinate_descent(\n",
      "/Users/yinpuli/opt/anaconda3/envs/py-311/lib/python3.11/site-packages/sklearn/linear_model/_coordinate_descent.py:592: ConvergenceWarning: Objective did not converge. You might want to increase the number of iterations. Duality gap: 0.474794462309691, tolerance: 0.0012149666020089796\n",
      "  model = cd_fast.sparse_enet_coordinate_descent(\n",
      "/Users/yinpuli/opt/anaconda3/envs/py-311/lib/python3.11/site-packages/sklearn/linear_model/_coordinate_descent.py:592: ConvergenceWarning: Objective did not converge. You might want to increase the number of iterations. Duality gap: 0.4593603198537119, tolerance: 0.0011301215769259465\n",
      "  model = cd_fast.sparse_enet_coordinate_descent(\n",
      "/Users/yinpuli/opt/anaconda3/envs/py-311/lib/python3.11/site-packages/sklearn/linear_model/_coordinate_descent.py:592: ConvergenceWarning: Objective did not converge. You might want to increase the number of iterations. Duality gap: 0.22178300787228455, tolerance: 0.0011854072143311723\n",
      "  model = cd_fast.sparse_enet_coordinate_descent(\n",
      "/Users/yinpuli/opt/anaconda3/envs/py-311/lib/python3.11/site-packages/sklearn/linear_model/_coordinate_descent.py:592: ConvergenceWarning: Objective did not converge. You might want to increase the number of iterations. Duality gap: 0.23066847320930461, tolerance: 0.0011913694191539813\n",
      "  model = cd_fast.sparse_enet_coordinate_descent(\n",
      "/Users/yinpuli/opt/anaconda3/envs/py-311/lib/python3.11/site-packages/sklearn/linear_model/_coordinate_descent.py:592: ConvergenceWarning: Objective did not converge. You might want to increase the number of iterations. Duality gap: 0.19602238128513494, tolerance: 0.0012415428784079048\n",
      "  model = cd_fast.sparse_enet_coordinate_descent(\n",
      "/Users/yinpuli/opt/anaconda3/envs/py-311/lib/python3.11/site-packages/sklearn/linear_model/_coordinate_descent.py:592: ConvergenceWarning: Objective did not converge. You might want to increase the number of iterations. Duality gap: 0.17942309353940145, tolerance: 0.0012048233987934584\n",
      "  model = cd_fast.sparse_enet_coordinate_descent(\n",
      "/Users/yinpuli/opt/anaconda3/envs/py-311/lib/python3.11/site-packages/sklearn/linear_model/_coordinate_descent.py:592: ConvergenceWarning: Objective did not converge. You might want to increase the number of iterations. Duality gap: 0.13126037138394386, tolerance: 0.0012147893569766529\n",
      "  model = cd_fast.sparse_enet_coordinate_descent(\n",
      "/Users/yinpuli/opt/anaconda3/envs/py-311/lib/python3.11/site-packages/sklearn/linear_model/_coordinate_descent.py:592: ConvergenceWarning: Objective did not converge. You might want to increase the number of iterations. Duality gap: 0.17304677197429363, tolerance: 0.001248677872278597\n",
      "  model = cd_fast.sparse_enet_coordinate_descent(\n",
      "/Users/yinpuli/opt/anaconda3/envs/py-311/lib/python3.11/site-packages/sklearn/linear_model/_coordinate_descent.py:592: ConvergenceWarning: Objective did not converge. You might want to increase the number of iterations. Duality gap: 0.20814555426614822, tolerance: 0.0012374848617555452\n",
      "  model = cd_fast.sparse_enet_coordinate_descent(\n",
      "/Users/yinpuli/opt/anaconda3/envs/py-311/lib/python3.11/site-packages/sklearn/linear_model/_coordinate_descent.py:592: ConvergenceWarning: Objective did not converge. You might want to increase the number of iterations. Duality gap: 0.16227452351848248, tolerance: 0.0012314147617019263\n",
      "  model = cd_fast.sparse_enet_coordinate_descent(\n",
      "/Users/yinpuli/opt/anaconda3/envs/py-311/lib/python3.11/site-packages/sklearn/linear_model/_coordinate_descent.py:592: ConvergenceWarning: Objective did not converge. You might want to increase the number of iterations. Duality gap: 0.19472043011625528, tolerance: 0.0012149666020089796\n",
      "  model = cd_fast.sparse_enet_coordinate_descent(\n",
      "/Users/yinpuli/opt/anaconda3/envs/py-311/lib/python3.11/site-packages/sklearn/linear_model/_coordinate_descent.py:592: ConvergenceWarning: Objective did not converge. You might want to increase the number of iterations. Duality gap: 0.19372145793397633, tolerance: 0.0011301215769259465\n",
      "  model = cd_fast.sparse_enet_coordinate_descent(\n",
      "/Users/yinpuli/opt/anaconda3/envs/py-311/lib/python3.11/site-packages/sklearn/linear_model/_coordinate_descent.py:592: ConvergenceWarning: Objective did not converge. You might want to increase the number of iterations. Duality gap: 0.12265782601523056, tolerance: 0.0011854072143311723\n",
      "  model = cd_fast.sparse_enet_coordinate_descent(\n",
      "/Users/yinpuli/opt/anaconda3/envs/py-311/lib/python3.11/site-packages/sklearn/linear_model/_coordinate_descent.py:592: ConvergenceWarning: Objective did not converge. You might want to increase the number of iterations. Duality gap: 0.1255010362756135, tolerance: 0.0011913694191539813\n",
      "  model = cd_fast.sparse_enet_coordinate_descent(\n",
      "/Users/yinpuli/opt/anaconda3/envs/py-311/lib/python3.11/site-packages/sklearn/linear_model/_coordinate_descent.py:592: ConvergenceWarning: Objective did not converge. You might want to increase the number of iterations. Duality gap: 0.10303209735729157, tolerance: 0.0012415428784079048\n",
      "  model = cd_fast.sparse_enet_coordinate_descent(\n",
      "/Users/yinpuli/opt/anaconda3/envs/py-311/lib/python3.11/site-packages/sklearn/linear_model/_coordinate_descent.py:592: ConvergenceWarning: Objective did not converge. You might want to increase the number of iterations. Duality gap: 0.09403627458076946, tolerance: 0.0012048233987934584\n",
      "  model = cd_fast.sparse_enet_coordinate_descent(\n",
      "/Users/yinpuli/opt/anaconda3/envs/py-311/lib/python3.11/site-packages/sklearn/linear_model/_coordinate_descent.py:592: ConvergenceWarning: Objective did not converge. You might want to increase the number of iterations. Duality gap: 0.06301162048138664, tolerance: 0.0012147893569766529\n",
      "  model = cd_fast.sparse_enet_coordinate_descent(\n",
      "/Users/yinpuli/opt/anaconda3/envs/py-311/lib/python3.11/site-packages/sklearn/linear_model/_coordinate_descent.py:592: ConvergenceWarning: Objective did not converge. You might want to increase the number of iterations. Duality gap: 0.08826673490264869, tolerance: 0.001248677872278597\n",
      "  model = cd_fast.sparse_enet_coordinate_descent(\n",
      "/Users/yinpuli/opt/anaconda3/envs/py-311/lib/python3.11/site-packages/sklearn/linear_model/_coordinate_descent.py:592: ConvergenceWarning: Objective did not converge. You might want to increase the number of iterations. Duality gap: 0.10727595203487916, tolerance: 0.0012374848617555452\n",
      "  model = cd_fast.sparse_enet_coordinate_descent(\n",
      "/Users/yinpuli/opt/anaconda3/envs/py-311/lib/python3.11/site-packages/sklearn/linear_model/_coordinate_descent.py:592: ConvergenceWarning: Objective did not converge. You might want to increase the number of iterations. Duality gap: 0.0827164751655205, tolerance: 0.0012314147617019263\n",
      "  model = cd_fast.sparse_enet_coordinate_descent(\n",
      "/Users/yinpuli/opt/anaconda3/envs/py-311/lib/python3.11/site-packages/sklearn/linear_model/_coordinate_descent.py:592: ConvergenceWarning: Objective did not converge. You might want to increase the number of iterations. Duality gap: 0.09873570190749081, tolerance: 0.0012149666020089796\n",
      "  model = cd_fast.sparse_enet_coordinate_descent(\n",
      "/Users/yinpuli/opt/anaconda3/envs/py-311/lib/python3.11/site-packages/sklearn/linear_model/_coordinate_descent.py:592: ConvergenceWarning: Objective did not converge. You might want to increase the number of iterations. Duality gap: 0.1016782816792805, tolerance: 0.0011301215769259465\n",
      "  model = cd_fast.sparse_enet_coordinate_descent(\n",
      "/Users/yinpuli/opt/anaconda3/envs/py-311/lib/python3.11/site-packages/sklearn/linear_model/_coordinate_descent.py:592: ConvergenceWarning: Objective did not converge. You might want to increase the number of iterations. Duality gap: 0.059501682344337725, tolerance: 0.0011854072143311723\n",
      "  model = cd_fast.sparse_enet_coordinate_descent(\n",
      "/Users/yinpuli/opt/anaconda3/envs/py-311/lib/python3.11/site-packages/sklearn/linear_model/_coordinate_descent.py:592: ConvergenceWarning: Objective did not converge. You might want to increase the number of iterations. Duality gap: 0.06106980372903492, tolerance: 0.0011913694191539813\n",
      "  model = cd_fast.sparse_enet_coordinate_descent(\n",
      "/Users/yinpuli/opt/anaconda3/envs/py-311/lib/python3.11/site-packages/sklearn/linear_model/_coordinate_descent.py:592: ConvergenceWarning: Objective did not converge. You might want to increase the number of iterations. Duality gap: 0.04992072845766282, tolerance: 0.0012415428784079048\n",
      "  model = cd_fast.sparse_enet_coordinate_descent(\n",
      "/Users/yinpuli/opt/anaconda3/envs/py-311/lib/python3.11/site-packages/sklearn/linear_model/_coordinate_descent.py:592: ConvergenceWarning: Objective did not converge. You might want to increase the number of iterations. Duality gap: 0.04510639864008836, tolerance: 0.0012048233987934584\n",
      "  model = cd_fast.sparse_enet_coordinate_descent(\n",
      "/Users/yinpuli/opt/anaconda3/envs/py-311/lib/python3.11/site-packages/sklearn/linear_model/_coordinate_descent.py:592: ConvergenceWarning: Objective did not converge. You might want to increase the number of iterations. Duality gap: 0.027782214254635118, tolerance: 0.0012147893569766529\n",
      "  model = cd_fast.sparse_enet_coordinate_descent(\n",
      "/Users/yinpuli/opt/anaconda3/envs/py-311/lib/python3.11/site-packages/sklearn/linear_model/_coordinate_descent.py:592: ConvergenceWarning: Objective did not converge. You might want to increase the number of iterations. Duality gap: 0.04177128641123873, tolerance: 0.001248677872278597\n",
      "  model = cd_fast.sparse_enet_coordinate_descent(\n",
      "/Users/yinpuli/opt/anaconda3/envs/py-311/lib/python3.11/site-packages/sklearn/linear_model/_coordinate_descent.py:592: ConvergenceWarning: Objective did not converge. You might want to increase the number of iterations. Duality gap: 0.04876020290398553, tolerance: 0.0012374848617555452\n",
      "  model = cd_fast.sparse_enet_coordinate_descent(\n",
      "/Users/yinpuli/opt/anaconda3/envs/py-311/lib/python3.11/site-packages/sklearn/linear_model/_coordinate_descent.py:592: ConvergenceWarning: Objective did not converge. You might want to increase the number of iterations. Duality gap: 0.03826558195091545, tolerance: 0.0012314147617019263\n",
      "  model = cd_fast.sparse_enet_coordinate_descent(\n",
      "/Users/yinpuli/opt/anaconda3/envs/py-311/lib/python3.11/site-packages/sklearn/linear_model/_coordinate_descent.py:592: ConvergenceWarning: Objective did not converge. You might want to increase the number of iterations. Duality gap: 0.04414269683221783, tolerance: 0.0012149666020089796\n",
      "  model = cd_fast.sparse_enet_coordinate_descent(\n",
      "/Users/yinpuli/opt/anaconda3/envs/py-311/lib/python3.11/site-packages/sklearn/linear_model/_coordinate_descent.py:592: ConvergenceWarning: Objective did not converge. You might want to increase the number of iterations. Duality gap: 0.04809607163359386, tolerance: 0.0011301215769259465\n",
      "  model = cd_fast.sparse_enet_coordinate_descent(\n",
      "/Users/yinpuli/opt/anaconda3/envs/py-311/lib/python3.11/site-packages/sklearn/linear_model/_coordinate_descent.py:592: ConvergenceWarning: Objective did not converge. You might want to increase the number of iterations. Duality gap: 0.03979115258650601, tolerance: 0.0011854072143311723\n",
      "  model = cd_fast.sparse_enet_coordinate_descent(\n",
      "/Users/yinpuli/opt/anaconda3/envs/py-311/lib/python3.11/site-packages/sklearn/linear_model/_coordinate_descent.py:592: ConvergenceWarning: Objective did not converge. You might want to increase the number of iterations. Duality gap: 0.040748623788479765, tolerance: 0.0011913694191539813\n",
      "  model = cd_fast.sparse_enet_coordinate_descent(\n"
     ]
    }
   ],
   "source": [
    "param_grid = {\n",
    "    \"alpha\":[0.01, 0.001, 0.0001, 0.00001, 0.000001],\n",
    "    \"l1_ratio\": [0, 0.1, 0.3, 0.5, 0.8, 1]\n",
    "}\n",
    "\n",
    "# Create a MLP model\n",
    "reg_lin = ElasticNet(random_state=0, l1_ratio=1, alpha = 0.00001).fit(X_train_preprocessed_df,y_train)\n",
    "\n",
    "\n",
    "# Pemlporm hyperparameter tuning using GridSearchCV\n",
    "grid_search = GridSearchCV(reg_lin, param_grid, cv=10, scoring=\"neg_root_mean_squared_error\", verbose=1)\n",
    "grid_search.fit(X_train_preprocessed, y_train)"
   ]
  },
  {
   "cell_type": "code",
   "execution_count": null,
   "metadata": {},
   "outputs": [],
   "source": [
    "# Get the best hyperparameters and best model\n",
    "best_params = grid_search.best_params_\n",
    "best_model = grid_search.best_estimator_\n",
    "best_score = grid_search.best_score_"
   ]
  },
  {
   "cell_type": "code",
   "execution_count": null,
   "metadata": {},
   "outputs": [
    {
     "data": {
      "text/plain": [
       "{'hidden_layer_sizes': (1000, 300)}"
      ]
     },
     "execution_count": 15,
     "metadata": {},
     "output_type": "execute_result"
    }
   ],
   "source": [
    "best_params"
   ]
  },
  {
   "cell_type": "code",
   "execution_count": null,
   "metadata": {},
   "outputs": [
    {
     "data": {
      "text/html": [
       "<style>#sk-container-id-4 {color: black;background-color: white;}#sk-container-id-4 pre{padding: 0;}#sk-container-id-4 div.sk-toggleable {background-color: white;}#sk-container-id-4 label.sk-toggleable__label {cursor: pointer;display: block;width: 100%;margin-bottom: 0;padding: 0.3em;box-sizing: border-box;text-align: center;}#sk-container-id-4 label.sk-toggleable__label-arrow:before {content: \"▸\";float: left;margin-right: 0.25em;color: #696969;}#sk-container-id-4 label.sk-toggleable__label-arrow:hover:before {color: black;}#sk-container-id-4 div.sk-estimator:hover label.sk-toggleable__label-arrow:before {color: black;}#sk-container-id-4 div.sk-toggleable__content {max-height: 0;max-width: 0;overflow: hidden;text-align: left;background-color: #f0f8ff;}#sk-container-id-4 div.sk-toggleable__content pre {margin: 0.2em;color: black;border-radius: 0.25em;background-color: #f0f8ff;}#sk-container-id-4 input.sk-toggleable__control:checked~div.sk-toggleable__content {max-height: 200px;max-width: 100%;overflow: auto;}#sk-container-id-4 input.sk-toggleable__control:checked~label.sk-toggleable__label-arrow:before {content: \"▾\";}#sk-container-id-4 div.sk-estimator input.sk-toggleable__control:checked~label.sk-toggleable__label {background-color: #d4ebff;}#sk-container-id-4 div.sk-label input.sk-toggleable__control:checked~label.sk-toggleable__label {background-color: #d4ebff;}#sk-container-id-4 input.sk-hidden--visually {border: 0;clip: rect(1px 1px 1px 1px);clip: rect(1px, 1px, 1px, 1px);height: 1px;margin: -1px;overflow: hidden;padding: 0;position: absolute;width: 1px;}#sk-container-id-4 div.sk-estimator {font-family: monospace;background-color: #f0f8ff;border: 1px dotted black;border-radius: 0.25em;box-sizing: border-box;margin-bottom: 0.5em;}#sk-container-id-4 div.sk-estimator:hover {background-color: #d4ebff;}#sk-container-id-4 div.sk-parallel-item::after {content: \"\";width: 100%;border-bottom: 1px solid gray;flex-grow: 1;}#sk-container-id-4 div.sk-label:hover label.sk-toggleable__label {background-color: #d4ebff;}#sk-container-id-4 div.sk-serial::before {content: \"\";position: absolute;border-left: 1px solid gray;box-sizing: border-box;top: 0;bottom: 0;left: 50%;z-index: 0;}#sk-container-id-4 div.sk-serial {display: flex;flex-direction: column;align-items: center;background-color: white;padding-right: 0.2em;padding-left: 0.2em;position: relative;}#sk-container-id-4 div.sk-item {position: relative;z-index: 1;}#sk-container-id-4 div.sk-parallel {display: flex;align-items: stretch;justify-content: center;background-color: white;position: relative;}#sk-container-id-4 div.sk-item::before, #sk-container-id-4 div.sk-parallel-item::before {content: \"\";position: absolute;border-left: 1px solid gray;box-sizing: border-box;top: 0;bottom: 0;left: 50%;z-index: -1;}#sk-container-id-4 div.sk-parallel-item {display: flex;flex-direction: column;z-index: 1;position: relative;background-color: white;}#sk-container-id-4 div.sk-parallel-item:first-child::after {align-self: flex-end;width: 50%;}#sk-container-id-4 div.sk-parallel-item:last-child::after {align-self: flex-start;width: 50%;}#sk-container-id-4 div.sk-parallel-item:only-child::after {width: 0;}#sk-container-id-4 div.sk-dashed-wrapped {border: 1px dashed gray;margin: 0 0.4em 0.5em 0.4em;box-sizing: border-box;padding-bottom: 0.4em;background-color: white;}#sk-container-id-4 div.sk-label label {font-family: monospace;font-weight: bold;display: inline-block;line-height: 1.2em;}#sk-container-id-4 div.sk-label-container {text-align: center;}#sk-container-id-4 div.sk-container {/* jupyter's `normalize.less` sets `[hidden] { display: none; }` but bootstrap.min.css set `[hidden] { display: none !important; }` so we also need the `!important` here to be able to override the default hidden behavior on the sphinx rendered scikit-learn.org. See: https://github.com/scikit-learn/scikit-learn/issues/21755 */display: inline-block !important;position: relative;}#sk-container-id-4 div.sk-text-repr-fallback {display: none;}</style><div id=\"sk-container-id-4\" class=\"sk-top-container\"><div class=\"sk-text-repr-fallback\"><pre>MLPRegressor(hidden_layer_sizes=(1000, 300), random_state=1)</pre><b>In a Jupyter environment, please rerun this cell to show the HTML representation or trust the notebook. <br />On GitHub, the HTML representation is unable to render, please try loading this page with nbviewer.org.</b></div><div class=\"sk-container\" hidden><div class=\"sk-item\"><div class=\"sk-estimator sk-toggleable\"><input class=\"sk-toggleable__control sk-hidden--visually\" id=\"sk-estimator-id-8\" type=\"checkbox\" checked><label for=\"sk-estimator-id-8\" class=\"sk-toggleable__label sk-toggleable__label-arrow\">MLPRegressor</label><div class=\"sk-toggleable__content\"><pre>MLPRegressor(hidden_layer_sizes=(1000, 300), random_state=1)</pre></div></div></div></div></div>"
      ],
      "text/plain": [
       "MLPRegressor(hidden_layer_sizes=(1000, 300), random_state=1)"
      ]
     },
     "execution_count": 16,
     "metadata": {},
     "output_type": "execute_result"
    }
   ],
   "source": [
    "best_model"
   ]
  },
  {
   "cell_type": "code",
   "execution_count": null,
   "metadata": {},
   "outputs": [],
   "source": [
    "type(best_model)"
   ]
  },
  {
   "cell_type": "code",
   "execution_count": null,
   "metadata": {},
   "outputs": [
    {
     "data": {
      "text/plain": [
       "-0.04249919301221171"
      ]
     },
     "execution_count": 17,
     "metadata": {},
     "output_type": "execute_result"
    }
   ],
   "source": [
    "best_score"
   ]
  },
  {
   "cell_type": "code",
   "execution_count": null,
   "metadata": {},
   "outputs": [
    {
     "name": "stderr",
     "output_type": "stream",
     "text": [
      "/Users/yinpuli/opt/anaconda3/envs/py-311/lib/python3.11/site-packages/sklearn/base.py:432: UserWarning: X has feature names, but MLPRegressor was fitted without feature names\n",
      "  warnings.warn(\n"
     ]
    }
   ],
   "source": [
    "y_pred = best_model.predict(X_test_preprocessed_df)\n",
    "rmse = mean_squared_error(y_test, y_pred, squared=False)"
   ]
  },
  {
   "cell_type": "code",
   "execution_count": null,
   "metadata": {},
   "outputs": [],
   "source": [
    "### Shap\n",
    "\n",
    "best_model.fit(X_train_preprocessed_df,y_train)\n",
    "\n",
    "explainer = shap.LinearExplainer(best_model, X_train_preprocessed_df)\n",
    "\n",
    "shap_values = explainer_lin.shap_values(X_train_preprocessed_df)\n",
    "\n",
    "shap.summary_plot(shap_values, X_train_preprocessed_df, plot_type=\"bar\")\n",
    "\n",
    "shap.summary_plot(shap_values, X_train_preprocessed_df)"
   ]
  },
  {
   "cell_type": "code",
   "execution_count": null,
   "metadata": {},
   "outputs": [],
   "source": []
  },
  {
   "cell_type": "code",
   "execution_count": null,
   "metadata": {},
   "outputs": [],
   "source": []
  },
  {
   "cell_type": "code",
   "execution_count": 54,
   "metadata": {},
   "outputs": [],
   "source": [
    "import pandas as pd\n",
    "import os\n",
    "import sys\n",
    "import ast\n",
    "from typing import Union\n",
    "import xgboost as xgb\n",
    "import lightgbm as lgb\n",
    "from sklearn.ensemble import RandomForestRegressor\n",
    "from sklearn.neural_network import MLPRegressor\n",
    "from sklearn.model_selection import GridSearchCV\n",
    "\n",
    "root_dir = os.path.abspath(os.path.join(os.getcwd(), '..'))\n",
    "sys.path.append(root_dir)\n",
    "\n",
    "from utils.utils     import *\n",
    "from utils.constants import *\n",
    "from utils.metrics   import *\n",
    "\n",
    "# Scripts:\n",
    "\n",
    "\n",
    "def hyperparameter_tuning(\n",
    "        X_train: pd.DataFrame,\n",
    "        y_train: pd.DataFrame,\n",
    "        X_test: pd.DataFrame,\n",
    "        y_test: pd.DataFrame,\n",
    "        param_grid: dict,\n",
    "        model: Union[xgb.sklearn.XGBRegressor, RandomForestRegressor\n",
    "                     , lgb.LGBMRegressor, MLPRegressor\n",
    "                     ],\n",
    "        scoring,\n",
    "        eval_func,\n",
    "        file_path: str,\n",
    "        cv: int\n",
    ") -> dict:\n",
    "    \"\"\"\n",
    "    Perform hyperparameter tuning, prediction, and evaluation for a given model.\n",
    "\n",
    "    Parameters:\n",
    "    X_train (pd.DataFrame): Training features.\n",
    "    y_train (pd.DataFrame): Training target values.\n",
    "    X_test (pd.DataFrame): Testing features.\n",
    "    y_test (pd.DataFrame): Testing target values.\n",
    "    param_grid (dict): Grid of hyperparameters for tuning.\n",
    "    model (Union[xgb.sklearn.XGBRegressor, RandomForestRegressor]): Initialized model.\n",
    "    scoring (function): Scoring function for hyperparameter tuning.\n",
    "    eval_func (function): Evaluation function for model performance.\n",
    "    file_path (str): File path for saving the best model and results.\n",
    "    cv (int): Number of cross-validation folds.\n",
    "\n",
    "    Returns:\n",
    "    dict: Dictionary containing best model information and evaluation metrics.\n",
    "    \n",
    "    Example:\n",
    "    X_train = X_train_preprocessed_df\n",
    "    y_train = y_train\n",
    "    X_test  = X_test_preprocessed\n",
    "    y_test = y_test\n",
    "    model = xgb.XGBRegressor(objective='reg:squarederror') # RandomForestRegressor()\n",
    "    scoring = make_scorer(lambda y_true, y_pred: -mean_squared_error(y_true, y_pred, squared=False))\n",
    "    param_grid = {\n",
    "        'n_estimators': [50, 100],\n",
    "        'max_depth': [None, 3, 5, 10, 20],\n",
    "        'min_samples_split': [1, 2, 5, 10],\n",
    "        'min_samples_leaf': [1, 2, 4]\n",
    "    }\n",
    "\n",
    "    eval_func = compute_metrics\n",
    "    \n",
    "    \"\"\"\n",
    "\n",
    "    # Perform hyperparameter tuning using GridSearchCV\n",
    "    grid_search = GridSearchCV(model, param_grid, cv=cv, scoring=scoring, n_jobs=6, verbose=1)\n",
    "    grid_search.fit(X_train, y_train)\n",
    "\n",
    "    # Get the best hyperparameters and best model\n",
    "    best_params = grid_search.best_params_\n",
    "    best_model = grid_search.best_estimator_\n",
    "    best_score = grid_search.best_score_\n",
    "\n",
    "    # Making predictions on the validation data using the best model\n",
    "    y_pred = best_model.predict(X_test)\n",
    "\n",
    "    # Calculate evaluation metrics\n",
    "    _df = pd.DataFrame(\n",
    "        {\n",
    "            'forecast': y_pred,\n",
    "            'actual': y_test['measurement']\n",
    "        }\n",
    "    )\n",
    "    eval_metrics = eval_func(_df, EVAL_METRIC_LIST)\n",
    "\n",
    "    # Get feature importance scores for tree based models\n",
    "\n",
    "    if isinstance(best_model, MLPRegressor): # type(best_model) == MLPRegressor\n",
    "        feature_importance_dict = {}\n",
    "    else:\n",
    "        # Get feature importance scores\n",
    "        feature_importance = best_model.feature_importances_\n",
    "        feature_names = X_train.columns\n",
    "        feature_importance_dict = dict(zip(feature_names, feature_importance))\n",
    "\n",
    "    # Save the results\n",
    "    best_model_info = {\n",
    "        'best_params': best_params,\n",
    "        'best_score': best_score,\n",
    "        'feature_importance': feature_importance_dict,\n",
    "        'eval_metrics': eval_metrics\n",
    "    }\n",
    "    \n",
    "    # Save the best model and results\n",
    "    save_model(file_name=file_path, model=best_model, model_info=best_model_info)\n",
    "\n",
    "    return best_model_info\n",
    "\n",
    "\n"
   ]
  },
  {
   "cell_type": "code",
   "execution_count": 56,
   "metadata": {},
   "outputs": [],
   "source": [
    "EVAL_METRIC_LIST = ['rmse','mape','wmape','wbias','wuforec','woforec']"
   ]
  },
  {
   "cell_type": "code",
   "execution_count": null,
   "metadata": {},
   "outputs": [],
   "source": []
  },
  {
   "cell_type": "code",
   "execution_count": 57,
   "metadata": {},
   "outputs": [
    {
     "name": "stdout",
     "output_type": "stream",
     "text": [
      "Fitting 5 folds for each of 1 candidates, totalling 5 fits\n"
     ]
    },
    {
     "name": "stderr",
     "output_type": "stream",
     "text": [
      "/Users/yinpuli/opt/anaconda3/envs/py-311/lib/python3.11/site-packages/sklearn/neural_network/_multilayer_perceptron.py:1623: DataConversionWarning: A column-vector y was passed when a 1d array was expected. Please change the shape of y to (n_samples, ), for example using ravel().\n",
      "  y = column_or_1d(y, warn=True)\n",
      "/Users/yinpuli/opt/anaconda3/envs/py-311/lib/python3.11/site-packages/sklearn/neural_network/_multilayer_perceptron.py:1623: DataConversionWarning: A column-vector y was passed when a 1d array was expected. Please change the shape of y to (n_samples, ), for example using ravel().\n",
      "  y = column_or_1d(y, warn=True)\n",
      "/Users/yinpuli/opt/anaconda3/envs/py-311/lib/python3.11/site-packages/sklearn/neural_network/_multilayer_perceptron.py:1623: DataConversionWarning: A column-vector y was passed when a 1d array was expected. Please change the shape of y to (n_samples, ), for example using ravel().\n",
      "  y = column_or_1d(y, warn=True)\n",
      "/Users/yinpuli/opt/anaconda3/envs/py-311/lib/python3.11/site-packages/sklearn/neural_network/_multilayer_perceptron.py:1623: DataConversionWarning: A column-vector y was passed when a 1d array was expected. Please change the shape of y to (n_samples, ), for example using ravel().\n",
      "  y = column_or_1d(y, warn=True)\n",
      "/Users/yinpuli/opt/anaconda3/envs/py-311/lib/python3.11/site-packages/sklearn/neural_network/_multilayer_perceptron.py:1623: DataConversionWarning: A column-vector y was passed when a 1d array was expected. Please change the shape of y to (n_samples, ), for example using ravel().\n",
      "  y = column_or_1d(y, warn=True)\n",
      "/Users/yinpuli/opt/anaconda3/envs/py-311/lib/python3.11/site-packages/sklearn/neural_network/_multilayer_perceptron.py:1623: DataConversionWarning: A column-vector y was passed when a 1d array was expected. Please change the shape of y to (n_samples, ), for example using ravel().\n",
      "  y = column_or_1d(y, warn=True)\n"
     ]
    },
    {
     "name": "stdout",
     "output_type": "stream",
     "text": [
      "Success of MLP!\n"
     ]
    }
   ],
   "source": [
    "best_mlp_file = get_absolute_path(\n",
    "    file_name = 'best_mlp_model.joblib'\n",
    "    , rel_path = 'results'\n",
    ")\n",
    "\n",
    "mlp_result = hyperparameter_tuning(\n",
    "        X_train=X_train_preprocessed,\n",
    "        y_train=y_train,\n",
    "        X_test=X_test_preprocessed,\n",
    "        y_test=y_test,\n",
    "        param_grid= {\n",
    "            'hidden_layer_sizes': list(zip([1000], [300])),\n",
    "            #'max_iter': [50, 100],\n",
    "            #'activation': ['tanh', 'relu'],\n",
    "            #'solver': ['sgd', 'adam'],\n",
    "            #'alpha': [0.0001, 0.05],\n",
    "            #'learning_rate': ['constant','adaptive'],\n",
    "        },\n",
    "        model=MLPRegressor(random_state=1, hidden_layer_sizes = (20, 20)),\n",
    "        scoring=\"neg_root_mean_squared_error\",\n",
    "        eval_func=compute_metrics,\n",
    "        file_path=best_mlp_file,\n",
    "        cv=5\n",
    ") \n",
    "\n",
    "print(\"Success of MLP!\")"
   ]
  },
  {
   "cell_type": "code",
   "execution_count": null,
   "metadata": {},
   "outputs": [],
   "source": []
  },
  {
   "cell_type": "code",
   "execution_count": null,
   "metadata": {},
   "outputs": [],
   "source": []
  },
  {
   "cell_type": "code",
   "execution_count": null,
   "metadata": {},
   "outputs": [],
   "source": []
  },
  {
   "cell_type": "code",
   "execution_count": null,
   "metadata": {},
   "outputs": [],
   "source": []
  }
 ],
 "metadata": {
  "kernelspec": {
   "display_name": "py-311",
   "language": "python",
   "name": "python3"
  },
  "language_info": {
   "codemirror_mode": {
    "name": "ipython",
    "version": 3
   },
   "file_extension": ".py",
   "mimetype": "text/x-python",
   "name": "python",
   "nbconvert_exporter": "python",
   "pygments_lexer": "ipython3",
   "version": "3.11.4"
  },
  "orig_nbformat": 4
 },
 "nbformat": 4,
 "nbformat_minor": 2
}
