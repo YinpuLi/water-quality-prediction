{
 "cells": [
  {
   "cell_type": "markdown",
   "id": "0c6b2676-eea2-4584-beb2-0e86743aca1d",
   "metadata": {},
   "source": [
    "# Performance Table"
   ]
  },
  {
   "cell_type": "code",
   "execution_count": 1,
   "id": "db96a5a4-9e8b-48eb-bcf5-2fc310a99045",
   "metadata": {
    "tags": []
   },
   "outputs": [],
   "source": [
    "import pandas as pd\n",
    "import numpy as np\n",
    "import os\n",
    "import sys\n",
    "\n",
    "\n",
    "import warnings\n",
    "warnings.filterwarnings(\"ignore\", category=DeprecationWarning)\n"
   ]
  },
  {
   "cell_type": "code",
   "execution_count": 2,
   "id": "8209e710-02b7-4204-9798-e5fbccdcba05",
   "metadata": {
    "tags": []
   },
   "outputs": [],
   "source": [
    "import os\n",
    "os.getcwd()\n",
    "os.chdir('../')\n",
    "\n",
    "\n",
    "from utils.utils     import *\n",
    "from utils.constants import *\n",
    "from utils.metrics   import *\n",
    "\n",
    "from os import listdir\n",
    "from os.path import isfile, join"
   ]
  },
  {
   "cell_type": "code",
   "execution_count": 3,
   "id": "8332d07a-a533-4319-aa73-a399f78be8f5",
   "metadata": {
    "tags": []
   },
   "outputs": [],
   "source": [
    "path_ = os.getcwd()"
   ]
  },
  {
   "cell_type": "code",
   "execution_count": null,
   "id": "3a366cd7-070d-4621-8a89-cd9737bd2ab0",
   "metadata": {},
   "outputs": [],
   "source": []
  },
  {
   "cell_type": "markdown",
   "id": "0c0bd975-b910-49a3-8ae3-ea87976d6e2b",
   "metadata": {},
   "source": [
    "# benchmark"
   ]
  },
  {
   "cell_type": "code",
   "execution_count": 4,
   "id": "54c2392b-c656-408a-ad94-8bed38823839",
   "metadata": {
    "tags": []
   },
   "outputs": [],
   "source": [
    "y_train = pd.read_csv(path_ + '\\\\data' + '\\\\y_train.csv')\n",
    "\n",
    "y_test = pd.read_csv(path_ + '\\\\data' + '\\\\y_test.csv')"
   ]
  },
  {
   "cell_type": "code",
   "execution_count": null,
   "id": "c226c092-6790-4faa-a879-d9238596fe6c",
   "metadata": {},
   "outputs": [],
   "source": []
  },
  {
   "cell_type": "code",
   "execution_count": 5,
   "id": "4021cf6a-1daa-43e7-80fd-4b9f78df2d5e",
   "metadata": {
    "tags": []
   },
   "outputs": [
    {
     "name": "stderr",
     "output_type": "stream",
     "text": [
      "D:\\anaconda3\\Lib\\site-packages\\numpy\\core\\fromnumeric.py:3462: FutureWarning: In a future version, DataFrame.mean(axis=None) will return a scalar mean over the entire DataFrame. To retain the old behavior, use 'frame.mean(axis=0)' or just 'frame.mean()'\n",
      "  return mean(axis=axis, dtype=dtype, out=out, **kwargs)\n"
     ]
    }
   ],
   "source": [
    "y_predict_average_ini = [1] * len(y_test)\n",
    "\n",
    "mean_predict = (np.mean(y_train))[0]\n",
    "y_predict_average = [ x * mean_predict  for x in y_predict_average_ini ]"
   ]
  },
  {
   "cell_type": "code",
   "execution_count": 6,
   "id": "ec5e566d-8512-4e6b-9f11-e3adb6f699c7",
   "metadata": {
    "tags": []
   },
   "outputs": [],
   "source": [
    "benchmark_results = pd.concat([y_test,pd.DataFrame({'forecast': y_predict_average})], axis=1)\n",
    "benchmark_results = benchmark_results.rename(columns={\"measurement\": \"actual\"})"
   ]
  },
  {
   "cell_type": "code",
   "execution_count": 7,
   "id": "e0c1efa4-6163-49fa-b745-16ee57115592",
   "metadata": {
    "tags": []
   },
   "outputs": [],
   "source": [
    "benchmark_df = compute_metrics(benchmark_results, EVAL_METRIC_LIST)"
   ]
  },
  {
   "cell_type": "code",
   "execution_count": 8,
   "id": "8624d871-13e7-4f99-9223-f1ff78db5c1e",
   "metadata": {
    "tags": []
   },
   "outputs": [],
   "source": [
    "benchmark_summary =  (pd.DataFrame(benchmark_df, index = ['benchmark'])*1000).round(3)"
   ]
  },
  {
   "cell_type": "code",
   "execution_count": 9,
   "id": "54bdd915-3f97-46c7-a10d-a9f2d740b37a",
   "metadata": {
    "tags": []
   },
   "outputs": [
    {
     "data": {
      "text/html": [
       "<div>\n",
       "<style scoped>\n",
       "    .dataframe tbody tr th:only-of-type {\n",
       "        vertical-align: middle;\n",
       "    }\n",
       "\n",
       "    .dataframe tbody tr th {\n",
       "        vertical-align: top;\n",
       "    }\n",
       "\n",
       "    .dataframe thead th {\n",
       "        text-align: right;\n",
       "    }\n",
       "</style>\n",
       "<table border=\"1\" class=\"dataframe\">\n",
       "  <thead>\n",
       "    <tr style=\"text-align: right;\">\n",
       "      <th></th>\n",
       "      <th>rmse</th>\n",
       "      <th>mape</th>\n",
       "      <th>wmape</th>\n",
       "      <th>wbias</th>\n",
       "      <th>wuforec</th>\n",
       "      <th>woforec</th>\n",
       "    </tr>\n",
       "  </thead>\n",
       "  <tbody>\n",
       "    <tr>\n",
       "      <th>benchmark</th>\n",
       "      <td>29.518</td>\n",
       "      <td>32.206</td>\n",
       "      <td>32.35</td>\n",
       "      <td>-3.256</td>\n",
       "      <td>14.547</td>\n",
       "      <td>17.803</td>\n",
       "    </tr>\n",
       "  </tbody>\n",
       "</table>\n",
       "</div>"
      ],
      "text/plain": [
       "             rmse    mape  wmape  wbias  wuforec  woforec\n",
       "benchmark  29.518  32.206  32.35 -3.256   14.547   17.803"
      ]
     },
     "execution_count": 9,
     "metadata": {},
     "output_type": "execute_result"
    }
   ],
   "source": [
    "benchmark_summary"
   ]
  },
  {
   "cell_type": "markdown",
   "id": "1c6b2362-30bf-4226-a885-75b647c977a2",
   "metadata": {},
   "source": [
    "# Models Summary"
   ]
  },
  {
   "cell_type": "code",
   "execution_count": 10,
   "id": "9c36d5ce-15cc-48a4-a872-aa829d73c5fb",
   "metadata": {
    "tags": []
   },
   "outputs": [],
   "source": [
    "def model_summary(path_, rel_path):\n",
    "    \"\"\"\n",
    "    path_: path for 'water-quality-prediction-08-27-yl-rerun' or similar folder\n",
    "    \n",
    "    rel_path: path for saved best models\n",
    "    \n",
    "    Returns:\n",
    "    Two Pd.DataFrame()\n",
    "    \n",
    "    performance_summary: eval_metrics summary\n",
    "    timing_summary:\n",
    "    \n",
    "    \"\"\"\n",
    "        \n",
    "    performance_summary = pd.DataFrame()\n",
    "    timing_summary = pd.DataFrame()\n",
    "\n",
    "    results_path = path_ + \"\\\\\" + rel_path\n",
    "    results_files = [f for f in listdir(results_path) if isfile(join(results_path, f))]\n",
    "    filtered_results_files = [word for word in results_files if \".joblib\" in word]\n",
    "    \n",
    "    for best_model_name in filtered_results_files:\n",
    "        best_model_file = path_ + \"\\\\\" + rel_path + \"\\\\\" + best_model_name\n",
    "        best_model, best_model_info = load_model(best_model_file)\n",
    "        eval_metrics= best_model_info['eval_metrics']\n",
    "        eval_metrics = (pd.DataFrame(eval_metrics, index = [best_model_name])*1000).round(3)\n",
    "        performance_summary = pd.concat([performance_summary, eval_metrics])\n",
    "\n",
    "        timing = {k:best_model_info[k] for k in ('totalling_fits', 'cv', 'tuning_time',\n",
    "     'best_model_fitting_time') if k in best_model_info}\n",
    "        timing['average_tuning'] = timing['tuning_time'] / timing['totalling_fits']\n",
    "\n",
    "        timing = (pd.DataFrame(timing, index = [best_model_name])).round(3)\n",
    "        timing_summary = pd.concat([timing_summary, timing])\n",
    "    return performance_summary, timing_summary\n",
    "    "
   ]
  },
  {
   "cell_type": "markdown",
   "id": "58fb8d0f-255b-46e6-9dae-852c1b7dbba1",
   "metadata": {},
   "source": [
    "# cv5_numerical only"
   ]
  },
  {
   "cell_type": "code",
   "execution_count": 11,
   "id": "f0dd2505-5543-4e48-8c30-cbcadb66b1e0",
   "metadata": {
    "tags": []
   },
   "outputs": [],
   "source": [
    "rel_path = 'results\\\\cv5_numerical only'"
   ]
  },
  {
   "cell_type": "code",
   "execution_count": 12,
   "id": "f8248b3a-2cbc-4e78-8471-7a5db57cc9b6",
   "metadata": {
    "tags": []
   },
   "outputs": [],
   "source": [
    "performance_summary_numerical_only, timing_summary_numerical_only = model_summary(path_, rel_path)"
   ]
  },
  {
   "cell_type": "code",
   "execution_count": 13,
   "id": "f6062029-b340-4ee8-8a80-fc16581aeebd",
   "metadata": {
    "tags": []
   },
   "outputs": [
    {
     "name": "stderr",
     "output_type": "stream",
     "text": [
      "C:\\Users\\Dennis\\AppData\\Local\\Temp\\ipykernel_28464\\3348829722.py:1: FutureWarning: The frame.append method is deprecated and will be removed from pandas in a future version. Use pandas.concat instead.\n",
      "  performance_summary_numerical_only = performance_summary_numerical_only.append(benchmark_summary)\n"
     ]
    }
   ],
   "source": [
    "performance_summary_numerical_only = performance_summary_numerical_only.append(benchmark_summary)"
   ]
  },
  {
   "cell_type": "code",
   "execution_count": 14,
   "id": "a3d6ac81-4765-44fb-9087-eb210cb6a02a",
   "metadata": {
    "tags": []
   },
   "outputs": [
    {
     "data": {
      "text/html": [
       "<div>\n",
       "<style scoped>\n",
       "    .dataframe tbody tr th:only-of-type {\n",
       "        vertical-align: middle;\n",
       "    }\n",
       "\n",
       "    .dataframe tbody tr th {\n",
       "        vertical-align: top;\n",
       "    }\n",
       "\n",
       "    .dataframe thead th {\n",
       "        text-align: right;\n",
       "    }\n",
       "</style>\n",
       "<table border=\"1\" class=\"dataframe\">\n",
       "  <thead>\n",
       "    <tr style=\"text-align: right;\">\n",
       "      <th></th>\n",
       "      <th>rmse</th>\n",
       "      <th>mape</th>\n",
       "      <th>wmape</th>\n",
       "      <th>wbias</th>\n",
       "      <th>wuforec</th>\n",
       "      <th>woforec</th>\n",
       "    </tr>\n",
       "  </thead>\n",
       "  <tbody>\n",
       "    <tr>\n",
       "      <th>best_lightGBM_model.joblib</th>\n",
       "      <td>10.882</td>\n",
       "      <td>9.336</td>\n",
       "      <td>9.476</td>\n",
       "      <td>0.919</td>\n",
       "      <td>5.198</td>\n",
       "      <td>4.278</td>\n",
       "    </tr>\n",
       "    <tr>\n",
       "      <th>best_lin_model.joblib</th>\n",
       "      <td>12.035</td>\n",
       "      <td>10.724</td>\n",
       "      <td>10.898</td>\n",
       "      <td>0.409</td>\n",
       "      <td>5.654</td>\n",
       "      <td>5.244</td>\n",
       "    </tr>\n",
       "    <tr>\n",
       "      <th>best_mlp_model.joblib</th>\n",
       "      <td>11.619</td>\n",
       "      <td>9.996</td>\n",
       "      <td>10.151</td>\n",
       "      <td>0.114</td>\n",
       "      <td>5.132</td>\n",
       "      <td>5.018</td>\n",
       "    </tr>\n",
       "    <tr>\n",
       "      <th>best_rf_model.joblib</th>\n",
       "      <td>11.473</td>\n",
       "      <td>9.711</td>\n",
       "      <td>9.866</td>\n",
       "      <td>0.824</td>\n",
       "      <td>5.345</td>\n",
       "      <td>4.521</td>\n",
       "    </tr>\n",
       "    <tr>\n",
       "      <th>best_xgb_model.joblib</th>\n",
       "      <td>10.956</td>\n",
       "      <td>9.227</td>\n",
       "      <td>9.368</td>\n",
       "      <td>0.982</td>\n",
       "      <td>5.175</td>\n",
       "      <td>4.193</td>\n",
       "    </tr>\n",
       "    <tr>\n",
       "      <th>benchmark</th>\n",
       "      <td>29.518</td>\n",
       "      <td>32.206</td>\n",
       "      <td>32.350</td>\n",
       "      <td>-3.256</td>\n",
       "      <td>14.547</td>\n",
       "      <td>17.803</td>\n",
       "    </tr>\n",
       "  </tbody>\n",
       "</table>\n",
       "</div>"
      ],
      "text/plain": [
       "                              rmse    mape   wmape  wbias  wuforec  woforec\n",
       "best_lightGBM_model.joblib  10.882   9.336   9.476  0.919    5.198    4.278\n",
       "best_lin_model.joblib       12.035  10.724  10.898  0.409    5.654    5.244\n",
       "best_mlp_model.joblib       11.619   9.996  10.151  0.114    5.132    5.018\n",
       "best_rf_model.joblib        11.473   9.711   9.866  0.824    5.345    4.521\n",
       "best_xgb_model.joblib       10.956   9.227   9.368  0.982    5.175    4.193\n",
       "benchmark                   29.518  32.206  32.350 -3.256   14.547   17.803"
      ]
     },
     "execution_count": 14,
     "metadata": {},
     "output_type": "execute_result"
    }
   ],
   "source": [
    "performance_summary_numerical_only"
   ]
  },
  {
   "cell_type": "code",
   "execution_count": 15,
   "id": "dc6349fd-d5cc-4f6d-98e0-da58127f9fbf",
   "metadata": {
    "tags": []
   },
   "outputs": [
    {
     "data": {
      "text/plain": [
       "'\\\\begin{tabular}{lrrrrrr}\\n & rmse & mape & wmape & wbias & wuforec & woforec \\\\\\\\\\nbest_lightGBM_model.joblib & 10.882000 & 9.336000 & 9.476000 & 0.919000 & 5.198000 & 4.278000 \\\\\\\\\\nbest_lin_model.joblib & 12.035000 & 10.724000 & 10.898000 & 0.409000 & 5.654000 & 5.244000 \\\\\\\\\\nbest_mlp_model.joblib & 11.619000 & 9.996000 & 10.151000 & 0.114000 & 5.132000 & 5.018000 \\\\\\\\\\nbest_rf_model.joblib & 11.473000 & 9.711000 & 9.866000 & 0.824000 & 5.345000 & 4.521000 \\\\\\\\\\nbest_xgb_model.joblib & 10.956000 & 9.227000 & 9.368000 & 0.982000 & 5.175000 & 4.193000 \\\\\\\\\\nbenchmark & 29.518000 & 32.206000 & 32.350000 & -3.256000 & 14.547000 & 17.803000 \\\\\\\\\\n\\\\end{tabular}\\n'"
      ]
     },
     "execution_count": 15,
     "metadata": {},
     "output_type": "execute_result"
    }
   ],
   "source": [
    "performance_summary_numerical_only.style.to_latex()"
   ]
  },
  {
   "cell_type": "code",
   "execution_count": 16,
   "id": "2988eb3c-f85c-41d9-a4ab-e16f3c811183",
   "metadata": {
    "tags": []
   },
   "outputs": [
    {
     "data": {
      "text/html": [
       "<div>\n",
       "<style scoped>\n",
       "    .dataframe tbody tr th:only-of-type {\n",
       "        vertical-align: middle;\n",
       "    }\n",
       "\n",
       "    .dataframe tbody tr th {\n",
       "        vertical-align: top;\n",
       "    }\n",
       "\n",
       "    .dataframe thead th {\n",
       "        text-align: right;\n",
       "    }\n",
       "</style>\n",
       "<table border=\"1\" class=\"dataframe\">\n",
       "  <thead>\n",
       "    <tr style=\"text-align: right;\">\n",
       "      <th></th>\n",
       "      <th>totalling_fits</th>\n",
       "      <th>cv</th>\n",
       "      <th>tuning_time</th>\n",
       "      <th>best_model_fitting_time</th>\n",
       "      <th>average_tuning</th>\n",
       "    </tr>\n",
       "  </thead>\n",
       "  <tbody>\n",
       "    <tr>\n",
       "      <th>best_lightGBM_model.joblib</th>\n",
       "      <td>2000</td>\n",
       "      <td>5</td>\n",
       "      <td>152.820</td>\n",
       "      <td>0.188</td>\n",
       "      <td>0.076</td>\n",
       "    </tr>\n",
       "    <tr>\n",
       "      <th>best_lin_model.joblib</th>\n",
       "      <td>150</td>\n",
       "      <td>5</td>\n",
       "      <td>8.794</td>\n",
       "      <td>0.079</td>\n",
       "      <td>0.059</td>\n",
       "    </tr>\n",
       "    <tr>\n",
       "      <th>best_mlp_model.joblib</th>\n",
       "      <td>40</td>\n",
       "      <td>5</td>\n",
       "      <td>1974.694</td>\n",
       "      <td>218.523</td>\n",
       "      <td>49.367</td>\n",
       "    </tr>\n",
       "    <tr>\n",
       "      <th>best_rf_model.joblib</th>\n",
       "      <td>1200</td>\n",
       "      <td>5</td>\n",
       "      <td>1955.061</td>\n",
       "      <td>65.293</td>\n",
       "      <td>1.629</td>\n",
       "    </tr>\n",
       "    <tr>\n",
       "      <th>best_xgb_model.joblib</th>\n",
       "      <td>5760</td>\n",
       "      <td>5</td>\n",
       "      <td>2427.986</td>\n",
       "      <td>4.314</td>\n",
       "      <td>0.422</td>\n",
       "    </tr>\n",
       "  </tbody>\n",
       "</table>\n",
       "</div>"
      ],
      "text/plain": [
       "                            totalling_fits  cv  tuning_time  \\\n",
       "best_lightGBM_model.joblib            2000   5      152.820   \n",
       "best_lin_model.joblib                  150   5        8.794   \n",
       "best_mlp_model.joblib                   40   5     1974.694   \n",
       "best_rf_model.joblib                  1200   5     1955.061   \n",
       "best_xgb_model.joblib                 5760   5     2427.986   \n",
       "\n",
       "                            best_model_fitting_time  average_tuning  \n",
       "best_lightGBM_model.joblib                    0.188           0.076  \n",
       "best_lin_model.joblib                         0.079           0.059  \n",
       "best_mlp_model.joblib                       218.523          49.367  \n",
       "best_rf_model.joblib                         65.293           1.629  \n",
       "best_xgb_model.joblib                         4.314           0.422  "
      ]
     },
     "execution_count": 16,
     "metadata": {},
     "output_type": "execute_result"
    }
   ],
   "source": [
    "timing_summary_numerical_only"
   ]
  },
  {
   "cell_type": "code",
   "execution_count": 17,
   "id": "7a12d113-993a-414a-a00e-20dd0d87bb68",
   "metadata": {},
   "outputs": [
    {
     "data": {
      "text/plain": [
       "'\\\\begin{tabular}{lrrrrr}\\n & totalling_fits & cv & tuning_time & best_model_fitting_time & average_tuning \\\\\\\\\\nbest_lightGBM_model.joblib & 2000 & 5 & 152.820000 & 0.188000 & 0.076000 \\\\\\\\\\nbest_lin_model.joblib & 150 & 5 & 8.794000 & 0.079000 & 0.059000 \\\\\\\\\\nbest_mlp_model.joblib & 40 & 5 & 1974.694000 & 218.523000 & 49.367000 \\\\\\\\\\nbest_rf_model.joblib & 1200 & 5 & 1955.061000 & 65.293000 & 1.629000 \\\\\\\\\\nbest_xgb_model.joblib & 5760 & 5 & 2427.986000 & 4.314000 & 0.422000 \\\\\\\\\\n\\\\end{tabular}\\n'"
      ]
     },
     "execution_count": 17,
     "metadata": {},
     "output_type": "execute_result"
    }
   ],
   "source": [
    "timing_summary_numerical_only.style.to_latex()"
   ]
  },
  {
   "cell_type": "markdown",
   "id": "90bedb8c-f340-4288-a4ee-0b071daaf0fc",
   "metadata": {},
   "source": [
    "# cv5_numerical_only_withstd"
   ]
  },
  {
   "cell_type": "code",
   "execution_count": 18,
   "id": "258fdc75-e187-40e1-889d-0a91e6fefde8",
   "metadata": {
    "tags": []
   },
   "outputs": [],
   "source": [
    "rel_path = 'results\\\\cv5_numerical_only_withstd'"
   ]
  },
  {
   "cell_type": "code",
   "execution_count": 19,
   "id": "7e4569f0-8669-4ee0-b0c3-0595ff823ed0",
   "metadata": {
    "tags": []
   },
   "outputs": [],
   "source": [
    "performance_summary_numerical_cv5_numerical_only_withstd, timing_summary_numerical_cv5_numerical_only_withstd = model_summary(path_, rel_path)"
   ]
  },
  {
   "cell_type": "code",
   "execution_count": 20,
   "id": "01244ec1-47e1-4023-a8d5-23ae644503f2",
   "metadata": {},
   "outputs": [
    {
     "name": "stderr",
     "output_type": "stream",
     "text": [
      "C:\\Users\\Dennis\\AppData\\Local\\Temp\\ipykernel_28464\\4054605800.py:1: FutureWarning: The frame.append method is deprecated and will be removed from pandas in a future version. Use pandas.concat instead.\n",
      "  performance_summary_numerical_cv5_numerical_only_withstd = performance_summary_numerical_cv5_numerical_only_withstd.append(benchmark_summary)\n"
     ]
    }
   ],
   "source": [
    "performance_summary_numerical_cv5_numerical_only_withstd = performance_summary_numerical_cv5_numerical_only_withstd.append(benchmark_summary)"
   ]
  },
  {
   "cell_type": "code",
   "execution_count": 21,
   "id": "d5a42431-527d-4806-a74e-33b9886107a5",
   "metadata": {
    "tags": []
   },
   "outputs": [
    {
     "data": {
      "text/html": [
       "<div>\n",
       "<style scoped>\n",
       "    .dataframe tbody tr th:only-of-type {\n",
       "        vertical-align: middle;\n",
       "    }\n",
       "\n",
       "    .dataframe tbody tr th {\n",
       "        vertical-align: top;\n",
       "    }\n",
       "\n",
       "    .dataframe thead th {\n",
       "        text-align: right;\n",
       "    }\n",
       "</style>\n",
       "<table border=\"1\" class=\"dataframe\">\n",
       "  <thead>\n",
       "    <tr style=\"text-align: right;\">\n",
       "      <th></th>\n",
       "      <th>rmse</th>\n",
       "      <th>mape</th>\n",
       "      <th>wmape</th>\n",
       "      <th>wbias</th>\n",
       "      <th>wuforec</th>\n",
       "      <th>woforec</th>\n",
       "    </tr>\n",
       "  </thead>\n",
       "  <tbody>\n",
       "    <tr>\n",
       "      <th>best_lightGBM_model.joblib</th>\n",
       "      <td>10.844</td>\n",
       "      <td>9.327</td>\n",
       "      <td>9.465</td>\n",
       "      <td>0.862</td>\n",
       "      <td>5.164</td>\n",
       "      <td>4.302</td>\n",
       "    </tr>\n",
       "    <tr>\n",
       "      <th>best_lin_model.joblib</th>\n",
       "      <td>12.037</td>\n",
       "      <td>10.742</td>\n",
       "      <td>10.916</td>\n",
       "      <td>0.406</td>\n",
       "      <td>5.661</td>\n",
       "      <td>5.255</td>\n",
       "    </tr>\n",
       "    <tr>\n",
       "      <th>best_mlp_model.joblib</th>\n",
       "      <td>14.198</td>\n",
       "      <td>12.919</td>\n",
       "      <td>13.161</td>\n",
       "      <td>-5.499</td>\n",
       "      <td>3.831</td>\n",
       "      <td>9.330</td>\n",
       "    </tr>\n",
       "    <tr>\n",
       "      <th>best_rf_model.joblib</th>\n",
       "      <td>11.472</td>\n",
       "      <td>9.710</td>\n",
       "      <td>9.865</td>\n",
       "      <td>0.837</td>\n",
       "      <td>5.351</td>\n",
       "      <td>4.514</td>\n",
       "    </tr>\n",
       "    <tr>\n",
       "      <th>best_xgb_model.joblib</th>\n",
       "      <td>10.958</td>\n",
       "      <td>9.221</td>\n",
       "      <td>9.363</td>\n",
       "      <td>0.985</td>\n",
       "      <td>5.174</td>\n",
       "      <td>4.189</td>\n",
       "    </tr>\n",
       "    <tr>\n",
       "      <th>benchmark</th>\n",
       "      <td>29.518</td>\n",
       "      <td>32.206</td>\n",
       "      <td>32.350</td>\n",
       "      <td>-3.256</td>\n",
       "      <td>14.547</td>\n",
       "      <td>17.803</td>\n",
       "    </tr>\n",
       "  </tbody>\n",
       "</table>\n",
       "</div>"
      ],
      "text/plain": [
       "                              rmse    mape   wmape  wbias  wuforec  woforec\n",
       "best_lightGBM_model.joblib  10.844   9.327   9.465  0.862    5.164    4.302\n",
       "best_lin_model.joblib       12.037  10.742  10.916  0.406    5.661    5.255\n",
       "best_mlp_model.joblib       14.198  12.919  13.161 -5.499    3.831    9.330\n",
       "best_rf_model.joblib        11.472   9.710   9.865  0.837    5.351    4.514\n",
       "best_xgb_model.joblib       10.958   9.221   9.363  0.985    5.174    4.189\n",
       "benchmark                   29.518  32.206  32.350 -3.256   14.547   17.803"
      ]
     },
     "execution_count": 21,
     "metadata": {},
     "output_type": "execute_result"
    }
   ],
   "source": [
    "performance_summary_numerical_cv5_numerical_only_withstd"
   ]
  },
  {
   "cell_type": "code",
   "execution_count": 22,
   "id": "ac2438e4-e269-4f29-9f0d-49bcedba5daa",
   "metadata": {},
   "outputs": [
    {
     "data": {
      "text/plain": [
       "'\\\\begin{tabular}{lrrrrrr}\\n & rmse & mape & wmape & wbias & wuforec & woforec \\\\\\\\\\nbest_lightGBM_model.joblib & 10.844000 & 9.327000 & 9.465000 & 0.862000 & 5.164000 & 4.302000 \\\\\\\\\\nbest_lin_model.joblib & 12.037000 & 10.742000 & 10.916000 & 0.406000 & 5.661000 & 5.255000 \\\\\\\\\\nbest_mlp_model.joblib & 14.198000 & 12.919000 & 13.161000 & -5.499000 & 3.831000 & 9.330000 \\\\\\\\\\nbest_rf_model.joblib & 11.472000 & 9.710000 & 9.865000 & 0.837000 & 5.351000 & 4.514000 \\\\\\\\\\nbest_xgb_model.joblib & 10.958000 & 9.221000 & 9.363000 & 0.985000 & 5.174000 & 4.189000 \\\\\\\\\\nbenchmark & 29.518000 & 32.206000 & 32.350000 & -3.256000 & 14.547000 & 17.803000 \\\\\\\\\\n\\\\end{tabular}\\n'"
      ]
     },
     "execution_count": 22,
     "metadata": {},
     "output_type": "execute_result"
    }
   ],
   "source": [
    "performance_summary_numerical_cv5_numerical_only_withstd.style.to_latex()"
   ]
  },
  {
   "cell_type": "code",
   "execution_count": 23,
   "id": "bfa0dea3-352d-47a5-a826-3f7120985df6",
   "metadata": {
    "tags": []
   },
   "outputs": [
    {
     "data": {
      "text/html": [
       "<div>\n",
       "<style scoped>\n",
       "    .dataframe tbody tr th:only-of-type {\n",
       "        vertical-align: middle;\n",
       "    }\n",
       "\n",
       "    .dataframe tbody tr th {\n",
       "        vertical-align: top;\n",
       "    }\n",
       "\n",
       "    .dataframe thead th {\n",
       "        text-align: right;\n",
       "    }\n",
       "</style>\n",
       "<table border=\"1\" class=\"dataframe\">\n",
       "  <thead>\n",
       "    <tr style=\"text-align: right;\">\n",
       "      <th></th>\n",
       "      <th>totalling_fits</th>\n",
       "      <th>cv</th>\n",
       "      <th>tuning_time</th>\n",
       "      <th>best_model_fitting_time</th>\n",
       "      <th>average_tuning</th>\n",
       "    </tr>\n",
       "  </thead>\n",
       "  <tbody>\n",
       "    <tr>\n",
       "      <th>best_lightGBM_model.joblib</th>\n",
       "      <td>2000</td>\n",
       "      <td>5</td>\n",
       "      <td>159.920</td>\n",
       "      <td>0.193</td>\n",
       "      <td>0.080</td>\n",
       "    </tr>\n",
       "    <tr>\n",
       "      <th>best_lin_model.joblib</th>\n",
       "      <td>150</td>\n",
       "      <td>5</td>\n",
       "      <td>3.323</td>\n",
       "      <td>0.071</td>\n",
       "      <td>0.022</td>\n",
       "    </tr>\n",
       "    <tr>\n",
       "      <th>best_mlp_model.joblib</th>\n",
       "      <td>40</td>\n",
       "      <td>5</td>\n",
       "      <td>1948.634</td>\n",
       "      <td>116.050</td>\n",
       "      <td>48.716</td>\n",
       "    </tr>\n",
       "    <tr>\n",
       "      <th>best_rf_model.joblib</th>\n",
       "      <td>1200</td>\n",
       "      <td>5</td>\n",
       "      <td>1934.507</td>\n",
       "      <td>64.575</td>\n",
       "      <td>1.612</td>\n",
       "    </tr>\n",
       "    <tr>\n",
       "      <th>best_xgb_model.joblib</th>\n",
       "      <td>5760</td>\n",
       "      <td>5</td>\n",
       "      <td>2429.882</td>\n",
       "      <td>4.297</td>\n",
       "      <td>0.422</td>\n",
       "    </tr>\n",
       "  </tbody>\n",
       "</table>\n",
       "</div>"
      ],
      "text/plain": [
       "                            totalling_fits  cv  tuning_time  \\\n",
       "best_lightGBM_model.joblib            2000   5      159.920   \n",
       "best_lin_model.joblib                  150   5        3.323   \n",
       "best_mlp_model.joblib                   40   5     1948.634   \n",
       "best_rf_model.joblib                  1200   5     1934.507   \n",
       "best_xgb_model.joblib                 5760   5     2429.882   \n",
       "\n",
       "                            best_model_fitting_time  average_tuning  \n",
       "best_lightGBM_model.joblib                    0.193           0.080  \n",
       "best_lin_model.joblib                         0.071           0.022  \n",
       "best_mlp_model.joblib                       116.050          48.716  \n",
       "best_rf_model.joblib                         64.575           1.612  \n",
       "best_xgb_model.joblib                         4.297           0.422  "
      ]
     },
     "execution_count": 23,
     "metadata": {},
     "output_type": "execute_result"
    }
   ],
   "source": [
    "timing_summary_numerical_cv5_numerical_only_withstd"
   ]
  },
  {
   "cell_type": "code",
   "execution_count": 24,
   "id": "26e01b25-3a74-40e1-82e8-bcd6f3ce8f04",
   "metadata": {},
   "outputs": [
    {
     "data": {
      "text/plain": [
       "'\\\\begin{tabular}{lrrrrr}\\n & totalling_fits & cv & tuning_time & best_model_fitting_time & average_tuning \\\\\\\\\\nbest_lightGBM_model.joblib & 2000 & 5 & 159.920000 & 0.193000 & 0.080000 \\\\\\\\\\nbest_lin_model.joblib & 150 & 5 & 3.323000 & 0.071000 & 0.022000 \\\\\\\\\\nbest_mlp_model.joblib & 40 & 5 & 1948.634000 & 116.050000 & 48.716000 \\\\\\\\\\nbest_rf_model.joblib & 1200 & 5 & 1934.507000 & 64.575000 & 1.612000 \\\\\\\\\\nbest_xgb_model.joblib & 5760 & 5 & 2429.882000 & 4.297000 & 0.422000 \\\\\\\\\\n\\\\end{tabular}\\n'"
      ]
     },
     "execution_count": 24,
     "metadata": {},
     "output_type": "execute_result"
    }
   ],
   "source": [
    "timing_summary_numerical_cv5_numerical_only_withstd.style.to_latex()"
   ]
  },
  {
   "cell_type": "code",
   "execution_count": null,
   "id": "58e7d723-99ae-4951-a33a-ff3cb9b71cd3",
   "metadata": {},
   "outputs": [],
   "source": []
  },
  {
   "cell_type": "markdown",
   "id": "7378e31f-a211-478a-9d36-4031001c65ec",
   "metadata": {},
   "source": [
    "# cv5_withCategorical_withstd"
   ]
  },
  {
   "cell_type": "code",
   "execution_count": 25,
   "id": "53d1c8ee-92a2-4fd1-b583-9058e8694325",
   "metadata": {
    "tags": []
   },
   "outputs": [],
   "source": [
    "rel_path = 'results\\\\cv5_withCategorical_withstd'"
   ]
  },
  {
   "cell_type": "code",
   "execution_count": 26,
   "id": "a429acb5-ab0d-40ce-a8ee-227fed5a09bc",
   "metadata": {
    "tags": []
   },
   "outputs": [],
   "source": [
    "performance_summary_numerical_cv5_withCategorical_withstd, timing_summary_numerical_cv5_withCategorical_withstd = model_summary(path_, rel_path)\n"
   ]
  },
  {
   "cell_type": "code",
   "execution_count": 27,
   "id": "8ac30fef-7eb8-4e83-9054-59927f1683ea",
   "metadata": {
    "tags": []
   },
   "outputs": [
    {
     "name": "stderr",
     "output_type": "stream",
     "text": [
      "C:\\Users\\Dennis\\AppData\\Local\\Temp\\ipykernel_28464\\3223384742.py:1: FutureWarning: The frame.append method is deprecated and will be removed from pandas in a future version. Use pandas.concat instead.\n",
      "  performance_summary_numerical_cv5_withCategorical_withstd = performance_summary_numerical_cv5_withCategorical_withstd.append(benchmark_summary)\n"
     ]
    }
   ],
   "source": [
    "performance_summary_numerical_cv5_withCategorical_withstd = performance_summary_numerical_cv5_withCategorical_withstd.append(benchmark_summary)"
   ]
  },
  {
   "cell_type": "code",
   "execution_count": 28,
   "id": "3ed90bf5-5c39-4160-bc62-52eb7a478e0a",
   "metadata": {
    "tags": []
   },
   "outputs": [
    {
     "data": {
      "text/html": [
       "<div>\n",
       "<style scoped>\n",
       "    .dataframe tbody tr th:only-of-type {\n",
       "        vertical-align: middle;\n",
       "    }\n",
       "\n",
       "    .dataframe tbody tr th {\n",
       "        vertical-align: top;\n",
       "    }\n",
       "\n",
       "    .dataframe thead th {\n",
       "        text-align: right;\n",
       "    }\n",
       "</style>\n",
       "<table border=\"1\" class=\"dataframe\">\n",
       "  <thead>\n",
       "    <tr style=\"text-align: right;\">\n",
       "      <th></th>\n",
       "      <th>rmse</th>\n",
       "      <th>mape</th>\n",
       "      <th>wmape</th>\n",
       "      <th>wbias</th>\n",
       "      <th>wuforec</th>\n",
       "      <th>woforec</th>\n",
       "    </tr>\n",
       "  </thead>\n",
       "  <tbody>\n",
       "    <tr>\n",
       "      <th>best_lightGBM_model.joblib</th>\n",
       "      <td>11.040</td>\n",
       "      <td>9.218</td>\n",
       "      <td>9.358</td>\n",
       "      <td>0.947</td>\n",
       "      <td>5.152</td>\n",
       "      <td>4.205</td>\n",
       "    </tr>\n",
       "    <tr>\n",
       "      <th>best_lin_model.joblib</th>\n",
       "      <td>11.914</td>\n",
       "      <td>10.792</td>\n",
       "      <td>10.958</td>\n",
       "      <td>1.315</td>\n",
       "      <td>6.136</td>\n",
       "      <td>4.822</td>\n",
       "    </tr>\n",
       "    <tr>\n",
       "      <th>best_mlp_model.joblib</th>\n",
       "      <td>14.420</td>\n",
       "      <td>14.541</td>\n",
       "      <td>14.608</td>\n",
       "      <td>3.970</td>\n",
       "      <td>9.289</td>\n",
       "      <td>5.319</td>\n",
       "    </tr>\n",
       "    <tr>\n",
       "      <th>best_rf_model.joblib</th>\n",
       "      <td>11.711</td>\n",
       "      <td>9.705</td>\n",
       "      <td>9.874</td>\n",
       "      <td>0.653</td>\n",
       "      <td>5.263</td>\n",
       "      <td>4.611</td>\n",
       "    </tr>\n",
       "    <tr>\n",
       "      <th>best_xgb_model.joblib</th>\n",
       "      <td>11.139</td>\n",
       "      <td>9.288</td>\n",
       "      <td>9.435</td>\n",
       "      <td>1.122</td>\n",
       "      <td>5.279</td>\n",
       "      <td>4.157</td>\n",
       "    </tr>\n",
       "    <tr>\n",
       "      <th>benchmark</th>\n",
       "      <td>29.518</td>\n",
       "      <td>32.206</td>\n",
       "      <td>32.350</td>\n",
       "      <td>-3.256</td>\n",
       "      <td>14.547</td>\n",
       "      <td>17.803</td>\n",
       "    </tr>\n",
       "  </tbody>\n",
       "</table>\n",
       "</div>"
      ],
      "text/plain": [
       "                              rmse    mape   wmape  wbias  wuforec  woforec\n",
       "best_lightGBM_model.joblib  11.040   9.218   9.358  0.947    5.152    4.205\n",
       "best_lin_model.joblib       11.914  10.792  10.958  1.315    6.136    4.822\n",
       "best_mlp_model.joblib       14.420  14.541  14.608  3.970    9.289    5.319\n",
       "best_rf_model.joblib        11.711   9.705   9.874  0.653    5.263    4.611\n",
       "best_xgb_model.joblib       11.139   9.288   9.435  1.122    5.279    4.157\n",
       "benchmark                   29.518  32.206  32.350 -3.256   14.547   17.803"
      ]
     },
     "execution_count": 28,
     "metadata": {},
     "output_type": "execute_result"
    }
   ],
   "source": [
    "performance_summary_numerical_cv5_withCategorical_withstd"
   ]
  },
  {
   "cell_type": "code",
   "execution_count": 29,
   "id": "d69c844f-0522-4f7b-be80-7164cc709511",
   "metadata": {
    "tags": []
   },
   "outputs": [
    {
     "data": {
      "text/plain": [
       "'\\\\begin{tabular}{lrrrrrr}\\n & rmse & mape & wmape & wbias & wuforec & woforec \\\\\\\\\\nbest_lightGBM_model.joblib & 11.040000 & 9.218000 & 9.358000 & 0.947000 & 5.152000 & 4.205000 \\\\\\\\\\nbest_lin_model.joblib & 11.914000 & 10.792000 & 10.958000 & 1.315000 & 6.136000 & 4.822000 \\\\\\\\\\nbest_mlp_model.joblib & 14.420000 & 14.541000 & 14.608000 & 3.970000 & 9.289000 & 5.319000 \\\\\\\\\\nbest_rf_model.joblib & 11.711000 & 9.705000 & 9.874000 & 0.653000 & 5.263000 & 4.611000 \\\\\\\\\\nbest_xgb_model.joblib & 11.139000 & 9.288000 & 9.435000 & 1.122000 & 5.279000 & 4.157000 \\\\\\\\\\nbenchmark & 29.518000 & 32.206000 & 32.350000 & -3.256000 & 14.547000 & 17.803000 \\\\\\\\\\n\\\\end{tabular}\\n'"
      ]
     },
     "execution_count": 29,
     "metadata": {},
     "output_type": "execute_result"
    }
   ],
   "source": [
    "performance_summary_numerical_cv5_withCategorical_withstd.style.to_latex()"
   ]
  },
  {
   "cell_type": "code",
   "execution_count": 30,
   "id": "c1131bd3-7e70-4045-b88d-adbc714d7d04",
   "metadata": {
    "tags": []
   },
   "outputs": [],
   "source": [
    "timing_summary_numerical_cv5_withCategorical_withstd['totalling_fits'] = timing_summary_numerical_cv5_withCategorical_withstd['totalling_fits'] * 5 "
   ]
  },
  {
   "cell_type": "code",
   "execution_count": 31,
   "id": "b5adfdeb-bd9e-44a3-8f3d-b9b8a228ca0f",
   "metadata": {
    "tags": []
   },
   "outputs": [],
   "source": [
    "timing_summary_numerical_cv5_withCategorical_withstd['average_tuning'] = timing_summary_numerical_cv5_withCategorical_withstd['tuning_time']/ timing_summary_numerical_cv5_withCategorical_withstd['totalling_fits']"
   ]
  },
  {
   "cell_type": "code",
   "execution_count": 32,
   "id": "999b001c-dc70-482c-bab3-98aca258b36b",
   "metadata": {
    "tags": []
   },
   "outputs": [
    {
     "data": {
      "text/html": [
       "<div>\n",
       "<style scoped>\n",
       "    .dataframe tbody tr th:only-of-type {\n",
       "        vertical-align: middle;\n",
       "    }\n",
       "\n",
       "    .dataframe tbody tr th {\n",
       "        vertical-align: top;\n",
       "    }\n",
       "\n",
       "    .dataframe thead th {\n",
       "        text-align: right;\n",
       "    }\n",
       "</style>\n",
       "<table border=\"1\" class=\"dataframe\">\n",
       "  <thead>\n",
       "    <tr style=\"text-align: right;\">\n",
       "      <th></th>\n",
       "      <th>totalling_fits</th>\n",
       "      <th>tuning_time</th>\n",
       "      <th>best_model_fitting_time</th>\n",
       "      <th>average_tuning</th>\n",
       "    </tr>\n",
       "  </thead>\n",
       "  <tbody>\n",
       "    <tr>\n",
       "      <th>best_lightGBM_model.joblib</th>\n",
       "      <td>2000</td>\n",
       "      <td>213.437</td>\n",
       "      <td>0.463</td>\n",
       "      <td>0.107</td>\n",
       "    </tr>\n",
       "    <tr>\n",
       "      <th>best_lin_model.joblib</th>\n",
       "      <td>150</td>\n",
       "      <td>44.390</td>\n",
       "      <td>0.825</td>\n",
       "      <td>0.296</td>\n",
       "    </tr>\n",
       "    <tr>\n",
       "      <th>best_mlp_model.joblib</th>\n",
       "      <td>40</td>\n",
       "      <td>2147.055</td>\n",
       "      <td>65.814</td>\n",
       "      <td>53.676</td>\n",
       "    </tr>\n",
       "    <tr>\n",
       "      <th>best_rf_model.joblib</th>\n",
       "      <td>1200</td>\n",
       "      <td>3633.047</td>\n",
       "      <td>115.665</td>\n",
       "      <td>3.028</td>\n",
       "    </tr>\n",
       "    <tr>\n",
       "      <th>best_xgb_model.joblib</th>\n",
       "      <td>5760</td>\n",
       "      <td>13320.127</td>\n",
       "      <td>4.156</td>\n",
       "      <td>2.313</td>\n",
       "    </tr>\n",
       "  </tbody>\n",
       "</table>\n",
       "</div>"
      ],
      "text/plain": [
       "                            totalling_fits  tuning_time  \\\n",
       "best_lightGBM_model.joblib            2000      213.437   \n",
       "best_lin_model.joblib                  150       44.390   \n",
       "best_mlp_model.joblib                   40     2147.055   \n",
       "best_rf_model.joblib                  1200     3633.047   \n",
       "best_xgb_model.joblib                 5760    13320.127   \n",
       "\n",
       "                            best_model_fitting_time  average_tuning  \n",
       "best_lightGBM_model.joblib                    0.463           0.107  \n",
       "best_lin_model.joblib                         0.825           0.296  \n",
       "best_mlp_model.joblib                        65.814          53.676  \n",
       "best_rf_model.joblib                        115.665           3.028  \n",
       "best_xgb_model.joblib                         4.156           2.313  "
      ]
     },
     "execution_count": 32,
     "metadata": {},
     "output_type": "execute_result"
    }
   ],
   "source": [
    "timing_summary_numerical_cv5_withCategorical_withstd.round(3)"
   ]
  },
  {
   "cell_type": "code",
   "execution_count": 33,
   "id": "389ac44b-08b0-47ff-8c18-bdc508ca5822",
   "metadata": {
    "tags": []
   },
   "outputs": [
    {
     "data": {
      "text/plain": [
       "'\\\\begin{tabular}{lrrrr}\\n & totalling_fits & tuning_time & best_model_fitting_time & average_tuning \\\\\\\\\\nbest_lightGBM_model.joblib & 2000 & 213.437000 & 0.463000 & 0.106719 \\\\\\\\\\nbest_lin_model.joblib & 150 & 44.390000 & 0.825000 & 0.295933 \\\\\\\\\\nbest_mlp_model.joblib & 40 & 2147.055000 & 65.814000 & 53.676375 \\\\\\\\\\nbest_rf_model.joblib & 1200 & 3633.047000 & 115.665000 & 3.027539 \\\\\\\\\\nbest_xgb_model.joblib & 5760 & 13320.127000 & 4.156000 & 2.312522 \\\\\\\\\\n\\\\end{tabular}\\n'"
      ]
     },
     "execution_count": 33,
     "metadata": {},
     "output_type": "execute_result"
    }
   ],
   "source": [
    "timing_summary_numerical_cv5_withCategorical_withstd.style.to_latex()"
   ]
  },
  {
   "cell_type": "code",
   "execution_count": null,
   "id": "6fa0c3b2-51af-4e19-8ddf-18ae1e7bab70",
   "metadata": {},
   "outputs": [],
   "source": []
  },
  {
   "cell_type": "code",
   "execution_count": null,
   "id": "ebbf6cde-e197-41d3-b70e-2e45828bffb7",
   "metadata": {},
   "outputs": [],
   "source": []
  }
 ],
 "metadata": {
  "kernelspec": {
   "display_name": "Python 3 (ipykernel)",
   "language": "python",
   "name": "python3"
  },
  "language_info": {
   "codemirror_mode": {
    "name": "ipython",
    "version": 3
   },
   "file_extension": ".py",
   "mimetype": "text/x-python",
   "name": "python",
   "nbconvert_exporter": "python",
   "pygments_lexer": "ipython3",
   "version": "3.11.4"
  }
 },
 "nbformat": 4,
 "nbformat_minor": 5
}
