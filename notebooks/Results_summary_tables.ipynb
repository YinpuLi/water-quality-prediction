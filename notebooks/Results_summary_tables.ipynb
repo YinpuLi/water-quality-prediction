{
 "cells": [
  {
   "cell_type": "markdown",
   "id": "0c6b2676-eea2-4584-beb2-0e86743aca1d",
   "metadata": {},
   "source": [
    "# Performance Table"
   ]
  },
  {
   "cell_type": "code",
   "execution_count": 1,
   "id": "db96a5a4-9e8b-48eb-bcf5-2fc310a99045",
   "metadata": {
    "tags": []
   },
   "outputs": [],
   "source": [
    "import pandas as pd\n",
    "import numpy as np\n",
    "import os\n",
    "import sys\n",
    "\n",
    "\n",
    "import warnings\n",
    "warnings.filterwarnings(\"ignore\", category=DeprecationWarning)\n"
   ]
  },
  {
   "cell_type": "code",
   "execution_count": 2,
   "id": "8209e710-02b7-4204-9798-e5fbccdcba05",
   "metadata": {
    "tags": []
   },
   "outputs": [],
   "source": [
    "import os\n",
    "os.getcwd()\n",
    "os.chdir('../')\n",
    "\n",
    "\n",
    "from utils.utils     import *\n",
    "from utils.constants import *\n",
    "from utils.metrics   import *\n",
    "\n",
    "from os import listdir\n",
    "from os.path import isfile, join"
   ]
  },
  {
   "cell_type": "code",
   "execution_count": 3,
   "id": "8332d07a-a533-4319-aa73-a399f78be8f5",
   "metadata": {
    "tags": []
   },
   "outputs": [],
   "source": [
    "path_ = os.getcwd()"
   ]
  },
  {
   "cell_type": "code",
   "execution_count": null,
   "id": "3a366cd7-070d-4621-8a89-cd9737bd2ab0",
   "metadata": {},
   "outputs": [],
   "source": []
  },
  {
   "cell_type": "markdown",
   "id": "0c0bd975-b910-49a3-8ae3-ea87976d6e2b",
   "metadata": {},
   "source": [
    "# benchmark"
   ]
  },
  {
   "cell_type": "code",
   "execution_count": 4,
   "id": "54c2392b-c656-408a-ad94-8bed38823839",
   "metadata": {
    "tags": []
   },
   "outputs": [],
   "source": [
    "y_train = pd.read_csv(path_ + '\\\\data' + '\\\\y_train.csv')\n",
    "\n",
    "y_test = pd.read_csv(path_ + '\\\\data' + '\\\\y_test.csv')"
   ]
  },
  {
   "cell_type": "code",
   "execution_count": null,
   "id": "c226c092-6790-4faa-a879-d9238596fe6c",
   "metadata": {},
   "outputs": [],
   "source": []
  },
  {
   "cell_type": "code",
   "execution_count": 5,
   "id": "4021cf6a-1daa-43e7-80fd-4b9f78df2d5e",
   "metadata": {
    "tags": []
   },
   "outputs": [
    {
     "name": "stderr",
     "output_type": "stream",
     "text": [
      "D:\\anaconda3\\Lib\\site-packages\\numpy\\core\\fromnumeric.py:3462: FutureWarning: In a future version, DataFrame.mean(axis=None) will return a scalar mean over the entire DataFrame. To retain the old behavior, use 'frame.mean(axis=0)' or just 'frame.mean()'\n",
      "  return mean(axis=axis, dtype=dtype, out=out, **kwargs)\n"
     ]
    }
   ],
   "source": [
    "y_predict_average_ini = [1] * len(y_test)\n",
    "\n",
    "mean_predict = (np.mean(y_train))[0]\n",
    "y_predict_average = [ x * mean_predict  for x in y_predict_average_ini ]"
   ]
  },
  {
   "cell_type": "code",
   "execution_count": 6,
   "id": "ec5e566d-8512-4e6b-9f11-e3adb6f699c7",
   "metadata": {
    "tags": []
   },
   "outputs": [],
   "source": [
    "benchmark_results = pd.concat([y_test,pd.DataFrame({'forecast': y_predict_average})], axis=1)\n",
    "benchmark_results = benchmark_results.rename(columns={\"measurement\": \"actual\"})"
   ]
  },
  {
   "cell_type": "code",
   "execution_count": 7,
   "id": "e0c1efa4-6163-49fa-b745-16ee57115592",
   "metadata": {
    "tags": []
   },
   "outputs": [],
   "source": [
    "benchmark_df = compute_metrics(benchmark_results, EVAL_METRIC_LIST)"
   ]
  },
  {
   "cell_type": "code",
   "execution_count": 8,
   "id": "8624d871-13e7-4f99-9223-f1ff78db5c1e",
   "metadata": {
    "tags": []
   },
   "outputs": [],
   "source": [
    "benchmark_summary =  (pd.DataFrame(benchmark_df, index = ['benchmark'])*1000).round(3)"
   ]
  },
  {
   "cell_type": "code",
   "execution_count": 9,
   "id": "54bdd915-3f97-46c7-a10d-a9f2d740b37a",
   "metadata": {
    "tags": []
   },
   "outputs": [
    {
     "data": {
      "text/html": [
       "<div>\n",
       "<style scoped>\n",
       "    .dataframe tbody tr th:only-of-type {\n",
       "        vertical-align: middle;\n",
       "    }\n",
       "\n",
       "    .dataframe tbody tr th {\n",
       "        vertical-align: top;\n",
       "    }\n",
       "\n",
       "    .dataframe thead th {\n",
       "        text-align: right;\n",
       "    }\n",
       "</style>\n",
       "<table border=\"1\" class=\"dataframe\">\n",
       "  <thead>\n",
       "    <tr style=\"text-align: right;\">\n",
       "      <th></th>\n",
       "      <th>rmse</th>\n",
       "      <th>mape</th>\n",
       "      <th>wmape</th>\n",
       "      <th>wbias</th>\n",
       "      <th>wuforec</th>\n",
       "      <th>woforec</th>\n",
       "    </tr>\n",
       "  </thead>\n",
       "  <tbody>\n",
       "    <tr>\n",
       "      <th>benchmark</th>\n",
       "      <td>29.518</td>\n",
       "      <td>32.206</td>\n",
       "      <td>32.35</td>\n",
       "      <td>-3.256</td>\n",
       "      <td>14.547</td>\n",
       "      <td>17.803</td>\n",
       "    </tr>\n",
       "  </tbody>\n",
       "</table>\n",
       "</div>"
      ],
      "text/plain": [
       "             rmse    mape  wmape  wbias  wuforec  woforec\n",
       "benchmark  29.518  32.206  32.35 -3.256   14.547   17.803"
      ]
     },
     "execution_count": 9,
     "metadata": {},
     "output_type": "execute_result"
    }
   ],
   "source": [
    "benchmark_summary"
   ]
  },
  {
   "cell_type": "markdown",
   "id": "1c6b2362-30bf-4226-a885-75b647c977a2",
   "metadata": {},
   "source": [
    "# Models Summary"
   ]
  },
  {
   "cell_type": "code",
   "execution_count": 10,
   "id": "9c36d5ce-15cc-48a4-a872-aa829d73c5fb",
   "metadata": {
    "tags": []
   },
   "outputs": [],
   "source": [
    "def model_summary(path_, rel_path):\n",
    "    \"\"\"\n",
    "    path_: path for 'water-quality-prediction-08-27-yl-rerun' or similar folder\n",
    "    \n",
    "    rel_path: path for saved best models\n",
    "    \n",
    "    Returns:\n",
    "    Two Pd.DataFrame()\n",
    "    \n",
    "    performance_summary: eval_metrics summary\n",
    "    timing_summary:\n",
    "    \n",
    "    \"\"\"\n",
    "        \n",
    "    performance_summary = pd.DataFrame()\n",
    "    timing_summary = pd.DataFrame()\n",
    "\n",
    "    results_path = path_ + \"\\\\\" + rel_path\n",
    "    results_files = [f for f in listdir(results_path) if isfile(join(results_path, f))]\n",
    "    filtered_results_files = [word for word in results_files if \".joblib\" in word]\n",
    "    \n",
    "    for best_model_name in filtered_results_files:\n",
    "        best_model_file = path_ + \"\\\\\" + rel_path + \"\\\\\" + best_model_name\n",
    "        best_model, best_model_info = load_model(best_model_file)\n",
    "        eval_metrics= best_model_info['eval_metrics']\n",
    "        eval_metrics = (pd.DataFrame(eval_metrics, index = [best_model_name])*1000).round(3)\n",
    "        performance_summary = pd.concat([performance_summary, eval_metrics])\n",
    "\n",
    "        timing = {k:best_model_info[k] for k in ('totalling_fits', 'cv', 'tuning_time',\n",
    "     'best_model_fitting_time') if k in best_model_info}\n",
    "        timing['average_tuning'] = timing['tuning_time'] / timing['totalling_fits']\n",
    "\n",
    "        timing = (pd.DataFrame(timing, index = [best_model_name])).round(3)\n",
    "        timing_summary = pd.concat([timing_summary, timing])\n",
    "    return performance_summary, timing_summary\n",
    "    "
   ]
  },
  {
   "cell_type": "markdown",
   "id": "58fb8d0f-255b-46e6-9dae-852c1b7dbba1",
   "metadata": {},
   "source": [
    "# cv5_numerical only"
   ]
  },
  {
   "cell_type": "code",
   "execution_count": 11,
   "id": "f0dd2505-5543-4e48-8c30-cbcadb66b1e0",
   "metadata": {
    "tags": []
   },
   "outputs": [],
   "source": [
    "rel_path = 'results\\\\cv5_numerical only'"
   ]
  },
  {
   "cell_type": "code",
   "execution_count": 12,
   "id": "f8248b3a-2cbc-4e78-8471-7a5db57cc9b6",
   "metadata": {
    "tags": []
   },
   "outputs": [],
   "source": [
    "performance_summary_numerical_only, timing_summary_numerical_only = model_summary(path_, rel_path)"
   ]
  },
  {
   "cell_type": "code",
   "execution_count": 13,
   "id": "f6062029-b340-4ee8-8a80-fc16581aeebd",
   "metadata": {
    "tags": []
   },
   "outputs": [
    {
     "name": "stderr",
     "output_type": "stream",
     "text": [
      "C:\\Users\\Dennis\\AppData\\Local\\Temp\\ipykernel_23536\\3348829722.py:1: FutureWarning: The frame.append method is deprecated and will be removed from pandas in a future version. Use pandas.concat instead.\n",
      "  performance_summary_numerical_only = performance_summary_numerical_only.append(benchmark_summary)\n"
     ]
    }
   ],
   "source": [
    "performance_summary_numerical_only = performance_summary_numerical_only.append(benchmark_summary)"
   ]
  },
  {
   "cell_type": "code",
   "execution_count": 14,
   "id": "a3d6ac81-4765-44fb-9087-eb210cb6a02a",
   "metadata": {
    "tags": []
   },
   "outputs": [
    {
     "data": {
      "text/html": [
       "<div>\n",
       "<style scoped>\n",
       "    .dataframe tbody tr th:only-of-type {\n",
       "        vertical-align: middle;\n",
       "    }\n",
       "\n",
       "    .dataframe tbody tr th {\n",
       "        vertical-align: top;\n",
       "    }\n",
       "\n",
       "    .dataframe thead th {\n",
       "        text-align: right;\n",
       "    }\n",
       "</style>\n",
       "<table border=\"1\" class=\"dataframe\">\n",
       "  <thead>\n",
       "    <tr style=\"text-align: right;\">\n",
       "      <th></th>\n",
       "      <th>rmse</th>\n",
       "      <th>mape</th>\n",
       "      <th>wmape</th>\n",
       "      <th>wbias</th>\n",
       "      <th>wuforec</th>\n",
       "      <th>woforec</th>\n",
       "    </tr>\n",
       "  </thead>\n",
       "  <tbody>\n",
       "    <tr>\n",
       "      <th>best_lightGBM_model.joblib</th>\n",
       "      <td>10.882</td>\n",
       "      <td>9.336</td>\n",
       "      <td>9.476</td>\n",
       "      <td>0.919</td>\n",
       "      <td>5.198</td>\n",
       "      <td>4.278</td>\n",
       "    </tr>\n",
       "    <tr>\n",
       "      <th>best_lin_model.joblib</th>\n",
       "      <td>12.035</td>\n",
       "      <td>10.724</td>\n",
       "      <td>10.898</td>\n",
       "      <td>0.409</td>\n",
       "      <td>5.654</td>\n",
       "      <td>5.244</td>\n",
       "    </tr>\n",
       "    <tr>\n",
       "      <th>best_mlp_model.joblib</th>\n",
       "      <td>11.619</td>\n",
       "      <td>9.996</td>\n",
       "      <td>10.151</td>\n",
       "      <td>0.114</td>\n",
       "      <td>5.132</td>\n",
       "      <td>5.018</td>\n",
       "    </tr>\n",
       "    <tr>\n",
       "      <th>best_rf_model.joblib</th>\n",
       "      <td>11.473</td>\n",
       "      <td>9.711</td>\n",
       "      <td>9.866</td>\n",
       "      <td>0.824</td>\n",
       "      <td>5.345</td>\n",
       "      <td>4.521</td>\n",
       "    </tr>\n",
       "    <tr>\n",
       "      <th>best_xgb_model.joblib</th>\n",
       "      <td>10.956</td>\n",
       "      <td>9.227</td>\n",
       "      <td>9.368</td>\n",
       "      <td>0.982</td>\n",
       "      <td>5.175</td>\n",
       "      <td>4.193</td>\n",
       "    </tr>\n",
       "    <tr>\n",
       "      <th>benchmark</th>\n",
       "      <td>29.518</td>\n",
       "      <td>32.206</td>\n",
       "      <td>32.350</td>\n",
       "      <td>-3.256</td>\n",
       "      <td>14.547</td>\n",
       "      <td>17.803</td>\n",
       "    </tr>\n",
       "  </tbody>\n",
       "</table>\n",
       "</div>"
      ],
      "text/plain": [
       "                              rmse    mape   wmape  wbias  wuforec  woforec\n",
       "best_lightGBM_model.joblib  10.882   9.336   9.476  0.919    5.198    4.278\n",
       "best_lin_model.joblib       12.035  10.724  10.898  0.409    5.654    5.244\n",
       "best_mlp_model.joblib       11.619   9.996  10.151  0.114    5.132    5.018\n",
       "best_rf_model.joblib        11.473   9.711   9.866  0.824    5.345    4.521\n",
       "best_xgb_model.joblib       10.956   9.227   9.368  0.982    5.175    4.193\n",
       "benchmark                   29.518  32.206  32.350 -3.256   14.547   17.803"
      ]
     },
     "execution_count": 14,
     "metadata": {},
     "output_type": "execute_result"
    }
   ],
   "source": [
    "performance_summary_numerical_only"
   ]
  },
  {
   "cell_type": "code",
   "execution_count": 15,
   "id": "dc6349fd-d5cc-4f6d-98e0-da58127f9fbf",
   "metadata": {
    "tags": []
   },
   "outputs": [
    {
     "name": "stdout",
     "output_type": "stream",
     "text": [
      "\\begin{tabular}{lrrrrrr}\n",
      "\\toprule\n",
      "{} &  rmse &  mape &  wmape &  wbias &  wuforec &  woforec \\\\\n",
      "\\midrule\n",
      "best\\_lightGBM\\_model.joblib & 10.88 &  9.34 &   9.48 &   0.92 &     5.20 &     4.28 \\\\\n",
      "best\\_lin\\_model.joblib      & 12.04 & 10.72 &  10.90 &   0.41 &     5.65 &     5.24 \\\\\n",
      "best\\_mlp\\_model.joblib      & 11.62 & 10.00 &  10.15 &   0.11 &     5.13 &     5.02 \\\\\n",
      "best\\_rf\\_model.joblib       & 11.47 &  9.71 &   9.87 &   0.82 &     5.34 &     4.52 \\\\\n",
      "best\\_xgb\\_model.joblib      & 10.96 &  9.23 &   9.37 &   0.98 &     5.17 &     4.19 \\\\\n",
      "benchmark                  & 29.52 & 32.21 &  32.35 &  -3.26 &    14.55 &    17.80 \\\\\n",
      "\\bottomrule\n",
      "\\end{tabular}\n",
      "\n"
     ]
    },
    {
     "name": "stderr",
     "output_type": "stream",
     "text": [
      "C:\\Users\\Dennis\\AppData\\Local\\Temp\\ipykernel_23536\\207521426.py:1: FutureWarning: In future versions `DataFrame.to_latex` is expected to utilise the base implementation of `Styler.to_latex` for formatting and rendering. The arguments signature may therefore change. It is recommended instead to use `DataFrame.style.to_latex` which also contains additional functionality.\n",
      "  print(performance_summary_numerical_only.to_latex(float_format = \"%.2f\"))\n"
     ]
    }
   ],
   "source": [
    "print(performance_summary_numerical_only.to_latex(float_format = \"%.2f\"))"
   ]
  },
  {
   "cell_type": "code",
   "execution_count": 16,
   "id": "2988eb3c-f85c-41d9-a4ab-e16f3c811183",
   "metadata": {
    "tags": []
   },
   "outputs": [
    {
     "data": {
      "text/html": [
       "<div>\n",
       "<style scoped>\n",
       "    .dataframe tbody tr th:only-of-type {\n",
       "        vertical-align: middle;\n",
       "    }\n",
       "\n",
       "    .dataframe tbody tr th {\n",
       "        vertical-align: top;\n",
       "    }\n",
       "\n",
       "    .dataframe thead th {\n",
       "        text-align: right;\n",
       "    }\n",
       "</style>\n",
       "<table border=\"1\" class=\"dataframe\">\n",
       "  <thead>\n",
       "    <tr style=\"text-align: right;\">\n",
       "      <th></th>\n",
       "      <th>totalling_fits</th>\n",
       "      <th>cv</th>\n",
       "      <th>tuning_time</th>\n",
       "      <th>best_model_fitting_time</th>\n",
       "      <th>average_tuning</th>\n",
       "    </tr>\n",
       "  </thead>\n",
       "  <tbody>\n",
       "    <tr>\n",
       "      <th>best_lightGBM_model.joblib</th>\n",
       "      <td>2000</td>\n",
       "      <td>5</td>\n",
       "      <td>152.820</td>\n",
       "      <td>0.188</td>\n",
       "      <td>0.076</td>\n",
       "    </tr>\n",
       "    <tr>\n",
       "      <th>best_lin_model.joblib</th>\n",
       "      <td>150</td>\n",
       "      <td>5</td>\n",
       "      <td>8.794</td>\n",
       "      <td>0.079</td>\n",
       "      <td>0.059</td>\n",
       "    </tr>\n",
       "    <tr>\n",
       "      <th>best_mlp_model.joblib</th>\n",
       "      <td>40</td>\n",
       "      <td>5</td>\n",
       "      <td>1974.694</td>\n",
       "      <td>218.523</td>\n",
       "      <td>49.367</td>\n",
       "    </tr>\n",
       "    <tr>\n",
       "      <th>best_rf_model.joblib</th>\n",
       "      <td>1200</td>\n",
       "      <td>5</td>\n",
       "      <td>1955.061</td>\n",
       "      <td>65.293</td>\n",
       "      <td>1.629</td>\n",
       "    </tr>\n",
       "    <tr>\n",
       "      <th>best_xgb_model.joblib</th>\n",
       "      <td>5760</td>\n",
       "      <td>5</td>\n",
       "      <td>2427.986</td>\n",
       "      <td>4.314</td>\n",
       "      <td>0.422</td>\n",
       "    </tr>\n",
       "  </tbody>\n",
       "</table>\n",
       "</div>"
      ],
      "text/plain": [
       "                            totalling_fits  cv  tuning_time  \\\n",
       "best_lightGBM_model.joblib            2000   5      152.820   \n",
       "best_lin_model.joblib                  150   5        8.794   \n",
       "best_mlp_model.joblib                   40   5     1974.694   \n",
       "best_rf_model.joblib                  1200   5     1955.061   \n",
       "best_xgb_model.joblib                 5760   5     2427.986   \n",
       "\n",
       "                            best_model_fitting_time  average_tuning  \n",
       "best_lightGBM_model.joblib                    0.188           0.076  \n",
       "best_lin_model.joblib                         0.079           0.059  \n",
       "best_mlp_model.joblib                       218.523          49.367  \n",
       "best_rf_model.joblib                         65.293           1.629  \n",
       "best_xgb_model.joblib                         4.314           0.422  "
      ]
     },
     "execution_count": 16,
     "metadata": {},
     "output_type": "execute_result"
    }
   ],
   "source": [
    "timing_summary_numerical_only"
   ]
  },
  {
   "cell_type": "code",
   "execution_count": 17,
   "id": "7a12d113-993a-414a-a00e-20dd0d87bb68",
   "metadata": {},
   "outputs": [
    {
     "name": "stdout",
     "output_type": "stream",
     "text": [
      "\\begin{tabular}{lrrrrr}\n",
      "\\toprule\n",
      "{} &  totalling\\_fits &  cv &  tuning\\_time &  best\\_model\\_fitting\\_time &  average\\_tuning \\\\\n",
      "\\midrule\n",
      "best\\_lightGBM\\_model.joblib &            2000 &   5 &       152.82 &                     0.19 &            0.08 \\\\\n",
      "best\\_lin\\_model.joblib      &             150 &   5 &         8.79 &                     0.08 &            0.06 \\\\\n",
      "best\\_mlp\\_model.joblib      &              40 &   5 &      1974.69 &                   218.52 &           49.37 \\\\\n",
      "best\\_rf\\_model.joblib       &            1200 &   5 &      1955.06 &                    65.29 &            1.63 \\\\\n",
      "best\\_xgb\\_model.joblib      &            5760 &   5 &      2427.99 &                     4.31 &            0.42 \\\\\n",
      "\\bottomrule\n",
      "\\end{tabular}\n",
      "\n"
     ]
    },
    {
     "name": "stderr",
     "output_type": "stream",
     "text": [
      "C:\\Users\\Dennis\\AppData\\Local\\Temp\\ipykernel_23536\\3102503486.py:1: FutureWarning: In future versions `DataFrame.to_latex` is expected to utilise the base implementation of `Styler.to_latex` for formatting and rendering. The arguments signature may therefore change. It is recommended instead to use `DataFrame.style.to_latex` which also contains additional functionality.\n",
      "  print(timing_summary_numerical_only.to_latex(float_format = \"%.2f\"))\n"
     ]
    }
   ],
   "source": [
    "print(timing_summary_numerical_only.to_latex(float_format = \"%.2f\"))"
   ]
  },
  {
   "cell_type": "markdown",
   "id": "90bedb8c-f340-4288-a4ee-0b071daaf0fc",
   "metadata": {},
   "source": [
    "# cv5_numerical_only_withstd"
   ]
  },
  {
   "cell_type": "code",
   "execution_count": 18,
   "id": "258fdc75-e187-40e1-889d-0a91e6fefde8",
   "metadata": {
    "tags": []
   },
   "outputs": [],
   "source": [
    "rel_path = 'results\\\\cv5_numerical_only_withstd'"
   ]
  },
  {
   "cell_type": "code",
   "execution_count": 19,
   "id": "7e4569f0-8669-4ee0-b0c3-0595ff823ed0",
   "metadata": {
    "tags": []
   },
   "outputs": [],
   "source": [
    "performance_summary_numerical_cv5_numerical_only_withstd, timing_summary_numerical_cv5_numerical_only_withstd = model_summary(path_, rel_path)"
   ]
  },
  {
   "cell_type": "code",
   "execution_count": 20,
   "id": "01244ec1-47e1-4023-a8d5-23ae644503f2",
   "metadata": {},
   "outputs": [
    {
     "name": "stderr",
     "output_type": "stream",
     "text": [
      "C:\\Users\\Dennis\\AppData\\Local\\Temp\\ipykernel_23536\\4054605800.py:1: FutureWarning: The frame.append method is deprecated and will be removed from pandas in a future version. Use pandas.concat instead.\n",
      "  performance_summary_numerical_cv5_numerical_only_withstd = performance_summary_numerical_cv5_numerical_only_withstd.append(benchmark_summary)\n"
     ]
    }
   ],
   "source": [
    "performance_summary_numerical_cv5_numerical_only_withstd = performance_summary_numerical_cv5_numerical_only_withstd.append(benchmark_summary)"
   ]
  },
  {
   "cell_type": "code",
   "execution_count": 21,
   "id": "d5a42431-527d-4806-a74e-33b9886107a5",
   "metadata": {
    "tags": []
   },
   "outputs": [
    {
     "data": {
      "text/html": [
       "<div>\n",
       "<style scoped>\n",
       "    .dataframe tbody tr th:only-of-type {\n",
       "        vertical-align: middle;\n",
       "    }\n",
       "\n",
       "    .dataframe tbody tr th {\n",
       "        vertical-align: top;\n",
       "    }\n",
       "\n",
       "    .dataframe thead th {\n",
       "        text-align: right;\n",
       "    }\n",
       "</style>\n",
       "<table border=\"1\" class=\"dataframe\">\n",
       "  <thead>\n",
       "    <tr style=\"text-align: right;\">\n",
       "      <th></th>\n",
       "      <th>rmse</th>\n",
       "      <th>mape</th>\n",
       "      <th>wmape</th>\n",
       "      <th>wbias</th>\n",
       "      <th>wuforec</th>\n",
       "      <th>woforec</th>\n",
       "    </tr>\n",
       "  </thead>\n",
       "  <tbody>\n",
       "    <tr>\n",
       "      <th>best_lightGBM_model.joblib</th>\n",
       "      <td>10.844</td>\n",
       "      <td>9.327</td>\n",
       "      <td>9.465</td>\n",
       "      <td>0.862</td>\n",
       "      <td>5.164</td>\n",
       "      <td>4.302</td>\n",
       "    </tr>\n",
       "    <tr>\n",
       "      <th>best_lin_model.joblib</th>\n",
       "      <td>12.037</td>\n",
       "      <td>10.742</td>\n",
       "      <td>10.916</td>\n",
       "      <td>0.406</td>\n",
       "      <td>5.661</td>\n",
       "      <td>5.255</td>\n",
       "    </tr>\n",
       "    <tr>\n",
       "      <th>best_mlp_model.joblib</th>\n",
       "      <td>14.198</td>\n",
       "      <td>12.919</td>\n",
       "      <td>13.161</td>\n",
       "      <td>-5.499</td>\n",
       "      <td>3.831</td>\n",
       "      <td>9.330</td>\n",
       "    </tr>\n",
       "    <tr>\n",
       "      <th>best_rf_model.joblib</th>\n",
       "      <td>11.472</td>\n",
       "      <td>9.710</td>\n",
       "      <td>9.865</td>\n",
       "      <td>0.837</td>\n",
       "      <td>5.351</td>\n",
       "      <td>4.514</td>\n",
       "    </tr>\n",
       "    <tr>\n",
       "      <th>best_xgb_model.joblib</th>\n",
       "      <td>10.958</td>\n",
       "      <td>9.221</td>\n",
       "      <td>9.363</td>\n",
       "      <td>0.985</td>\n",
       "      <td>5.174</td>\n",
       "      <td>4.189</td>\n",
       "    </tr>\n",
       "    <tr>\n",
       "      <th>benchmark</th>\n",
       "      <td>29.518</td>\n",
       "      <td>32.206</td>\n",
       "      <td>32.350</td>\n",
       "      <td>-3.256</td>\n",
       "      <td>14.547</td>\n",
       "      <td>17.803</td>\n",
       "    </tr>\n",
       "  </tbody>\n",
       "</table>\n",
       "</div>"
      ],
      "text/plain": [
       "                              rmse    mape   wmape  wbias  wuforec  woforec\n",
       "best_lightGBM_model.joblib  10.844   9.327   9.465  0.862    5.164    4.302\n",
       "best_lin_model.joblib       12.037  10.742  10.916  0.406    5.661    5.255\n",
       "best_mlp_model.joblib       14.198  12.919  13.161 -5.499    3.831    9.330\n",
       "best_rf_model.joblib        11.472   9.710   9.865  0.837    5.351    4.514\n",
       "best_xgb_model.joblib       10.958   9.221   9.363  0.985    5.174    4.189\n",
       "benchmark                   29.518  32.206  32.350 -3.256   14.547   17.803"
      ]
     },
     "execution_count": 21,
     "metadata": {},
     "output_type": "execute_result"
    }
   ],
   "source": [
    "performance_summary_numerical_cv5_numerical_only_withstd"
   ]
  },
  {
   "cell_type": "code",
   "execution_count": 22,
   "id": "ac2438e4-e269-4f29-9f0d-49bcedba5daa",
   "metadata": {},
   "outputs": [
    {
     "name": "stdout",
     "output_type": "stream",
     "text": [
      "\\begin{tabular}{lrrrrrr}\n",
      "\\toprule\n",
      "{} &  rmse &  mape &  wmape &  wbias &  wuforec &  woforec \\\\\n",
      "\\midrule\n",
      "best\\_lightGBM\\_model.joblib & 10.84 &  9.33 &   9.46 &   0.86 &     5.16 &     4.30 \\\\\n",
      "best\\_lin\\_model.joblib      & 12.04 & 10.74 &  10.92 &   0.41 &     5.66 &     5.25 \\\\\n",
      "best\\_mlp\\_model.joblib      & 14.20 & 12.92 &  13.16 &  -5.50 &     3.83 &     9.33 \\\\\n",
      "best\\_rf\\_model.joblib       & 11.47 &  9.71 &   9.87 &   0.84 &     5.35 &     4.51 \\\\\n",
      "best\\_xgb\\_model.joblib      & 10.96 &  9.22 &   9.36 &   0.98 &     5.17 &     4.19 \\\\\n",
      "benchmark                  & 29.52 & 32.21 &  32.35 &  -3.26 &    14.55 &    17.80 \\\\\n",
      "\\bottomrule\n",
      "\\end{tabular}\n",
      "\n"
     ]
    },
    {
     "name": "stderr",
     "output_type": "stream",
     "text": [
      "C:\\Users\\Dennis\\AppData\\Local\\Temp\\ipykernel_23536\\2787992586.py:1: FutureWarning: In future versions `DataFrame.to_latex` is expected to utilise the base implementation of `Styler.to_latex` for formatting and rendering. The arguments signature may therefore change. It is recommended instead to use `DataFrame.style.to_latex` which also contains additional functionality.\n",
      "  print(performance_summary_numerical_cv5_numerical_only_withstd.to_latex(float_format = \"%.2f\"))\n"
     ]
    }
   ],
   "source": [
    "print(performance_summary_numerical_cv5_numerical_only_withstd.to_latex(float_format = \"%.2f\"))"
   ]
  },
  {
   "cell_type": "code",
   "execution_count": 23,
   "id": "bfa0dea3-352d-47a5-a826-3f7120985df6",
   "metadata": {
    "tags": []
   },
   "outputs": [
    {
     "data": {
      "text/html": [
       "<div>\n",
       "<style scoped>\n",
       "    .dataframe tbody tr th:only-of-type {\n",
       "        vertical-align: middle;\n",
       "    }\n",
       "\n",
       "    .dataframe tbody tr th {\n",
       "        vertical-align: top;\n",
       "    }\n",
       "\n",
       "    .dataframe thead th {\n",
       "        text-align: right;\n",
       "    }\n",
       "</style>\n",
       "<table border=\"1\" class=\"dataframe\">\n",
       "  <thead>\n",
       "    <tr style=\"text-align: right;\">\n",
       "      <th></th>\n",
       "      <th>totalling_fits</th>\n",
       "      <th>cv</th>\n",
       "      <th>tuning_time</th>\n",
       "      <th>best_model_fitting_time</th>\n",
       "      <th>average_tuning</th>\n",
       "    </tr>\n",
       "  </thead>\n",
       "  <tbody>\n",
       "    <tr>\n",
       "      <th>best_lightGBM_model.joblib</th>\n",
       "      <td>2000</td>\n",
       "      <td>5</td>\n",
       "      <td>159.920</td>\n",
       "      <td>0.193</td>\n",
       "      <td>0.080</td>\n",
       "    </tr>\n",
       "    <tr>\n",
       "      <th>best_lin_model.joblib</th>\n",
       "      <td>150</td>\n",
       "      <td>5</td>\n",
       "      <td>3.323</td>\n",
       "      <td>0.071</td>\n",
       "      <td>0.022</td>\n",
       "    </tr>\n",
       "    <tr>\n",
       "      <th>best_mlp_model.joblib</th>\n",
       "      <td>40</td>\n",
       "      <td>5</td>\n",
       "      <td>1948.634</td>\n",
       "      <td>116.050</td>\n",
       "      <td>48.716</td>\n",
       "    </tr>\n",
       "    <tr>\n",
       "      <th>best_rf_model.joblib</th>\n",
       "      <td>1200</td>\n",
       "      <td>5</td>\n",
       "      <td>1934.507</td>\n",
       "      <td>64.575</td>\n",
       "      <td>1.612</td>\n",
       "    </tr>\n",
       "    <tr>\n",
       "      <th>best_xgb_model.joblib</th>\n",
       "      <td>5760</td>\n",
       "      <td>5</td>\n",
       "      <td>2429.882</td>\n",
       "      <td>4.297</td>\n",
       "      <td>0.422</td>\n",
       "    </tr>\n",
       "  </tbody>\n",
       "</table>\n",
       "</div>"
      ],
      "text/plain": [
       "                            totalling_fits  cv  tuning_time  \\\n",
       "best_lightGBM_model.joblib            2000   5      159.920   \n",
       "best_lin_model.joblib                  150   5        3.323   \n",
       "best_mlp_model.joblib                   40   5     1948.634   \n",
       "best_rf_model.joblib                  1200   5     1934.507   \n",
       "best_xgb_model.joblib                 5760   5     2429.882   \n",
       "\n",
       "                            best_model_fitting_time  average_tuning  \n",
       "best_lightGBM_model.joblib                    0.193           0.080  \n",
       "best_lin_model.joblib                         0.071           0.022  \n",
       "best_mlp_model.joblib                       116.050          48.716  \n",
       "best_rf_model.joblib                         64.575           1.612  \n",
       "best_xgb_model.joblib                         4.297           0.422  "
      ]
     },
     "execution_count": 23,
     "metadata": {},
     "output_type": "execute_result"
    }
   ],
   "source": [
    "timing_summary_numerical_cv5_numerical_only_withstd"
   ]
  },
  {
   "cell_type": "code",
   "execution_count": 24,
   "id": "26e01b25-3a74-40e1-82e8-bcd6f3ce8f04",
   "metadata": {},
   "outputs": [
    {
     "name": "stdout",
     "output_type": "stream",
     "text": [
      "\\begin{tabular}{lrrrrr}\n",
      "\\toprule\n",
      "{} &  totalling\\_fits &  cv &  tuning\\_time &  best\\_model\\_fitting\\_time &  average\\_tuning \\\\\n",
      "\\midrule\n",
      "best\\_lightGBM\\_model.joblib &            2000 &   5 &       159.92 &                     0.19 &            0.08 \\\\\n",
      "best\\_lin\\_model.joblib      &             150 &   5 &         3.32 &                     0.07 &            0.02 \\\\\n",
      "best\\_mlp\\_model.joblib      &              40 &   5 &      1948.63 &                   116.05 &           48.72 \\\\\n",
      "best\\_rf\\_model.joblib       &            1200 &   5 &      1934.51 &                    64.58 &            1.61 \\\\\n",
      "best\\_xgb\\_model.joblib      &            5760 &   5 &      2429.88 &                     4.30 &            0.42 \\\\\n",
      "\\bottomrule\n",
      "\\end{tabular}\n",
      "\n"
     ]
    },
    {
     "name": "stderr",
     "output_type": "stream",
     "text": [
      "C:\\Users\\Dennis\\AppData\\Local\\Temp\\ipykernel_23536\\3845423614.py:1: FutureWarning: In future versions `DataFrame.to_latex` is expected to utilise the base implementation of `Styler.to_latex` for formatting and rendering. The arguments signature may therefore change. It is recommended instead to use `DataFrame.style.to_latex` which also contains additional functionality.\n",
      "  print(timing_summary_numerical_cv5_numerical_only_withstd.to_latex(float_format = \"%.2f\"))\n"
     ]
    }
   ],
   "source": [
    "print(timing_summary_numerical_cv5_numerical_only_withstd.to_latex(float_format = \"%.2f\"))"
   ]
  },
  {
   "cell_type": "code",
   "execution_count": null,
   "id": "58e7d723-99ae-4951-a33a-ff3cb9b71cd3",
   "metadata": {},
   "outputs": [],
   "source": []
  },
  {
   "cell_type": "markdown",
   "id": "7378e31f-a211-478a-9d36-4031001c65ec",
   "metadata": {},
   "source": [
    "# cv5_withCategorical_withstd"
   ]
  },
  {
   "cell_type": "code",
   "execution_count": 25,
   "id": "53d1c8ee-92a2-4fd1-b583-9058e8694325",
   "metadata": {
    "tags": []
   },
   "outputs": [],
   "source": [
    "rel_path = 'results\\\\cv5_withCategorical_withstd'"
   ]
  },
  {
   "cell_type": "code",
   "execution_count": 26,
   "id": "a429acb5-ab0d-40ce-a8ee-227fed5a09bc",
   "metadata": {
    "tags": []
   },
   "outputs": [],
   "source": [
    "performance_summary_numerical_cv5_withCategorical_withstd, timing_summary_numerical_cv5_withCategorical_withstd = model_summary(path_, rel_path)\n"
   ]
  },
  {
   "cell_type": "code",
   "execution_count": 27,
   "id": "8ac30fef-7eb8-4e83-9054-59927f1683ea",
   "metadata": {
    "tags": []
   },
   "outputs": [
    {
     "name": "stderr",
     "output_type": "stream",
     "text": [
      "C:\\Users\\Dennis\\AppData\\Local\\Temp\\ipykernel_23536\\3223384742.py:1: FutureWarning: The frame.append method is deprecated and will be removed from pandas in a future version. Use pandas.concat instead.\n",
      "  performance_summary_numerical_cv5_withCategorical_withstd = performance_summary_numerical_cv5_withCategorical_withstd.append(benchmark_summary)\n"
     ]
    }
   ],
   "source": [
    "performance_summary_numerical_cv5_withCategorical_withstd = performance_summary_numerical_cv5_withCategorical_withstd.append(benchmark_summary)"
   ]
  },
  {
   "cell_type": "code",
   "execution_count": 28,
   "id": "3ed90bf5-5c39-4160-bc62-52eb7a478e0a",
   "metadata": {
    "tags": []
   },
   "outputs": [
    {
     "data": {
      "text/html": [
       "<div>\n",
       "<style scoped>\n",
       "    .dataframe tbody tr th:only-of-type {\n",
       "        vertical-align: middle;\n",
       "    }\n",
       "\n",
       "    .dataframe tbody tr th {\n",
       "        vertical-align: top;\n",
       "    }\n",
       "\n",
       "    .dataframe thead th {\n",
       "        text-align: right;\n",
       "    }\n",
       "</style>\n",
       "<table border=\"1\" class=\"dataframe\">\n",
       "  <thead>\n",
       "    <tr style=\"text-align: right;\">\n",
       "      <th></th>\n",
       "      <th>rmse</th>\n",
       "      <th>mape</th>\n",
       "      <th>wmape</th>\n",
       "      <th>wbias</th>\n",
       "      <th>wuforec</th>\n",
       "      <th>woforec</th>\n",
       "    </tr>\n",
       "  </thead>\n",
       "  <tbody>\n",
       "    <tr>\n",
       "      <th>best_lightGBM_model.joblib</th>\n",
       "      <td>11.040</td>\n",
       "      <td>9.218</td>\n",
       "      <td>9.358</td>\n",
       "      <td>0.947</td>\n",
       "      <td>5.152</td>\n",
       "      <td>4.205</td>\n",
       "    </tr>\n",
       "    <tr>\n",
       "      <th>best_lin_model.joblib</th>\n",
       "      <td>11.914</td>\n",
       "      <td>10.792</td>\n",
       "      <td>10.958</td>\n",
       "      <td>1.315</td>\n",
       "      <td>6.136</td>\n",
       "      <td>4.822</td>\n",
       "    </tr>\n",
       "    <tr>\n",
       "      <th>best_mlp_model.joblib</th>\n",
       "      <td>14.420</td>\n",
       "      <td>14.541</td>\n",
       "      <td>14.608</td>\n",
       "      <td>3.970</td>\n",
       "      <td>9.289</td>\n",
       "      <td>5.319</td>\n",
       "    </tr>\n",
       "    <tr>\n",
       "      <th>best_rf_model.joblib</th>\n",
       "      <td>11.711</td>\n",
       "      <td>9.705</td>\n",
       "      <td>9.874</td>\n",
       "      <td>0.653</td>\n",
       "      <td>5.263</td>\n",
       "      <td>4.611</td>\n",
       "    </tr>\n",
       "    <tr>\n",
       "      <th>best_xgb_model.joblib</th>\n",
       "      <td>11.139</td>\n",
       "      <td>9.288</td>\n",
       "      <td>9.435</td>\n",
       "      <td>1.122</td>\n",
       "      <td>5.279</td>\n",
       "      <td>4.157</td>\n",
       "    </tr>\n",
       "    <tr>\n",
       "      <th>benchmark</th>\n",
       "      <td>29.518</td>\n",
       "      <td>32.206</td>\n",
       "      <td>32.350</td>\n",
       "      <td>-3.256</td>\n",
       "      <td>14.547</td>\n",
       "      <td>17.803</td>\n",
       "    </tr>\n",
       "  </tbody>\n",
       "</table>\n",
       "</div>"
      ],
      "text/plain": [
       "                              rmse    mape   wmape  wbias  wuforec  woforec\n",
       "best_lightGBM_model.joblib  11.040   9.218   9.358  0.947    5.152    4.205\n",
       "best_lin_model.joblib       11.914  10.792  10.958  1.315    6.136    4.822\n",
       "best_mlp_model.joblib       14.420  14.541  14.608  3.970    9.289    5.319\n",
       "best_rf_model.joblib        11.711   9.705   9.874  0.653    5.263    4.611\n",
       "best_xgb_model.joblib       11.139   9.288   9.435  1.122    5.279    4.157\n",
       "benchmark                   29.518  32.206  32.350 -3.256   14.547   17.803"
      ]
     },
     "execution_count": 28,
     "metadata": {},
     "output_type": "execute_result"
    }
   ],
   "source": [
    "performance_summary_numerical_cv5_withCategorical_withstd"
   ]
  },
  {
   "cell_type": "code",
   "execution_count": 29,
   "id": "d69c844f-0522-4f7b-be80-7164cc709511",
   "metadata": {
    "tags": []
   },
   "outputs": [
    {
     "name": "stdout",
     "output_type": "stream",
     "text": [
      "\\begin{tabular}{lrrrrrr}\n",
      "\\toprule\n",
      "{} &  rmse &  mape &  wmape &  wbias &  wuforec &  woforec \\\\\n",
      "\\midrule\n",
      "best\\_lightGBM\\_model.joblib & 11.04 &  9.22 &   9.36 &   0.95 &     5.15 &     4.21 \\\\\n",
      "best\\_lin\\_model.joblib      & 11.91 & 10.79 &  10.96 &   1.31 &     6.14 &     4.82 \\\\\n",
      "best\\_mlp\\_model.joblib      & 14.42 & 14.54 &  14.61 &   3.97 &     9.29 &     5.32 \\\\\n",
      "best\\_rf\\_model.joblib       & 11.71 &  9.71 &   9.87 &   0.65 &     5.26 &     4.61 \\\\\n",
      "best\\_xgb\\_model.joblib      & 11.14 &  9.29 &   9.44 &   1.12 &     5.28 &     4.16 \\\\\n",
      "benchmark                  & 29.52 & 32.21 &  32.35 &  -3.26 &    14.55 &    17.80 \\\\\n",
      "\\bottomrule\n",
      "\\end{tabular}\n",
      "\n"
     ]
    },
    {
     "name": "stderr",
     "output_type": "stream",
     "text": [
      "C:\\Users\\Dennis\\AppData\\Local\\Temp\\ipykernel_23536\\1183773100.py:1: FutureWarning: In future versions `DataFrame.to_latex` is expected to utilise the base implementation of `Styler.to_latex` for formatting and rendering. The arguments signature may therefore change. It is recommended instead to use `DataFrame.style.to_latex` which also contains additional functionality.\n",
      "  print(performance_summary_numerical_cv5_withCategorical_withstd.to_latex(float_format = \"%.2f\"))\n"
     ]
    }
   ],
   "source": [
    "print(performance_summary_numerical_cv5_withCategorical_withstd.to_latex(float_format = \"%.2f\"))"
   ]
  },
  {
   "cell_type": "code",
   "execution_count": 30,
   "id": "c1131bd3-7e70-4045-b88d-adbc714d7d04",
   "metadata": {
    "tags": []
   },
   "outputs": [],
   "source": [
    "timing_summary_numerical_cv5_withCategorical_withstd['totalling_fits'] = timing_summary_numerical_cv5_withCategorical_withstd['totalling_fits'] * 5 "
   ]
  },
  {
   "cell_type": "code",
   "execution_count": 31,
   "id": "b5adfdeb-bd9e-44a3-8f3d-b9b8a228ca0f",
   "metadata": {
    "tags": []
   },
   "outputs": [],
   "source": [
    "timing_summary_numerical_cv5_withCategorical_withstd['average_tuning'] = timing_summary_numerical_cv5_withCategorical_withstd['tuning_time']/ timing_summary_numerical_cv5_withCategorical_withstd['totalling_fits']"
   ]
  },
  {
   "cell_type": "code",
   "execution_count": 33,
   "id": "999b001c-dc70-482c-bab3-98aca258b36b",
   "metadata": {
    "tags": []
   },
   "outputs": [
    {
     "data": {
      "text/html": [
       "<div>\n",
       "<style scoped>\n",
       "    .dataframe tbody tr th:only-of-type {\n",
       "        vertical-align: middle;\n",
       "    }\n",
       "\n",
       "    .dataframe tbody tr th {\n",
       "        vertical-align: top;\n",
       "    }\n",
       "\n",
       "    .dataframe thead th {\n",
       "        text-align: right;\n",
       "    }\n",
       "</style>\n",
       "<table border=\"1\" class=\"dataframe\">\n",
       "  <thead>\n",
       "    <tr style=\"text-align: right;\">\n",
       "      <th></th>\n",
       "      <th>totalling_fits</th>\n",
       "      <th>tuning_time</th>\n",
       "      <th>best_model_fitting_time</th>\n",
       "      <th>average_tuning</th>\n",
       "    </tr>\n",
       "  </thead>\n",
       "  <tbody>\n",
       "    <tr>\n",
       "      <th>best_lightGBM_model.joblib</th>\n",
       "      <td>2000</td>\n",
       "      <td>213.437</td>\n",
       "      <td>0.463</td>\n",
       "      <td>0.107</td>\n",
       "    </tr>\n",
       "    <tr>\n",
       "      <th>best_lin_model.joblib</th>\n",
       "      <td>150</td>\n",
       "      <td>44.390</td>\n",
       "      <td>0.825</td>\n",
       "      <td>0.296</td>\n",
       "    </tr>\n",
       "    <tr>\n",
       "      <th>best_mlp_model.joblib</th>\n",
       "      <td>40</td>\n",
       "      <td>2147.055</td>\n",
       "      <td>65.814</td>\n",
       "      <td>53.676</td>\n",
       "    </tr>\n",
       "    <tr>\n",
       "      <th>best_rf_model.joblib</th>\n",
       "      <td>1200</td>\n",
       "      <td>3633.047</td>\n",
       "      <td>115.665</td>\n",
       "      <td>3.028</td>\n",
       "    </tr>\n",
       "    <tr>\n",
       "      <th>best_xgb_model.joblib</th>\n",
       "      <td>5760</td>\n",
       "      <td>13320.127</td>\n",
       "      <td>4.156</td>\n",
       "      <td>2.313</td>\n",
       "    </tr>\n",
       "  </tbody>\n",
       "</table>\n",
       "</div>"
      ],
      "text/plain": [
       "                            totalling_fits  tuning_time  \\\n",
       "best_lightGBM_model.joblib            2000      213.437   \n",
       "best_lin_model.joblib                  150       44.390   \n",
       "best_mlp_model.joblib                   40     2147.055   \n",
       "best_rf_model.joblib                  1200     3633.047   \n",
       "best_xgb_model.joblib                 5760    13320.127   \n",
       "\n",
       "                            best_model_fitting_time  average_tuning  \n",
       "best_lightGBM_model.joblib                    0.463           0.107  \n",
       "best_lin_model.joblib                         0.825           0.296  \n",
       "best_mlp_model.joblib                        65.814          53.676  \n",
       "best_rf_model.joblib                        115.665           3.028  \n",
       "best_xgb_model.joblib                         4.156           2.313  "
      ]
     },
     "execution_count": 33,
     "metadata": {},
     "output_type": "execute_result"
    }
   ],
   "source": [
    "timing_summary_numerical_cv5_withCategorical_withstd.round(3)"
   ]
  },
  {
   "cell_type": "code",
   "execution_count": 34,
   "id": "389ac44b-08b0-47ff-8c18-bdc508ca5822",
   "metadata": {
    "tags": []
   },
   "outputs": [
    {
     "name": "stdout",
     "output_type": "stream",
     "text": [
      "\\begin{tabular}{lrrrr}\n",
      "\\toprule\n",
      "{} &  totalling\\_fits &  tuning\\_time &  best\\_model\\_fitting\\_time &  average\\_tuning \\\\\n",
      "\\midrule\n",
      "best\\_lightGBM\\_model.joblib &            2000 &       213.44 &                     0.46 &            0.11 \\\\\n",
      "best\\_lin\\_model.joblib      &             150 &        44.39 &                     0.82 &            0.30 \\\\\n",
      "best\\_mlp\\_model.joblib      &              40 &      2147.05 &                    65.81 &           53.68 \\\\\n",
      "best\\_rf\\_model.joblib       &            1200 &      3633.05 &                   115.67 &            3.03 \\\\\n",
      "best\\_xgb\\_model.joblib      &            5760 &     13320.13 &                     4.16 &            2.31 \\\\\n",
      "\\bottomrule\n",
      "\\end{tabular}\n",
      "\n"
     ]
    },
    {
     "name": "stderr",
     "output_type": "stream",
     "text": [
      "C:\\Users\\Dennis\\AppData\\Local\\Temp\\ipykernel_23536\\2353243900.py:1: FutureWarning: In future versions `DataFrame.to_latex` is expected to utilise the base implementation of `Styler.to_latex` for formatting and rendering. The arguments signature may therefore change. It is recommended instead to use `DataFrame.style.to_latex` which also contains additional functionality.\n",
      "  print(timing_summary_numerical_cv5_withCategorical_withstd.to_latex(float_format = \"%.2f\"))\n"
     ]
    }
   ],
   "source": [
    "print(timing_summary_numerical_cv5_withCategorical_withstd.to_latex(float_format = \"%.2f\"))"
   ]
  },
  {
   "cell_type": "code",
   "execution_count": null,
   "id": "6fa0c3b2-51af-4e19-8ddf-18ae1e7bab70",
   "metadata": {},
   "outputs": [],
   "source": []
  },
  {
   "cell_type": "code",
   "execution_count": null,
   "id": "ebbf6cde-e197-41d3-b70e-2e45828bffb7",
   "metadata": {},
   "outputs": [],
   "source": []
  }
 ],
 "metadata": {
  "kernelspec": {
   "display_name": "Python 3 (ipykernel)",
   "language": "python",
   "name": "python3"
  },
  "language_info": {
   "codemirror_mode": {
    "name": "ipython",
    "version": 3
   },
   "file_extension": ".py",
   "mimetype": "text/x-python",
   "name": "python",
   "nbconvert_exporter": "python",
   "pygments_lexer": "ipython3",
   "version": "3.11.4"
  }
 },
 "nbformat": 4,
 "nbformat_minor": 5
}
