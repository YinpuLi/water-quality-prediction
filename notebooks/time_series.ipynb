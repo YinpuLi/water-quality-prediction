{
 "cells": [
  {
   "cell_type": "code",
   "execution_count": 1,
   "metadata": {},
   "outputs": [],
   "source": [
    "import pandas as pd\n",
    "import numpy as np\n",
    "import matplotlib.pyplot as plt\n",
    "import seaborn as sns\n",
    "import os\n",
    "import sys"
   ]
  },
  {
   "cell_type": "code",
   "execution_count": 2,
   "metadata": {},
   "outputs": [],
   "source": [
    "root_dir = os.path.abspath(os.path.join(os.getcwd(), '..'))\n",
    "sys.path.append(root_dir)\n",
    "\n",
    "\n",
    "from utils.constants import *\n",
    "from utils.utils import *"
   ]
  },
  {
   "cell_type": "code",
   "execution_count": 3,
   "metadata": {},
   "outputs": [],
   "source": [
    "# Import data\n",
    "\n",
    "\n",
    "y_train = pd.read_csv(get_absolute_path('y_train.csv', 'data'))\n",
    "y_test  = pd.read_csv(get_absolute_path('y_test.csv', 'data'))\n",
    "\n",
    "\n",
    "stack_train = pd.read_csv(get_absolute_path('stacked_X_tr.csv', 'data'))\n",
    "stack_test  = pd.read_csv(get_absolute_path('stacked_X_te.csv', 'data'))\n",
    "\n"
   ]
  },
  {
   "cell_type": "code",
   "execution_count": 4,
   "metadata": {},
   "outputs": [
    {
     "data": {
      "text/plain": [
       "Index(['Specific conductance, water, unfiltered, microsiemens per centimeter at 25 degrees Celsius (Maximum)',\n",
       "       'pH, water, unfiltered, field, standard units (Maximum)',\n",
       "       'pH, water, unfiltered, field, standard units (Minimum)',\n",
       "       'Specific conductance, water, unfiltered, microsiemens per centimeter at 25 degrees Celsius (Minimum)',\n",
       "       'Specific conductance, water, unfiltered, microsiemens per centimeter at 25 degrees Celsius (Mean)',\n",
       "       'Dissolved oxygen, water, unfiltered, milligrams per liter (Maximum)',\n",
       "       'Dissolved oxygen, water, unfiltered, milligrams per liter (Mean)',\n",
       "       'Dissolved oxygen, water, unfiltered, milligrams per liter (Minimum)',\n",
       "       'Temperature, water, degrees Celsius (Mean)',\n",
       "       'Temperature, water, degrees Celsius (Minimum)',\n",
       "       'Temperature, water, degrees Celsius (Maximum)', 'Date', 'Location_ID',\n",
       "       'Month', 'Week', 'Weekday', 'Season', 'Season_Num'],\n",
       "      dtype='object')"
      ]
     },
     "execution_count": 4,
     "metadata": {},
     "output_type": "execute_result"
    }
   ],
   "source": [
    "stack_train.columns"
   ]
  },
  {
   "cell_type": "code",
   "execution_count": 5,
   "metadata": {},
   "outputs": [
    {
     "name": "stdout",
     "output_type": "stream",
     "text": [
      "Autocorrelation Results:\n",
      "Specific conductance, water, unfiltered, microsiemens per centimeter at 25 degrees Celsius (Maximum): 0.4699877066065004\n",
      "pH, water, unfiltered, field, standard units (Maximum): 0.22070243323524794\n",
      "pH, water, unfiltered, field, standard units (Minimum): 0.07634457446434782\n",
      "Specific conductance, water, unfiltered, microsiemens per centimeter at 25 degrees Celsius (Minimum): 0.2868320904282785\n",
      "Specific conductance, water, unfiltered, microsiemens per centimeter at 25 degrees Celsius (Mean): 0.8368487363019831\n",
      "Dissolved oxygen, water, unfiltered, milligrams per liter (Maximum): 0.20255999461442348\n",
      "Dissolved oxygen, water, unfiltered, milligrams per liter (Mean): 0.8439356831745916\n",
      "Dissolved oxygen, water, unfiltered, milligrams per liter (Minimum): 0.7991085923411162\n",
      "Temperature, water, degrees Celsius (Mean): 0.9732760957316714\n",
      "Temperature, water, degrees Celsius (Minimum): 0.9719444280359861\n",
      "Temperature, water, degrees Celsius (Maximum): 0.9677390239392416\n"
     ]
    }
   ],
   "source": [
    "import pandas as pd\n",
    "\n",
    "# Assuming df is your DataFrame with the dataset\n",
    "numeric_columns = ['Specific conductance, water, unfiltered, microsiemens per centimeter at 25 degrees Celsius (Maximum)',\n",
    "       'pH, water, unfiltered, field, standard units (Maximum)',\n",
    "       'pH, water, unfiltered, field, standard units (Minimum)',\n",
    "       'Specific conductance, water, unfiltered, microsiemens per centimeter at 25 degrees Celsius (Minimum)',\n",
    "       'Specific conductance, water, unfiltered, microsiemens per centimeter at 25 degrees Celsius (Mean)',\n",
    "       'Dissolved oxygen, water, unfiltered, milligrams per liter (Maximum)',\n",
    "       'Dissolved oxygen, water, unfiltered, milligrams per liter (Mean)',\n",
    "       'Dissolved oxygen, water, unfiltered, milligrams per liter (Minimum)',\n",
    "       'Temperature, water, degrees Celsius (Mean)',\n",
    "       'Temperature, water, degrees Celsius (Minimum)',\n",
    "       'Temperature, water, degrees Celsius (Maximum)']\n",
    "\n",
    "# Calculate autocorrelation for each column\n",
    "autocorrelation_results = {}\n",
    "for column in numeric_columns:\n",
    "    autocorrelation = stack_train[column].autocorr()\n",
    "    autocorrelation_results[column] = autocorrelation\n",
    "\n",
    "# Display autocorrelation results\n",
    "print(\"Autocorrelation Results:\")\n",
    "for column, autocorrelation in autocorrelation_results.items():\n",
    "    print(f\"{column}: {autocorrelation}\")\n"
   ]
  },
  {
   "cell_type": "code",
   "execution_count": 6,
   "metadata": {},
   "outputs": [
    {
     "data": {
      "text/plain": [
       "RangeIndex(start=0, stop=15651, step=1)"
      ]
     },
     "execution_count": 6,
     "metadata": {},
     "output_type": "execute_result"
    }
   ],
   "source": [
    "stack_train.index"
   ]
  },
  {
   "cell_type": "code",
   "execution_count": 7,
   "metadata": {},
   "outputs": [],
   "source": [
    "# import matplotlib.pyplot as plt\n",
    "# import os  # Import the 'os' module for handling file paths\n",
    "\n",
    "# # Assuming data is your DataFrame with the dataset\n",
    "# numeric_columns = [\n",
    "#     'Specific conductance, water, unfiltered, microsiemens per centimeter at 25 degrees Celsius (Maximum)',\n",
    "#        # 'pH, water, unfiltered, field, standard units (Maximum)',\n",
    "#        # 'pH, water, unfiltered, field, standard units (Minimum)',\n",
    "#        # 'Specific conductance, water, unfiltered, microsiemens per centimeter at 25 degrees Celsius (Minimum)',\n",
    "#        'Specific conductance, water, unfiltered, microsiemens per centimeter at 25 degrees Celsius (Mean)',\n",
    "#        'Dissolved oxygen, water, unfiltered, milligrams per liter (Maximum)',\n",
    "#        # 'Dissolved oxygen, water, unfiltered, milligrams per liter (Mean)',\n",
    "#        # 'Dissolved oxygen, water, unfiltered, milligrams per liter (Minimum)',\n",
    "#        # 'Temperature, water, degrees Celsius (Mean)',\n",
    "#        # 'Temperature, water, degrees Celsius (Minimum)',\n",
    "#        # 'Temperature, water, degrees Celsius (Maximum)'\n",
    "#        ]\n",
    "\n",
    "# # Set the time_column based on your DatetimeIndex\n",
    "# time_column = stack_train.index\n",
    "\n",
    "# # Specify the directory where you want to save the figures\n",
    "# output_directory = \"figures\"  # Change this to your desired directory path\n",
    "# os.makedirs(output_directory, exist_ok=True)  # Create the directory if it doesn't exist\n",
    "\n",
    "# for column in numeric_columns:\n",
    "#     plt.figure(figsize=(12, 6))\n",
    "#     plt.plot(time_column, stack_train[column])\n",
    "#     plt.xlabel(\"Datetime\")\n",
    "#     plt.ylabel(column)\n",
    "#     plt.title(f\"{column} Time Series Plot\")\n",
    "#     plt.grid(True)\n",
    "    \n",
    "#     # Define the file path for saving the figure\n",
    "#     figure_filename = os.path.join(output_directory, f\"{column}_Time_Series_Plot.png\")\n",
    "    \n",
    "#     # Save the figure\n",
    "#     plt.savefig(figure_filename)\n",
    "    \n",
    "#     # Show the figure (optional, you can comment this line out if you don't want to display the figure)\n",
    "#     plt.show()\n"
   ]
  },
  {
   "cell_type": "code",
   "execution_count": 8,
   "metadata": {},
   "outputs": [
    {
     "data": {
      "text/plain": [
       "0        2016-01-28\n",
       "1        2016-01-28\n",
       "2        2016-01-28\n",
       "3        2016-01-28\n",
       "4        2016-01-28\n",
       "            ...    \n",
       "15646    2017-03-25\n",
       "15647    2017-03-25\n",
       "15648    2017-03-25\n",
       "15649    2017-03-25\n",
       "15650    2017-03-25\n",
       "Name: Date, Length: 15651, dtype: object"
      ]
     },
     "execution_count": 8,
     "metadata": {},
     "output_type": "execute_result"
    }
   ],
   "source": [
    "stack_train.Date"
   ]
  },
  {
   "cell_type": "code",
   "execution_count": 10,
   "metadata": {},
   "outputs": [
    {
     "ename": "KeyError",
     "evalue": "'Date'",
     "output_type": "error",
     "traceback": [
      "\u001b[0;31m---------------------------------------------------------------------------\u001b[0m",
      "\u001b[0;31mKeyError\u001b[0m                                  Traceback (most recent call last)",
      "File \u001b[0;32m~/opt/anaconda3/envs/py-311/lib/python3.11/site-packages/pandas/core/indexes/base.py:3653\u001b[0m, in \u001b[0;36mIndex.get_loc\u001b[0;34m(self, key)\u001b[0m\n\u001b[1;32m   3652\u001b[0m \u001b[39mtry\u001b[39;00m:\n\u001b[0;32m-> 3653\u001b[0m     \u001b[39mreturn\u001b[39;00m \u001b[39mself\u001b[39m\u001b[39m.\u001b[39m_engine\u001b[39m.\u001b[39mget_loc(casted_key)\n\u001b[1;32m   3654\u001b[0m \u001b[39mexcept\u001b[39;00m \u001b[39mKeyError\u001b[39;00m \u001b[39mas\u001b[39;00m err:\n",
      "File \u001b[0;32m~/opt/anaconda3/envs/py-311/lib/python3.11/site-packages/pandas/_libs/index.pyx:147\u001b[0m, in \u001b[0;36mpandas._libs.index.IndexEngine.get_loc\u001b[0;34m()\u001b[0m\n",
      "File \u001b[0;32m~/opt/anaconda3/envs/py-311/lib/python3.11/site-packages/pandas/_libs/index.pyx:176\u001b[0m, in \u001b[0;36mpandas._libs.index.IndexEngine.get_loc\u001b[0;34m()\u001b[0m\n",
      "File \u001b[0;32mpandas/_libs/hashtable_class_helper.pxi:7080\u001b[0m, in \u001b[0;36mpandas._libs.hashtable.PyObjectHashTable.get_item\u001b[0;34m()\u001b[0m\n",
      "File \u001b[0;32mpandas/_libs/hashtable_class_helper.pxi:7088\u001b[0m, in \u001b[0;36mpandas._libs.hashtable.PyObjectHashTable.get_item\u001b[0;34m()\u001b[0m\n",
      "\u001b[0;31mKeyError\u001b[0m: 'Date'",
      "\nThe above exception was the direct cause of the following exception:\n",
      "\u001b[0;31mKeyError\u001b[0m                                  Traceback (most recent call last)",
      "\u001b[1;32m/Users/yinpuli/Documents/python-projects/water-quality-prediction/notebooks/time_series.ipynb Cell 9\u001b[0m line \u001b[0;36m2\n\u001b[1;32m     <a href='vscode-notebook-cell:/Users/yinpuli/Documents/python-projects/water-quality-prediction/notebooks/time_series.ipynb#X10sZmlsZQ%3D%3D?line=19'>20</a>\u001b[0m os\u001b[39m.\u001b[39mmakedirs(output_directory, exist_ok\u001b[39m=\u001b[39m\u001b[39mTrue\u001b[39;00m)  \u001b[39m# Create the directory if it doesn't exist\u001b[39;00m\n\u001b[1;32m     <a href='vscode-notebook-cell:/Users/yinpuli/Documents/python-projects/water-quality-prediction/notebooks/time_series.ipynb#X10sZmlsZQ%3D%3D?line=22'>23</a>\u001b[0m \u001b[39m# Convert the 'Date' column to a datetime format\u001b[39;00m\n\u001b[0;32m---> <a href='vscode-notebook-cell:/Users/yinpuli/Documents/python-projects/water-quality-prediction/notebooks/time_series.ipynb#X10sZmlsZQ%3D%3D?line=23'>24</a>\u001b[0m stack_train[\u001b[39m'\u001b[39m\u001b[39mDate\u001b[39m\u001b[39m'\u001b[39m] \u001b[39m=\u001b[39m pd\u001b[39m.\u001b[39mto_datetime(stack_train[\u001b[39m'\u001b[39m\u001b[39mDate\u001b[39m\u001b[39m'\u001b[39m])\n\u001b[1;32m     <a href='vscode-notebook-cell:/Users/yinpuli/Documents/python-projects/water-quality-prediction/notebooks/time_series.ipynb#X10sZmlsZQ%3D%3D?line=25'>26</a>\u001b[0m \u001b[39m# Set the 'Date' column as the index\u001b[39;00m\n\u001b[1;32m     <a href='vscode-notebook-cell:/Users/yinpuli/Documents/python-projects/water-quality-prediction/notebooks/time_series.ipynb#X10sZmlsZQ%3D%3D?line=26'>27</a>\u001b[0m stack_train\u001b[39m.\u001b[39mset_index(\u001b[39m'\u001b[39m\u001b[39mDate\u001b[39m\u001b[39m'\u001b[39m, inplace\u001b[39m=\u001b[39m\u001b[39mTrue\u001b[39;00m)\n",
      "File \u001b[0;32m~/opt/anaconda3/envs/py-311/lib/python3.11/site-packages/pandas/core/frame.py:3761\u001b[0m, in \u001b[0;36mDataFrame.__getitem__\u001b[0;34m(self, key)\u001b[0m\n\u001b[1;32m   3759\u001b[0m \u001b[39mif\u001b[39;00m \u001b[39mself\u001b[39m\u001b[39m.\u001b[39mcolumns\u001b[39m.\u001b[39mnlevels \u001b[39m>\u001b[39m \u001b[39m1\u001b[39m:\n\u001b[1;32m   3760\u001b[0m     \u001b[39mreturn\u001b[39;00m \u001b[39mself\u001b[39m\u001b[39m.\u001b[39m_getitem_multilevel(key)\n\u001b[0;32m-> 3761\u001b[0m indexer \u001b[39m=\u001b[39m \u001b[39mself\u001b[39m\u001b[39m.\u001b[39mcolumns\u001b[39m.\u001b[39mget_loc(key)\n\u001b[1;32m   3762\u001b[0m \u001b[39mif\u001b[39;00m is_integer(indexer):\n\u001b[1;32m   3763\u001b[0m     indexer \u001b[39m=\u001b[39m [indexer]\n",
      "File \u001b[0;32m~/opt/anaconda3/envs/py-311/lib/python3.11/site-packages/pandas/core/indexes/base.py:3655\u001b[0m, in \u001b[0;36mIndex.get_loc\u001b[0;34m(self, key)\u001b[0m\n\u001b[1;32m   3653\u001b[0m     \u001b[39mreturn\u001b[39;00m \u001b[39mself\u001b[39m\u001b[39m.\u001b[39m_engine\u001b[39m.\u001b[39mget_loc(casted_key)\n\u001b[1;32m   3654\u001b[0m \u001b[39mexcept\u001b[39;00m \u001b[39mKeyError\u001b[39;00m \u001b[39mas\u001b[39;00m err:\n\u001b[0;32m-> 3655\u001b[0m     \u001b[39mraise\u001b[39;00m \u001b[39mKeyError\u001b[39;00m(key) \u001b[39mfrom\u001b[39;00m \u001b[39merr\u001b[39;00m\n\u001b[1;32m   3656\u001b[0m \u001b[39mexcept\u001b[39;00m \u001b[39mTypeError\u001b[39;00m:\n\u001b[1;32m   3657\u001b[0m     \u001b[39m# If we have a listlike key, _check_indexing_error will raise\u001b[39;00m\n\u001b[1;32m   3658\u001b[0m     \u001b[39m#  InvalidIndexError. Otherwise we fall through and re-raise\u001b[39;00m\n\u001b[1;32m   3659\u001b[0m     \u001b[39m#  the TypeError.\u001b[39;00m\n\u001b[1;32m   3660\u001b[0m     \u001b[39mself\u001b[39m\u001b[39m.\u001b[39m_check_indexing_error(key)\n",
      "\u001b[0;31mKeyError\u001b[0m: 'Date'"
     ]
    }
   ],
   "source": [
    "import pandas as pd\n",
    "\n",
    "# Assuming data is your DataFrame with the dataset\n",
    "numeric_columns = [\n",
    "    'Specific conductance, water, unfiltered, microsiemens per centimeter at 25 degrees Celsius (Maximum)',\n",
    "       # 'pH, water, unfiltered, field, standard units (Maximum)',\n",
    "       # 'pH, water, unfiltered, field, standard units (Minimum)',\n",
    "       # 'Specific conductance, water, unfiltered, microsiemens per centimeter at 25 degrees Celsius (Minimum)',\n",
    "       'Specific conductance, water, unfiltered, microsiemens per centimeter at 25 degrees Celsius (Mean)',\n",
    "       'Dissolved oxygen, water, unfiltered, milligrams per liter (Maximum)',\n",
    "       # 'Dissolved oxygen, water, unfiltered, milligrams per liter (Mean)',\n",
    "       # 'Dissolved oxygen, water, unfiltered, milligrams per liter (Minimum)',\n",
    "       # 'Temperature, water, degrees Celsius (Mean)',\n",
    "       # 'Temperature, water, degrees Celsius (Minimum)',\n",
    "       # 'Temperature, water, degrees Celsius (Maximum)'\n",
    "       ]\n",
    "\n",
    "# Specify the directory where you want to save the figures\n",
    "output_directory = \"figures\"  # Change this to your desired directory path\n",
    "os.makedirs(output_directory, exist_ok=True)  # Create the directory if it doesn't exist\n",
    "\n",
    "\n",
    "# Convert the 'Date' column to a datetime format\n",
    "stack_train['Date'] = pd.to_datetime(stack_train['Date'])\n",
    "\n",
    "# Set the 'Date' column as the index\n",
    "stack_train.set_index('Date', inplace=True)\n"
   ]
  },
  {
   "cell_type": "code",
   "execution_count": null,
   "metadata": {},
   "outputs": [],
   "source": [
    "\n",
    "# Assuming you've set the datetime column as the index\n",
    "resampled_data = stack_train[numeric_columns].resample('H').mean()\n",
    "\n",
    "for column in numeric_columns:\n",
    "    plt.figure(figsize=(12, 6))\n",
    "    plt.plot(resampled_data.index, resampled_data[column])\n",
    "    plt.xlabel(\"Date\")\n",
    "    plt.ylabel(column)\n",
    "    plt.title(f\"{column} Daily Time Series Plot\")\n",
    "    plt.grid(True)\n",
    "    \n",
    "    # Define the file path for saving the figure\n",
    "    figure_filename = os.path.join(output_directory, f\"{column}_Daily_Time_Series_Plot.png\")\n",
    "    \n",
    "    # Save the figure\n",
    "    plt.savefig(figure_filename)\n",
    "    \n",
    "    # Show the figure (optional)\n",
    "    plt.show()\n"
   ]
  }
 ],
 "metadata": {
  "kernelspec": {
   "display_name": "py-311",
   "language": "python",
   "name": "python3"
  },
  "language_info": {
   "codemirror_mode": {
    "name": "ipython",
    "version": 3
   },
   "file_extension": ".py",
   "mimetype": "text/x-python",
   "name": "python",
   "nbconvert_exporter": "python",
   "pygments_lexer": "ipython3",
   "version": "3.11.4"
  },
  "orig_nbformat": 4
 },
 "nbformat": 4,
 "nbformat_minor": 2
}
