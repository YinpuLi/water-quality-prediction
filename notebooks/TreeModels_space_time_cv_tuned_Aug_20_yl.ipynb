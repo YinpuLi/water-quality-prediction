{
 "cells": [
  {
   "cell_type": "code",
   "execution_count": 1,
   "metadata": {},
   "outputs": [
    {
     "name": "stdout",
     "output_type": "stream",
     "text": [
      "Intel MKL WARNING: Support of Intel(R) Streaming SIMD Extensions 4.2 (Intel(R) SSE4.2) enabled only processors has been deprecated. Intel oneAPI Math Kernel Library 2025.0 will require Intel(R) Advanced Vector Extensions (Intel(R) AVX) instructions.\n",
      "Intel MKL WARNING: Support of Intel(R) Streaming SIMD Extensions 4.2 (Intel(R) SSE4.2) enabled only processors has been deprecated. Intel oneAPI Math Kernel Library 2025.0 will require Intel(R) Advanced Vector Extensions (Intel(R) AVX) instructions.\n"
     ]
    }
   ],
   "source": [
    "import pandas as pd\n",
    "import numpy as np\n",
    "import matplotlib.pyplot as plt\n",
    "import seaborn as sns\n",
    "import os\n",
    "import sys\n",
    "import xgboost as xgb\n",
    "\n",
    "from sklearn.ensemble import RandomForestRegressor\n",
    "from sklearn.model_selection import train_test_split, GridSearchCV\n",
    "from sklearn.metrics import make_scorer, mean_squared_error\n",
    "\n",
    "\n",
    "import warnings\n",
    "warnings.filterwarnings(\"ignore\", category=DeprecationWarning)\n"
   ]
  },
  {
   "cell_type": "code",
   "execution_count": 2,
   "metadata": {},
   "outputs": [],
   "source": [
    "root_dir = os.path.abspath(os.path.join(os.getcwd(), '..'))\n",
    "sys.path.append(root_dir)\n",
    "\n",
    "from utils.utils import *\n",
    "from utils.constants import *"
   ]
  },
  {
   "cell_type": "markdown",
   "metadata": {},
   "source": [
    "# Data\n",
    "\n",
    "To make valid comparison across different methods, we split the original `stack_train` into new train and validation data sets."
   ]
  },
  {
   "cell_type": "code",
   "execution_count": 3,
   "metadata": {},
   "outputs": [],
   "source": [
    "# Import data\n",
    "\n",
    "\n",
    "y_train = pd.read_csv(get_absolute_path('y_train.csv', 'data'))\n",
    "y_test = pd.read_csv(get_absolute_path('y_test.csv', 'data'))\n",
    "\n",
    "\n",
    "stack_train = pd.read_csv(get_absolute_path('stacked_X_tr.csv', 'data'))\n",
    "stack_test  = pd.read_csv(get_absolute_path('stacked_X_te.csv', 'data'))\n",
    "\n"
   ]
  },
  {
   "cell_type": "code",
   "execution_count": 5,
   "metadata": {},
   "outputs": [
    {
     "data": {
      "text/plain": [
       "Index(['Specific conductance, water, unfiltered, microsiemens per centimeter at 25 degrees Celsius (Maximum)',\n",
       "       'pH, water, unfiltered, field, standard units (Maximum)',\n",
       "       'pH, water, unfiltered, field, standard units (Minimum)',\n",
       "       'Specific conductance, water, unfiltered, microsiemens per centimeter at 25 degrees Celsius (Minimum)',\n",
       "       'Specific conductance, water, unfiltered, microsiemens per centimeter at 25 degrees Celsius (Mean)',\n",
       "       'Dissolved oxygen, water, unfiltered, milligrams per liter (Maximum)',\n",
       "       'Dissolved oxygen, water, unfiltered, milligrams per liter (Mean)',\n",
       "       'Dissolved oxygen, water, unfiltered, milligrams per liter (Minimum)',\n",
       "       'Temperature, water, degrees Celsius (Mean)',\n",
       "       'Temperature, water, degrees Celsius (Minimum)',\n",
       "       'Temperature, water, degrees Celsius (Maximum)', 'Date', 'Location_ID'],\n",
       "      dtype='object')"
      ]
     },
     "execution_count": 5,
     "metadata": {},
     "output_type": "execute_result"
    }
   ],
   "source": [
    "stack_train.columns"
   ]
  },
  {
   "cell_type": "code",
   "execution_count": 7,
   "metadata": {},
   "outputs": [],
   "source": [
    "stack_train = stack_train.astype(column_data_types)\n",
    "stack_test = stack_test.astype(column_data_types)"
   ]
  },
  {
   "cell_type": "code",
   "execution_count": 8,
   "metadata": {},
   "outputs": [
    {
     "name": "stdout",
     "output_type": "stream",
     "text": [
      "<class 'pandas.core.frame.DataFrame'>\n",
      "RangeIndex: 15651 entries, 0 to 15650\n",
      "Data columns (total 13 columns):\n",
      " #   Column                                                                                                Non-Null Count  Dtype  \n",
      "---  ------                                                                                                --------------  -----  \n",
      " 0   Specific conductance, water, unfiltered, microsiemens per centimeter at 25 degrees Celsius (Maximum)  15651 non-null  float64\n",
      " 1   pH, water, unfiltered, field, standard units (Maximum)                                                15651 non-null  float64\n",
      " 2   pH, water, unfiltered, field, standard units (Minimum)                                                15651 non-null  float64\n",
      " 3   Specific conductance, water, unfiltered, microsiemens per centimeter at 25 degrees Celsius (Minimum)  15651 non-null  float64\n",
      " 4   Specific conductance, water, unfiltered, microsiemens per centimeter at 25 degrees Celsius (Mean)     15651 non-null  float64\n",
      " 5   Dissolved oxygen, water, unfiltered, milligrams per liter (Maximum)                                   15651 non-null  float64\n",
      " 6   Dissolved oxygen, water, unfiltered, milligrams per liter (Mean)                                      15651 non-null  float64\n",
      " 7   Dissolved oxygen, water, unfiltered, milligrams per liter (Minimum)                                   15651 non-null  float64\n",
      " 8   Temperature, water, degrees Celsius (Mean)                                                            15651 non-null  float64\n",
      " 9   Temperature, water, degrees Celsius (Minimum)                                                         15651 non-null  float64\n",
      " 10  Temperature, water, degrees Celsius (Maximum)                                                         15651 non-null  float64\n",
      " 11  Date                                                                                                  15651 non-null  object \n",
      " 12  Location_ID                                                                                           15651 non-null  object \n",
      "dtypes: float64(11), object(2)\n",
      "memory usage: 1.6+ MB\n"
     ]
    }
   ],
   "source": [
    "stack_train.info()"
   ]
  },
  {
   "cell_type": "code",
   "execution_count": null,
   "metadata": {},
   "outputs": [],
   "source": []
  },
  {
   "cell_type": "code",
   "execution_count": null,
   "metadata": {},
   "outputs": [],
   "source": []
  },
  {
   "cell_type": "markdown",
   "metadata": {},
   "source": [
    "# Feature Engineering"
   ]
  },
  {
   "cell_type": "code",
   "execution_count": 10,
   "metadata": {},
   "outputs": [
    {
     "name": "stdout",
     "output_type": "stream",
     "text": [
      "<class 'pandas.core.frame.DataFrame'>\n",
      "RangeIndex: 10434 entries, 0 to 10433\n",
      "Data columns (total 13 columns):\n",
      " #   Column                                                                                                Non-Null Count  Dtype  \n",
      "---  ------                                                                                                --------------  -----  \n",
      " 0   Specific conductance, water, unfiltered, microsiemens per centimeter at 25 degrees Celsius (Maximum)  10434 non-null  float64\n",
      " 1   pH, water, unfiltered, field, standard units (Maximum)                                                10434 non-null  float64\n",
      " 2   pH, water, unfiltered, field, standard units (Minimum)                                                10434 non-null  float64\n",
      " 3   Specific conductance, water, unfiltered, microsiemens per centimeter at 25 degrees Celsius (Minimum)  10434 non-null  float64\n",
      " 4   Specific conductance, water, unfiltered, microsiemens per centimeter at 25 degrees Celsius (Mean)     10434 non-null  float64\n",
      " 5   Dissolved oxygen, water, unfiltered, milligrams per liter (Maximum)                                   10434 non-null  float64\n",
      " 6   Dissolved oxygen, water, unfiltered, milligrams per liter (Mean)                                      10434 non-null  float64\n",
      " 7   Dissolved oxygen, water, unfiltered, milligrams per liter (Minimum)                                   10434 non-null  float64\n",
      " 8   Temperature, water, degrees Celsius (Mean)                                                            10434 non-null  float64\n",
      " 9   Temperature, water, degrees Celsius (Minimum)                                                         10434 non-null  float64\n",
      " 10  Temperature, water, degrees Celsius (Maximum)                                                         10434 non-null  float64\n",
      " 11  Date                                                                                                  10434 non-null  object \n",
      " 12  Location_ID                                                                                           10434 non-null  object \n",
      "dtypes: float64(11), object(2)\n",
      "memory usage: 1.0+ MB\n"
     ]
    }
   ],
   "source": [
    "stack_test.info()"
   ]
  },
  {
   "cell_type": "code",
   "execution_count": null,
   "metadata": {},
   "outputs": [],
   "source": []
  },
  {
   "cell_type": "code",
   "execution_count": null,
   "metadata": {},
   "outputs": [],
   "source": []
  },
  {
   "cell_type": "markdown",
   "metadata": {},
   "source": [
    "## NOTE: \n",
    "\n",
    "Pretend we have the best model already.\n",
    "\n",
    "This is a TODO!"
   ]
  },
  {
   "cell_type": "code",
   "execution_count": null,
   "metadata": {},
   "outputs": [],
   "source": []
  },
  {
   "cell_type": "code",
   "execution_count": null,
   "metadata": {},
   "outputs": [],
   "source": []
  },
  {
   "cell_type": "code",
   "execution_count": 14,
   "metadata": {},
   "outputs": [],
   "source": [
    "from sklearn.preprocessing import StandardScaler, OneHotEncoder\n",
    "from sklearn.compose import ColumnTransformer\n",
    "from sklearn.pipeline import Pipeline\n",
    "\n",
    "\n",
    "# Select numeric and categorical columns\n",
    "numeric_columns = stack_train.select_dtypes(include=['float64']).columns\n",
    "categorical_columns = [#'Date', \n",
    "                       'Location_ID']  # Add any categorical columns here\n",
    "\n",
    "# Create preprocessing transformers\n",
    "numeric_transformer = StandardScaler()  # You can use other scalers as well\n",
    "categorical_transformer = OneHotEncoder(drop='first')  # Use one-hot encoding for categorical columns\n",
    "\n",
    "# Create a column transformer\n",
    "preprocessor = ColumnTransformer(\n",
    "    transformers=[\n",
    "        ('num', numeric_transformer, numeric_columns),\n",
    "        ('cat', categorical_transformer, categorical_columns)\n",
    "    ]\n",
    ")\n",
    "\n",
    "# Fit the preprocessor on training data and transform both train and test data\n",
    "X_train_preprocessed = preprocessor.fit_transform(stack_train)\n",
    "X_test_preprocessed = preprocessor.transform(stack_test)\n",
    "\n",
    "# Converting the preprocessed data to DMatrix format for XGBoost\n",
    "dtrain = xgb.DMatrix(X_train_preprocessed, label=y_train)\n",
    "dval = xgb.DMatrix(X_test_preprocessed, label=y_test)"
   ]
  },
  {
   "cell_type": "code",
   "execution_count": 15,
   "metadata": {},
   "outputs": [
    {
     "name": "stdout",
     "output_type": "stream",
     "text": [
      "[21:49:29] WARNING: /Users/runner/work/xgboost/xgboost/python-package/build/temp.macosx-10.9-x86_64-cpython-38/xgboost/src/learner.cc:767: \n",
      "Parameters: { \"n_estimators\" } are not used.\n",
      "\n",
      "[0]\tvalidation-rmse:0.14855\n",
      "[1]\tvalidation-rmse:0.13389\n",
      "[2]\tvalidation-rmse:0.12068\n",
      "[3]\tvalidation-rmse:0.10880\n",
      "[4]\tvalidation-rmse:0.09815\n",
      "[5]\tvalidation-rmse:0.08857\n",
      "[6]\tvalidation-rmse:0.07997\n",
      "[7]\tvalidation-rmse:0.07222\n",
      "[8]\tvalidation-rmse:0.06529\n",
      "[9]\tvalidation-rmse:0.05908\n",
      "[10]\tvalidation-rmse:0.05351\n",
      "[11]\tvalidation-rmse:0.04849\n",
      "[12]\tvalidation-rmse:0.04402\n",
      "[13]\tvalidation-rmse:0.04004\n",
      "[14]\tvalidation-rmse:0.03647\n",
      "[15]\tvalidation-rmse:0.03330\n",
      "[16]\tvalidation-rmse:0.03047\n",
      "[17]\tvalidation-rmse:0.02797\n",
      "[18]\tvalidation-rmse:0.02573\n",
      "[19]\tvalidation-rmse:0.02378\n",
      "[20]\tvalidation-rmse:0.02206\n",
      "[21]\tvalidation-rmse:0.02057\n",
      "[22]\tvalidation-rmse:0.01927\n",
      "[23]\tvalidation-rmse:0.01814\n",
      "[24]\tvalidation-rmse:0.01716\n",
      "[25]\tvalidation-rmse:0.01629\n",
      "[26]\tvalidation-rmse:0.01554\n",
      "[27]\tvalidation-rmse:0.01491\n",
      "[28]\tvalidation-rmse:0.01436\n",
      "[29]\tvalidation-rmse:0.01387\n",
      "[30]\tvalidation-rmse:0.01349\n",
      "[31]\tvalidation-rmse:0.01315\n",
      "[32]\tvalidation-rmse:0.01287\n",
      "[33]\tvalidation-rmse:0.01264\n",
      "[34]\tvalidation-rmse:0.01244\n",
      "[35]\tvalidation-rmse:0.01227\n",
      "[36]\tvalidation-rmse:0.01214\n",
      "[37]\tvalidation-rmse:0.01201\n",
      "[38]\tvalidation-rmse:0.01190\n",
      "[39]\tvalidation-rmse:0.01180\n",
      "[40]\tvalidation-rmse:0.01172\n",
      "[41]\tvalidation-rmse:0.01166\n",
      "[42]\tvalidation-rmse:0.01161\n",
      "[43]\tvalidation-rmse:0.01155\n",
      "[44]\tvalidation-rmse:0.01151\n",
      "[45]\tvalidation-rmse:0.01147\n",
      "[46]\tvalidation-rmse:0.01144\n",
      "[47]\tvalidation-rmse:0.01141\n",
      "[48]\tvalidation-rmse:0.01139\n",
      "[49]\tvalidation-rmse:0.01137\n",
      "[50]\tvalidation-rmse:0.01135\n",
      "[51]\tvalidation-rmse:0.01134\n",
      "[52]\tvalidation-rmse:0.01132\n",
      "[53]\tvalidation-rmse:0.01130\n",
      "[54]\tvalidation-rmse:0.01129\n",
      "[55]\tvalidation-rmse:0.01128\n",
      "[56]\tvalidation-rmse:0.01127\n",
      "[57]\tvalidation-rmse:0.01126\n",
      "[58]\tvalidation-rmse:0.01125\n",
      "[59]\tvalidation-rmse:0.01124\n",
      "[60]\tvalidation-rmse:0.01124\n",
      "[61]\tvalidation-rmse:0.01124\n",
      "[62]\tvalidation-rmse:0.01123\n",
      "[63]\tvalidation-rmse:0.01122\n",
      "[64]\tvalidation-rmse:0.01121\n",
      "[65]\tvalidation-rmse:0.01121\n",
      "[66]\tvalidation-rmse:0.01120\n",
      "[67]\tvalidation-rmse:0.01120\n",
      "[68]\tvalidation-rmse:0.01119\n",
      "[69]\tvalidation-rmse:0.01118\n",
      "[70]\tvalidation-rmse:0.01118\n",
      "[71]\tvalidation-rmse:0.01117\n",
      "[72]\tvalidation-rmse:0.01116\n",
      "[73]\tvalidation-rmse:0.01116\n",
      "[74]\tvalidation-rmse:0.01116\n",
      "[75]\tvalidation-rmse:0.01116\n",
      "[76]\tvalidation-rmse:0.01116\n",
      "[77]\tvalidation-rmse:0.01116\n",
      "[78]\tvalidation-rmse:0.01115\n",
      "[79]\tvalidation-rmse:0.01115\n",
      "[80]\tvalidation-rmse:0.01115\n",
      "[81]\tvalidation-rmse:0.01115\n",
      "[82]\tvalidation-rmse:0.01115\n",
      "[83]\tvalidation-rmse:0.01115\n",
      "[84]\tvalidation-rmse:0.01114\n",
      "[85]\tvalidation-rmse:0.01114\n",
      "[86]\tvalidation-rmse:0.01113\n",
      "[87]\tvalidation-rmse:0.01113\n",
      "[88]\tvalidation-rmse:0.01113\n",
      "[89]\tvalidation-rmse:0.01112\n",
      "[90]\tvalidation-rmse:0.01112\n",
      "[91]\tvalidation-rmse:0.01112\n",
      "[92]\tvalidation-rmse:0.01111\n",
      "[93]\tvalidation-rmse:0.01111\n",
      "[94]\tvalidation-rmse:0.01111\n",
      "[95]\tvalidation-rmse:0.01111\n",
      "[96]\tvalidation-rmse:0.01111\n",
      "[97]\tvalidation-rmse:0.01110\n",
      "[98]\tvalidation-rmse:0.01110\n",
      "[99]\tvalidation-rmse:0.01110\n",
      "XGBoost RMSE: 0.011096223093436467\n"
     ]
    }
   ],
   "source": [
    "# Defining XGBoost parameters\n",
    "params = {\n",
    "    'objective': 'reg:squarederror',\n",
    "    'max_depth': 7,\n",
    "    'learning_rate': 0.1,\n",
    "    'n_estimators': 100\n",
    "}\n",
    "\n",
    "# Training the XGBoost model\n",
    "model_xgb = xgb.train(params, dtrain, num_boost_round=100, evals=[(dval, 'validation')], early_stopping_rounds=10)\n",
    "\n",
    "# Making predictions\n",
    "y_pred_xgb = model_xgb.predict(dval)\n",
    "\n",
    "# Calculating RMSE\n",
    "rmse_xgb = mean_squared_error(y_test, y_pred_xgb, squared=False)\n",
    "print(\"XGBoost RMSE:\", rmse_xgb)"
   ]
  },
  {
   "cell_type": "code",
   "execution_count": 16,
   "metadata": {},
   "outputs": [
    {
     "data": {
      "text/plain": [
       "<xgboost.core.Booster at 0x13599e1d0>"
      ]
     },
     "execution_count": 16,
     "metadata": {},
     "output_type": "execute_result"
    }
   ],
   "source": []
  },
  {
   "cell_type": "code",
   "execution_count": null,
   "metadata": {},
   "outputs": [],
   "source": []
  }
 ],
 "metadata": {
  "kernelspec": {
   "display_name": "py-311",
   "language": "python",
   "name": "python3"
  },
  "language_info": {
   "codemirror_mode": {
    "name": "ipython",
    "version": 3
   },
   "file_extension": ".py",
   "mimetype": "text/x-python",
   "name": "python",
   "nbconvert_exporter": "python",
   "pygments_lexer": "ipython3",
   "version": "3.11.0"
  },
  "orig_nbformat": 4
 },
 "nbformat": 4,
 "nbformat_minor": 2
}
