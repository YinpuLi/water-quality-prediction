{
 "cells": [
  {
   "cell_type": "markdown",
   "id": "8237dd6d",
   "metadata": {},
   "source": [
    "Multiple linear regression – Mao\n",
    "Lasso – Mao\n",
    "NN - Mao\n",
    "\n",
    "\n",
    "consider:\n",
    "1. transformation\n",
    "2. standarization normorlization\n"
   ]
  },
  {
   "cell_type": "code",
   "execution_count": 1,
   "id": "c697bd6f",
   "metadata": {},
   "outputs": [],
   "source": [
    "# change directory\n",
    "import os\n",
    "os.getcwd()\n",
    "os.chdir('./Data')"
   ]
  },
  {
   "cell_type": "code",
   "execution_count": 46,
   "id": "cbf2648c",
   "metadata": {},
   "outputs": [],
   "source": [
    "\n",
    "### for install packages\n",
    "# !conda install numpy\n",
    "\n",
    "import seaborn as sns\n",
    "import pandas as pd\n",
    "import numpy as np\n",
    "\n",
    "\n",
    "# parallel computing\n",
    "import multiprocessing\n",
    "n_jobs = multiprocessing.cpu_count()-2\n",
    "\n",
    "\n",
    "\n",
    "# metrics\n",
    "\n",
    "from sklearn.metrics import mean_squared_error, r2_score"
   ]
  },
  {
   "cell_type": "code",
   "execution_count": 3,
   "id": "0ea96304",
   "metadata": {},
   "outputs": [],
   "source": [
    "X_train = pd.read_csv('X_train.csv')\n",
    "y_train = pd.read_csv('y_train.csv')\n",
    "\n",
    "X_test = pd.read_csv('X_test.csv')\n",
    "y_test = pd.read_csv('y_test.csv')\n"
   ]
  },
  {
   "cell_type": "code",
   "execution_count": 17,
   "id": "4bef64bd",
   "metadata": {},
   "outputs": [],
   "source": [
    "# define the prediction results from different model\n",
    "\n",
    "preds = dict()"
   ]
  },
  {
   "cell_type": "markdown",
   "id": "68890125",
   "metadata": {},
   "source": [
    "## Linear Model\n",
    "\n",
    "Cite the folloiwng paper for package \"statsmodels\"\n",
    "\n",
    "@inproceedings{seabold2010statsmodels,\n",
    "  title={statsmodels: Econometric and statistical modeling with python},\n",
    "  author={Seabold, Skipper and Perktold, Josef},\n",
    "  booktitle={9th Python in Science Conference},\n",
    "  year={2010},\n",
    "}\n",
    "\n",
    "\n",
    "warm-up reference\n",
    "https://www.kirenz.com/post/2021-11-14-linear-regression-diagnostics-in-python/linear-regression-diagnostics-in-python/\n",
    "\n",
    "### Assumptions Check\n",
    "* Linear relationship.\n",
    "* Multivariate normality.\n",
    "* No or little multicollinearity.\n",
    "* No auto-correlation.\n",
    "* Homoscedasticity."
   ]
  },
  {
   "cell_type": "code",
   "execution_count": 20,
   "id": "6c032fc9",
   "metadata": {},
   "outputs": [
    {
     "name": "stdout",
     "output_type": "stream",
     "text": [
      "[[0.6623476 ]\n",
      " [0.70503039]\n",
      " [0.69890844]\n",
      " ...\n",
      " [0.69305842]\n",
      " [0.66290783]\n",
      " [0.66108489]]\n"
     ]
    }
   ],
   "source": [
    "from sklearn.linear_model import LogisticRegression, LinearRegression, ElasticNet\n",
    "\n",
    "reg_lin = LinearRegression().fit(X_train,y_train)\n",
    "\n",
    "y_pred_lin = reg_lin.predict(X_test)\n",
    "print(y_pred_lin)\n",
    "\n",
    "preds['linear regression'] = y_pred_lin"
   ]
  },
  {
   "cell_type": "markdown",
   "id": "66ab2a49",
   "metadata": {},
   "source": [
    "from itertools import chain\n",
    "def flatten_chain(matrix):\n",
    "    return list(chain.from_iterable(matrix))\n",
    "\n",
    "\n",
    "y_pred = flatten_chain(y_pred)\n",
    "print(y_pred)"
   ]
  },
  {
   "cell_type": "code",
   "execution_count": 12,
   "id": "e93a7204",
   "metadata": {},
   "outputs": [
    {
     "data": {
      "text/plain": [
       "0.00014484775086765942"
      ]
     },
     "execution_count": 12,
     "metadata": {},
     "output_type": "execute_result"
    }
   ],
   "source": [
    "mean_squared_error(y_test, y_pred)"
   ]
  },
  {
   "cell_type": "code",
   "execution_count": 21,
   "id": "a0fea582",
   "metadata": {},
   "outputs": [
    {
     "name": "stdout",
     "output_type": "stream",
     "text": [
      "[0.66437064 0.66437064 0.66437064 ... 0.66437064 0.66437064 0.66437064]\n"
     ]
    }
   ],
   "source": [
    "# lasso\n",
    "\n",
    "reg_lin_lasso = ElasticNet(random_state=0,l1_ratio=0.1).fit(X_train,y_train)\n",
    "\n",
    "y_pred_lasso = reg_lin_lasso.predict(X_test)\n",
    "print(y_pred_lasso)\n",
    "\n",
    "preds['linear regression lasso'] = y_pred_lasso"
   ]
  },
  {
   "cell_type": "code",
   "execution_count": 22,
   "id": "6f19a898",
   "metadata": {},
   "outputs": [
    {
     "data": {
      "text/plain": [
       "0.0008712945265892494"
      ]
     },
     "execution_count": 22,
     "metadata": {},
     "output_type": "execute_result"
    }
   ],
   "source": [
    "mean_squared_error(y_test, y_pred_lasso)"
   ]
  },
  {
   "cell_type": "markdown",
   "id": "571bcd1e",
   "metadata": {},
   "source": [
    "# MLP\n",
    "\n",
    "\n",
    "\n",
    "reference for scoring-parameter: evaluation metric in cross validation\n",
    "\n",
    "https://scikit-learn.org/stable/modules/model_evaluation.html#scoring-parameter"
   ]
  },
  {
   "cell_type": "code",
   "execution_count": null,
   "id": "ccccccfb",
   "metadata": {},
   "outputs": [],
   "source": [
    "from sklearn.neural_network import MLPRegressor\n",
    "\n",
    "\n",
    "from sklearn.model_selection import GridSearchCV\n",
    "\n",
    "param_grid_NN = {\n",
    "    'hidden_layer_sizes': list(zip([500,1000,2000], [300, 500, 1000])),\n",
    "    #'max_iter': [50, 100],\n",
    "    #'activation': ['tanh', 'relu'],\n",
    "    #'solver': ['sgd', 'adam'],\n",
    "    #'alpha': [0.0001, 0.05],\n",
    "    #'learning_rate': ['constant','adaptive'],\n",
    "}\n",
    "\n",
    "\n",
    "reg_NN = MLPRegressor(random_state=1, hidden_layer_sizes = (20, 20))\n",
    "\n",
    "clf_cv_nn = GridSearchCV(reg_NN, param_grid_NN, scoring = \"neg_root_mean_squared_error\",  cv = 10, n_jobs = n_jobs)\n",
    "\n",
    "y_pred_NN = CV_grid_results_nn= clf_cv_nn.fit(X_train, np.array(y_train))\n",
    "\n",
    "print(\"best_params_: {},\\n best_score_: {}\".format(CV_grid_results_nn.best_params_, CV_grid_results_nn.best_score_))\n",
    "\n"
   ]
  },
  {
   "cell_type": "code",
   "execution_count": 78,
   "id": "617ff143",
   "metadata": {},
   "outputs": [
    {
     "data": {
      "text/plain": [
       "0.0002286297544450229"
      ]
     },
     "execution_count": 78,
     "metadata": {},
     "output_type": "execute_result"
    }
   ],
   "source": [
    "y_pred_NN = CV_grid_results_nn.predict(X_test)\n",
    "preds['MLP'] = y_pred_NN\n",
    "\n",
    "mean_squared_error(y_test, y_pred_NN)"
   ]
  },
  {
   "cell_type": "code",
   "execution_count": 66,
   "id": "d4670785",
   "metadata": {},
   "outputs": [
    {
     "data": {
      "text/plain": [
       "[(1, 3), (2, 5), (3, 6)]"
      ]
     },
     "execution_count": 66,
     "metadata": {},
     "output_type": "execute_result"
    }
   ],
   "source": [
    "list(zip([1 ,2 ,3], [3 ,5 ,6]))"
   ]
  },
  {
   "cell_type": "code",
   "execution_count": null,
   "id": "42586da9",
   "metadata": {},
   "outputs": [],
   "source": [
    "\n",
    "\n",
    "######  Train_target_prediction (this is used for elastc net)\n",
    "\n",
    "Train_target_pre = CV_grid_results.predict(X)\n",
    "\n",
    "reg_NN = MLPRegressor(random_state=1, hidden_layer_sizes = (20, 20)).fit(X_train, np.array(y_train))\n",
    "\n",
    "y_pred_NN = reg_NN.predict(X_test)\n",
    "\n",
    "\n",
    "preds['MLP'] = y_pred_NN\n",
    "\n",
    "mean_squared_error(y_test, y_pred_NN)"
   ]
  },
  {
   "cell_type": "code",
   "execution_count": null,
   "id": "bf5907bb",
   "metadata": {},
   "outputs": [],
   "source": []
  },
  {
   "cell_type": "code",
   "execution_count": null,
   "id": "465a0cfd",
   "metadata": {},
   "outputs": [],
   "source": []
  },
  {
   "cell_type": "code",
   "execution_count": null,
   "id": "3c51720f",
   "metadata": {},
   "outputs": [],
   "source": []
  },
  {
   "cell_type": "code",
   "execution_count": null,
   "id": "5e640218",
   "metadata": {},
   "outputs": [],
   "source": []
  },
  {
   "cell_type": "code",
   "execution_count": null,
   "id": "d7873302",
   "metadata": {},
   "outputs": [],
   "source": []
  },
  {
   "cell_type": "code",
   "execution_count": null,
   "id": "56ef534e",
   "metadata": {},
   "outputs": [],
   "source": []
  },
  {
   "cell_type": "code",
   "execution_count": null,
   "id": "8095f02a",
   "metadata": {},
   "outputs": [],
   "source": []
  },
  {
   "cell_type": "code",
   "execution_count": null,
   "id": "cc1ae6c3",
   "metadata": {},
   "outputs": [],
   "source": []
  },
  {
   "cell_type": "code",
   "execution_count": null,
   "id": "469f2a4d",
   "metadata": {},
   "outputs": [],
   "source": []
  },
  {
   "cell_type": "code",
   "execution_count": null,
   "id": "5c919c56",
   "metadata": {},
   "outputs": [],
   "source": []
  },
  {
   "cell_type": "code",
   "execution_count": null,
   "id": "4b2626b3",
   "metadata": {},
   "outputs": [],
   "source": []
  },
  {
   "cell_type": "code",
   "execution_count": 30,
   "id": "9b41fed5",
   "metadata": {},
   "outputs": [],
   "source": [
    "from statsmodels.compat import lzip\n",
    "import statsmodels.api as sm\n",
    "import statsmodels.stats.api as sms\n",
    "import statsmodels.formula.api as smf"
   ]
  },
  {
   "cell_type": "code",
   "execution_count": 31,
   "id": "0bcb8f22",
   "metadata": {},
   "outputs": [
    {
     "name": "stdout",
     "output_type": "stream",
     "text": [
      "       const        X1        X2        X3        X4        X5        X6  \\\n",
      "0        1.0  0.001131  0.884615  0.001120  0.001113  0.677632  0.841463   \n",
      "1        1.0  0.001170  0.871795  0.001159  0.001152  0.703947  0.829268   \n",
      "2        1.0  0.001326  0.884615  0.001198  0.001250  0.677632  0.853659   \n",
      "3        1.0  0.014094  0.858974  0.001238  0.003926  0.697368  0.829268   \n",
      "4        1.0  0.088109  0.858974  0.010766  0.029297  0.684211  0.853659   \n",
      "...      ...       ...       ...       ...       ...       ...       ...   \n",
      "15646    1.0  0.005049  0.910256  0.004676  0.004883  0.888158  0.939024   \n",
      "15647    1.0  0.002456  0.884615  0.002417  0.002422  0.644737  0.865854   \n",
      "15648    1.0  0.003821  0.935897  0.003615  0.003750  0.559211  0.890244   \n",
      "15649    1.0  0.001287  0.897436  0.001277  0.001289  0.631579  0.853659   \n",
      "15650    1.0  0.001267  0.935897  0.001238  0.001230  0.611842  0.890244   \n",
      "\n",
      "             X7        X8        X9       X10       X11  \n",
      "0      0.765152  0.787402  0.293750  0.298077  0.276163  \n",
      "1      0.772727  0.795276  0.293750  0.301282  0.276163  \n",
      "2      0.750000  0.755906  0.300000  0.298077  0.287791  \n",
      "3      0.772727  0.771654  0.296875  0.294872  0.279070  \n",
      "4      0.765152  0.755906  0.296875  0.291667  0.281977  \n",
      "...         ...       ...       ...       ...       ...  \n",
      "15646  0.719697  0.535433  0.553125  0.490385  0.584302  \n",
      "15647  0.651515  0.622047  0.556250  0.522436  0.584302  \n",
      "15648  0.636364  0.645669  0.571875  0.554487  0.561047  \n",
      "15649  0.712121  0.724409  0.468750  0.464744  0.462209  \n",
      "15650  0.681818  0.692913  0.515625  0.503205  0.523256  \n",
      "\n",
      "[15651 rows x 12 columns]\n"
     ]
    }
   ],
   "source": [
    "# add a const feature\n",
    "X_train_linear_reg= sm.add_constant(X_train)\n",
    "print(X_train_linear_reg)"
   ]
  },
  {
   "cell_type": "code",
   "execution_count": 38,
   "id": "a6dd7aab",
   "metadata": {},
   "outputs": [],
   "source": [
    "reg_lin = sm.OLS(y_train,X_train_linear_reg).fit()"
   ]
  },
  {
   "cell_type": "code",
   "execution_count": 43,
   "id": "e8e61d58",
   "metadata": {},
   "outputs": [
    {
     "data": {
      "text/plain": [
       "0.00014484775086765896"
      ]
     },
     "execution_count": 43,
     "metadata": {},
     "output_type": "execute_result"
    }
   ],
   "source": [
    "y_pred = reg_lin.predict(sm.add_constant(X_test))\n",
    "\n",
    "\n",
    "\n",
    "mean_squared_error(y_pred,y_test)"
   ]
  },
  {
   "cell_type": "code",
   "execution_count": 32,
   "id": "bbf8e3e7",
   "metadata": {},
   "outputs": [],
   "source": [
    "reg_lin = sm.OLS(y_train,X_train_linear_reg).fit_regularized(L1_wt=1.0)"
   ]
  },
  {
   "cell_type": "code",
   "execution_count": 35,
   "id": "18c97c47",
   "metadata": {},
   "outputs": [
    {
     "data": {
      "text/plain": [
       "0.0005409097955507732"
      ]
     },
     "execution_count": 35,
     "metadata": {},
     "output_type": "execute_result"
    }
   ],
   "source": [
    "y_test = reg_lin.predict(sm.add_constant(X_test))\n",
    "mean_squared_error(y_pred,y_test)"
   ]
  },
  {
   "cell_type": "code",
   "execution_count": 72,
   "id": "3f471561",
   "metadata": {},
   "outputs": [
    {
     "name": "stdout",
     "output_type": "stream",
     "text": [
      "const   -0.014333\n",
      "X1       0.093784\n",
      "X2      -0.161030\n",
      "X3       0.087370\n",
      "X4      -0.174583\n",
      "X5       0.201258\n",
      "X6       0.921421\n",
      "X7      -0.188616\n",
      "X8       0.037791\n",
      "X9      -0.052602\n",
      "X10      0.012023\n",
      "X11      0.055132\n",
      "dtype: float64\n"
     ]
    }
   ],
   "source": [
    "reg_lin = sm.OLS(y_train,X_train_linear_reg).fit()\n",
    "print(reg_lin.params )"
   ]
  },
  {
   "cell_type": "code",
   "execution_count": 30,
   "id": "24065bc2",
   "metadata": {
    "scrolled": true
   },
   "outputs": [
    {
     "data": {
      "image/png": "[encoded data removed]",
      "text/plain": [
       "<Figure size 640x480 with 1 Axes>"
      ]
     },
     "metadata": {},
     "output_type": "display_data"
    }
   ],
   "source": [
    "# Influence tests\n",
    "fig = sm.graphics.influence_plot(reg_lin, criterion=\"cooks\")\n",
    "fig.tight_layout(pad=1.0)"
   ]
  },
  {
   "cell_type": "markdown",
   "id": "d63235de",
   "metadata": {},
   "source": [
    "#### Normality of the residuals\n",
    "<span style='color:Red'> Fail </span>"
   ]
  },
  {
   "cell_type": "code",
   "execution_count": 37,
   "id": "80be97e8",
   "metadata": {
    "scrolled": true
   },
   "outputs": [
    {
     "data": {
      "text/plain": [
       "[('Jarque-Bera', 4809643.659348884),\n",
       " ('Chi^2 two-tail prob.', 0.0),\n",
       " ('Skew', 5.4433685224489885),\n",
       " ('Kurtosis', 88.18696526674321)]"
      ]
     },
     "execution_count": 37,
     "metadata": {},
     "output_type": "execute_result"
    }
   ],
   "source": [
    "# Jarque-Bera test:\n",
    "name_norm_test = [\"Jarque-Bera\", \"Chi^2 two-tail prob.\", \"Skew\", \"Kurtosis\"]\n",
    "norm_test = sms.jarque_bera(reg_lin.resid)\n",
    "lzip(name_norm_test, norm_test)"
   ]
  },
  {
   "cell_type": "markdown",
   "id": "950ac945",
   "metadata": {},
   "source": [
    "#### No auto-correlation.\n",
    "\n",
    " pass "
   ]
  },
  {
   "cell_type": "markdown",
   "id": "ad28f050",
   "metadata": {},
   "source": [
    " Influence plots\n",
    "\n",
    "fig = sm.graphics.influence_plot(lm, criterion=\"cooks\")\n",
    "fig.tight_layout(pad=1.0)"
   ]
  },
  {
   "cell_type": "code",
   "execution_count": 41,
   "id": "532d5f98",
   "metadata": {
    "scrolled": true
   },
   "outputs": [
    {
     "data": {
      "text/plain": [
       "1.7726215570049335"
      ]
     },
     "execution_count": 41,
     "metadata": {},
     "output_type": "execute_result"
    }
   ],
   "source": [
    "sm.stats.durbin_watson(reg_lin.resid)"
   ]
  }
 ],
 "metadata": {
  "kernelspec": {
   "display_name": "Python 3 (ipykernel)",
   "language": "python",
   "name": "python3"
  },
  "language_info": {
   "codemirror_mode": {
    "name": "ipython",
    "version": 3
   },
   "file_extension": ".py",
   "mimetype": "text/x-python",
   "name": "python",
   "nbconvert_exporter": "python",
   "pygments_lexer": "ipython3",
   "version": "3.11.4"
  }
 },
 "nbformat": 4,
 "nbformat_minor": 5
}
